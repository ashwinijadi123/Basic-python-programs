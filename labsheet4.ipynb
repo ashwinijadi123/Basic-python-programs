{
  "nbformat": 4,
  "nbformat_minor": 0,
  "metadata": {
    "colab": {
      "provenance": [],
      "authorship_tag": "ABX9TyOaGCpKpZDT6SfbOpZeLCRN",
      "include_colab_link": true
    },
    "kernelspec": {
      "name": "python3",
      "display_name": "Python 3"
    },
    "language_info": {
      "name": "python"
    }
  },
  "cells": [
    {
      "cell_type": "markdown",
      "metadata": {
        "id": "view-in-github",
        "colab_type": "text"
      },
      "source": [
        "<a href=\"https://colab.research.google.com/github/ashwinijadi123/Basic-python-programs/blob/main/labsheet4.ipynb\" target=\"_parent\"><img src=\"https://colab.research.google.com/assets/colab-badge.svg\" alt=\"Open In Colab\"/></a>"
      ]
    },
    {
      "cell_type": "code",
      "execution_count": null,
      "metadata": {
        "colab": {
          "base_uri": "https://localhost:8080/"
        },
        "id": "HsB1nn7ZNPlo",
        "outputId": "cafa1467-c304-4d65-97a6-79ee01f4648b"
      },
      "outputs": [
        {
          "output_type": "stream",
          "name": "stdout",
          "text": [
            "enter your number:madam\n",
            "it is a palindrome\n"
          ]
        }
      ],
      "source": [
        "#question-4 palindrome using function\n",
        "def palindrome():\n",
        "  x=input(\"enter your number:\")\n",
        "  if x==x[::-1]:\n",
        "     print(\"it is a palindrome\")\n",
        "  else:\n",
        "     print(\"it is not a palindrome\")\n",
        "palindrome()"
      ]
    },
    {
      "cell_type": "code",
      "source": [
        "#question-6 factorial of given number using function\n",
        "import math\n",
        "def  factorial():\n",
        "   x=int(input(\"enter your num:\"))\n",
        "   y=math.factorial(x)\n",
        "   print(y)\n",
        "factorial()"
      ],
      "metadata": {
        "colab": {
          "base_uri": "https://localhost:8080/"
        },
        "id": "LVC02YfFQ-O6",
        "outputId": "5645c7de-ca35-4cd0-a1ff-5a4caa7fec51"
      },
      "execution_count": null,
      "outputs": [
        {
          "output_type": "stream",
          "name": "stdout",
          "text": [
            "enter your num:5\n",
            "120\n"
          ]
        }
      ]
    },
    {
      "cell_type": "code",
      "source": [
        "#question-6 factorial of given number using function\n",
        "import math\n",
        "def  factorial(x):\n",
        "   i=1\n",
        "   fact=1\n",
        "   while i<=x:\n",
        "      fact=fact*i\n",
        "      i=i+1\n",
        "   print(fact)\n",
        "factorial(3)\n",
        "factorial(5)"
      ],
      "metadata": {
        "colab": {
          "base_uri": "https://localhost:8080/"
        },
        "id": "dhQx_nYCS7lC",
        "outputId": "b8d18d73-af43-4678-e560-a49ab9b0e6dc"
      },
      "execution_count": null,
      "outputs": [
        {
          "output_type": "stream",
          "name": "stdout",
          "text": [
            "6\n",
            "120\n"
          ]
        }
      ]
    },
    {
      "cell_type": "code",
      "source": [
        "#question-11 count the no of vowels and consonents in the string\n",
        "\n",
        "x=input(\"enter your str:\")\n",
        "count=0\n",
        "consonant_count=0\n",
        "for i in (x ):\n",
        "   if i==\"a\" or i==\"e\" or i==\"i\" or i==\"o\" or i==\"u\":\n",
        "      count=count+1\n",
        "      print(\"the count of vowel is:\",count)\n",
        "   else:\n",
        "      consonant_count=consonant_count+1\n",
        "print(\"the consonant count is\",consonant_count)"
      ],
      "metadata": {
        "colab": {
          "base_uri": "https://localhost:8080/"
        },
        "id": "PMr3Ob6XT-B0",
        "outputId": "d8d6a783-e339-4d8a-f48e-01a58be3147a"
      },
      "execution_count": null,
      "outputs": [
        {
          "output_type": "stream",
          "name": "stdout",
          "text": [
            "enter your str:anu\n",
            "the count of vowel is: 1\n",
            "the count of vowel is: 2\n",
            "the consonant count is 1\n"
          ]
        }
      ]
    },
    {
      "cell_type": "code",
      "source": [
        "#question-5 pangram program using function\n",
        "def pangram():\n",
        "  y=input(\"enter your str:\")\n",
        "  if y.isalpha():\n",
        "      print(\"it is a pangram\")\n",
        "  else:\n",
        "      print(\"it is not a pangram\")\n",
        "pangram()"
      ],
      "metadata": {
        "colab": {
          "base_uri": "https://localhost:8080/"
        },
        "id": "vFpREoPnk2kl",
        "outputId": "f9292422-1a56-4873-84aa-857b4d6c10c6"
      },
      "execution_count": null,
      "outputs": [
        {
          "output_type": "stream",
          "name": "stdout",
          "text": [
            "enter your str:ashwini,\n",
            "it is not a pangram\n"
          ]
        }
      ]
    },
    {
      "cell_type": "code",
      "source": [
        "#question-2 count the number of lowecase and uppercase letters using function\n",
        "def upper_lower():\n",
        "  y=input(\"enter your str:\")\n",
        "  u=0\n",
        "  l=0\n",
        "  for i in y:\n",
        "     if i.isupper():\n",
        "        u=u+1\n",
        "        print(\"the count of upper letters is:\",u)\n",
        "     elif i.islower() :\n",
        "        l=l+1\n",
        "  print(\"the count of lowercase letters is:\",l)\n",
        "upper_lower()"
      ],
      "metadata": {
        "colab": {
          "base_uri": "https://localhost:8080/"
        },
        "id": "2ngyD8WMn34V",
        "outputId": "5bd5ad06-05ff-4cfa-8be3-3c267cec40c8"
      },
      "execution_count": null,
      "outputs": [
        {
          "output_type": "stream",
          "name": "stdout",
          "text": [
            "enter your str:ashjADHJG\n",
            "the count of upper letters is: 1\n",
            "the count of upper letters is: 2\n",
            "the count of upper letters is: 3\n",
            "the count of upper letters is: 4\n",
            "the count of upper letters is: 5\n",
            "the count of lowercase letters is: 4\n"
          ]
        }
      ]
    },
    {
      "cell_type": "code",
      "source": [
        "#question-10\n",
        "s=\"Hello, World!\"\n",
        "while (1):\n",
        "  print(\"1.upper \\n 2.lower \\n 3.removing spaces \\n 4.replace \\n 5.exit \\n\")\n",
        "  x=int(input(\"enter your choice:\"))\n",
        "  if x==1:\n",
        "    print(s.upper())\n",
        "  elif x==2:\n",
        "    print(s.lower())\n",
        "  elif x==3:\n",
        "    print(s.strip())\n",
        "  elif x==4:\n",
        "    print(s.replace(\"World\",\"learner\"))\n",
        "  else:\n",
        "     print(\"invalid choice\")\n",
        "     break"
      ],
      "metadata": {
        "colab": {
          "base_uri": "https://localhost:8080/"
        },
        "id": "48PwwgRGqtdl",
        "outputId": "7360d812-3b4b-4d25-a0c0-03e2f200835d"
      },
      "execution_count": null,
      "outputs": [
        {
          "output_type": "stream",
          "name": "stdout",
          "text": [
            "1.upper \n",
            " 2.lower \n",
            " 3.removing spaces \n",
            " 4.replace \n",
            " 5.exit \n",
            "\n",
            "enter your choice:1\n",
            "HELLO, WORLD!\n",
            "1.upper \n",
            " 2.lower \n",
            " 3.removing spaces \n",
            " 4.replace \n",
            " 5.exit \n",
            "\n",
            "enter your choice:2\n",
            "hello, world!\n",
            "1.upper \n",
            " 2.lower \n",
            " 3.removing spaces \n",
            " 4.replace \n",
            " 5.exit \n",
            "\n",
            "enter your choice:3\n",
            "Hello, World!\n",
            "1.upper \n",
            " 2.lower \n",
            " 3.removing spaces \n",
            " 4.replace \n",
            " 5.exit \n",
            "\n",
            "enter your choice:4\n",
            "Hello, learner!\n",
            "1.upper \n",
            " 2.lower \n",
            " 3.removing spaces \n",
            " 4.replace \n",
            " 5.exit \n",
            "\n",
            "enter your choice:5\n",
            "invalid choice\n"
          ]
        }
      ]
    },
    {
      "cell_type": "code",
      "source": [
        "#question-9\n",
        "s=\"Hello, World!\"\n",
        "while (1):\n",
        "  print(\"1.len \\n 2.first char \\n 3.last char \\n 4.middle_letter \\n 5.exit \\n\")\n",
        "  x=int(input(\"enter your choice:\"))\n",
        "  if x==1:\n",
        "    print(len(s))\n",
        "  elif x==2:\n",
        "    print(s[0])\n",
        "  elif x==3:\n",
        "    print(s[-1])\n",
        "  elif x==4:\n",
        "    y=len(s)//2\n",
        "    if len(s)%2==0:\n",
        "        print(y)\n",
        "    else:\n",
        "        print(y,y+1)\n",
        "  else:\n",
        "     print(\"invalid choice\")\n",
        "     break"
      ],
      "metadata": {
        "colab": {
          "base_uri": "https://localhost:8080/"
        },
        "id": "k-kLNdrS5fa-",
        "outputId": "bfa180e9-78a9-4384-9cfa-a36545ebb5e5"
      },
      "execution_count": null,
      "outputs": [
        {
          "output_type": "stream",
          "name": "stdout",
          "text": [
            "1.len \n",
            " 2.first char \n",
            " 3.last char \n",
            " 4.middle_letter \n",
            " 5.exit \n",
            "\n",
            "enter your choice:1\n",
            "13\n",
            "1.len \n",
            " 2.first char \n",
            " 3.last char \n",
            " 4.middle_letter \n",
            " 5.exit \n",
            "\n",
            "enter your choice:2\n",
            "H\n",
            "1.len \n",
            " 2.first char \n",
            " 3.last char \n",
            " 4.middle_letter \n",
            " 5.exit \n",
            "\n",
            "enter your choice:3\n",
            "!\n",
            "1.len \n",
            " 2.first char \n",
            " 3.last char \n",
            " 4.middle_letter \n",
            " 5.exit \n",
            "\n",
            "enter your choice:4\n",
            "6 7\n"
          ]
        }
      ]
    },
    {
      "cell_type": "code",
      "source": [
        "#question-3 multiply all arguments\n",
        "def multiply_all_arguments(*args):\n",
        "     x=1\n",
        "     for i in args:\n",
        "        x=x*i\n",
        "     print(x)\n",
        "multiply_all_arguments (2,3,4,5)\n",
        "multiply_all_arguments(3,4,5)"
      ],
      "metadata": {
        "colab": {
          "base_uri": "https://localhost:8080/"
        },
        "id": "suD6ce1wBfxT",
        "outputId": "2d2db3e0-fca3-40a9-af31-69af8eee12f3"
      },
      "execution_count": null,
      "outputs": [
        {
          "output_type": "stream",
          "name": "stdout",
          "text": [
            "120\n",
            "60\n"
          ]
        }
      ]
    },
    {
      "cell_type": "code",
      "source": [
        "for i in range(2,11) :\n",
        "   for j in range (2,i):\n",
        "        if i%j==0:\n",
        "           break\n",
        "   else:\n",
        "          print(i)"
      ],
      "metadata": {
        "colab": {
          "base_uri": "https://localhost:8080/"
        },
        "id": "VomtKhwl8Myk",
        "outputId": "6670c561-fa51-43c3-8544-56234eeffcc4"
      },
      "execution_count": null,
      "outputs": [
        {
          "output_type": "stream",
          "name": "stdout",
          "text": [
            "2\n",
            "3\n",
            "5\n",
            "7\n"
          ]
        }
      ]
    },
    {
      "cell_type": "code",
      "source": [
        "def prime():\n",
        "   for i in range(2,11) :\n",
        "      for j in range (2,i):\n",
        "        if i%j==0:\n",
        "           break\n",
        "      else:\n",
        "          print(i)\n",
        "prime()"
      ],
      "metadata": {
        "colab": {
          "base_uri": "https://localhost:8080/"
        },
        "id": "5049Av3oDXBK",
        "outputId": "b7dcf7fa-43c5-4983-8c80-cd1d635d4cd6"
      },
      "execution_count": null,
      "outputs": [
        {
          "output_type": "stream",
          "name": "stdout",
          "text": [
            "2\n",
            "3\n",
            "5\n",
            "7\n"
          ]
        }
      ]
    },
    {
      "cell_type": "code",
      "source": [
        "#question-15 to count no of words in a string\n",
        "str=input(\"enter your string:\")\n",
        "count=0\n",
        "for i in (str):\n",
        "    count=count+1\n",
        "print(\"the count of the string is \",count)"
      ],
      "metadata": {
        "colab": {
          "base_uri": "https://localhost:8080/"
        },
        "id": "O1K0qTuGnm3W",
        "outputId": "b61b2885-2a95-408c-9e81-9215c2785831"
      },
      "execution_count": null,
      "outputs": [
        {
          "output_type": "stream",
          "name": "stdout",
          "text": [
            "enter your string:ashwini\n",
            "the count of the string is  7\n"
          ]
        }
      ]
    },
    {
      "cell_type": "code",
      "source": [
        "#question-15 to remove all punctuation marks from a string\n",
        "y=input(\"enter your str:\")\n",
        "if (1):\n",
        "     x= y.isalpha()\n",
        "else:\n",
        "      print(\"try again\")"
      ],
      "metadata": {
        "colab": {
          "base_uri": "https://localhost:8080/"
        },
        "id": "84vWIjNzqIWj",
        "outputId": "c199dff9-d676-4a53-e5e4-3355d4b6f961"
      },
      "execution_count": null,
      "outputs": [
        {
          "output_type": "stream",
          "name": "stdout",
          "text": [
            "enter your str:ashwimi;!\n",
            "False\n"
          ]
        }
      ]
    },
    {
      "cell_type": "code",
      "source": [
        "s=input(\"enter your string:\")\n",
        "y=\"\"\n",
        "for ch in s:\n",
        "    if ch not in y:\n",
        "        y=y+ch\n",
        "print(y)"
      ],
      "metadata": {
        "colab": {
          "base_uri": "https://localhost:8080/"
        },
        "id": "PSoItl1KbeAn",
        "outputId": "538579f1-3427-40c6-9f67-ca173941ebd8"
      },
      "execution_count": null,
      "outputs": [
        {
          "output_type": "stream",
          "name": "stdout",
          "text": [
            "enter your string:Aacdcdghnss\n",
            "Aacdghns\n"
          ]
        }
      ]
    },
    {
      "cell_type": "code",
      "source": [
        "#question -1\n",
        "def checkrange(n,low,high):\n",
        "     if n>=low and n<=high:\n",
        "          print(\"{}, is in range\".format(n))\n",
        "     else:\n",
        "          print(\"{}, is not in range\".format(n))\n",
        "checkrange (n=5,low=2,high=10)"
      ],
      "metadata": {
        "colab": {
          "base_uri": "https://localhost:8080/"
        },
        "id": "AfcfrM8gGJ1H",
        "outputId": "d0167be1-93eb-403d-853d-60a7a2daecc9"
      },
      "execution_count": null,
      "outputs": [
        {
          "output_type": "stream",
          "name": "stdout",
          "text": [
            "5, is in range\n"
          ]
        }
      ]
    },
    {
      "cell_type": "code",
      "source": [
        "# question-7 gcd using function\n",
        "def gcd(x, y):\n",
        "   if x>y:\n",
        "       small=y\n",
        "   else:\n",
        "      small=x\n",
        "      for i in range (1,small+1):\n",
        "          if x%i==0 and y%i==0:\n",
        "              gcd=i\n",
        "      print(\"the gcd of a given number is\",gcd)\n",
        "gcd(48,60)"
      ],
      "metadata": {
        "id": "ly81cQgHk0Yq",
        "colab": {
          "base_uri": "https://localhost:8080/"
        },
        "outputId": "273da1a7-73c8-426d-9cbc-0633203ff5b5"
      },
      "execution_count": null,
      "outputs": [
        {
          "output_type": "stream",
          "name": "stdout",
          "text": [
            "the gcd of a given number is 12\n"
          ]
        }
      ]
    },
    {
      "cell_type": "code",
      "source": [
        "#question  hcf using function\n",
        "def hcf(x,y):\n",
        "  if x>y:\n",
        "     n=y\n",
        "  else:\n",
        "     n=x\n",
        "     z=[]\n",
        "     for i in range(1,n+1):\n",
        "       if x%i==0 and y%i==0:\n",
        "          z.append(i)\n",
        "     print(z[-1])\n",
        "hcf(20,30)\n",
        "hcf(25,50)"
      ],
      "metadata": {
        "colab": {
          "base_uri": "https://localhost:8080/"
        },
        "id": "QAj6NciuvCTj",
        "outputId": "11d36e9d-43e1-4501-a613-f0be7ce0319d"
      },
      "execution_count": 1,
      "outputs": [
        {
          "output_type": "stream",
          "name": "stdout",
          "text": [
            "10\n",
            "25\n"
          ]
        }
      ]
    },
    {
      "cell_type": "code",
      "source": [
        "x=input(\"enter ur str:\")\n",
        "z=x.split()\n",
        "print(z)\n",
        "c=0\n",
        "for element  in (z):\n",
        "  c=c+1\n",
        "print(c)\n"
      ],
      "metadata": {
        "colab": {
          "base_uri": "https://localhost:8080/"
        },
        "id": "Rp3WqHmH0kJU",
        "outputId": "0ab6ee7c-4e70-4655-9c9c-d4d8d0934a10"
      },
      "execution_count": null,
      "outputs": [
        {
          "output_type": "stream",
          "name": "stdout",
          "text": [
            "enter ur strash h r u\n",
            "['ash', 'h', 'r', 'u']\n",
            "4\n"
          ]
        }
      ]
    },
    {
      "cell_type": "code",
      "source": [
        "x=input(\"enter ur str:\")\n",
        "z=x.split()\n",
        "print(z)\n",
        "a=max(z,key=len)\n",
        "print(a)\n"
      ],
      "metadata": {
        "colab": {
          "base_uri": "https://localhost:8080/"
        },
        "id": "4q6_k6oX2Y2t",
        "outputId": "5987f34f-cd88-4094-82fe-2e56113ec282"
      },
      "execution_count": null,
      "outputs": [
        {
          "output_type": "stream",
          "name": "stdout",
          "text": [
            "enter ur str:ash h r u\n",
            "['ash', 'h', 'r', 'u']\n",
            "ash\n"
          ]
        }
      ]
    },
    {
      "cell_type": "code",
      "source": [
        "x=\"ashwini\"\n",
        "y=len(x)//2\n",
        "if len(x)%2==0:\n",
        "    print(y)\n",
        "else:\n",
        "    print(y,y+1)"
      ],
      "metadata": {
        "colab": {
          "base_uri": "https://localhost:8080/"
        },
        "id": "vXpClyL05jVT",
        "outputId": "b5abcb94-128a-416d-ef69-9a96b73f35fc"
      },
      "execution_count": null,
      "outputs": [
        {
          "output_type": "stream",
          "name": "stdout",
          "text": [
            "3 4\n"
          ]
        }
      ]
    },
    {
      "cell_type": "code",
      "source": [
        "s=input(\"enter your string:\")\n",
        "y=\"\"\"#,₹,_,&,-,+,(,),/,*,\",',:,;,!,?,@,<,~,`,|,•,√,π,÷,=,{,},\\,],[,℅,™,®,©,%,$,¢,€,£,>\"\"\"\n",
        "x=\"\"\n",
        "for ch in s:\n",
        "    if ch not in y:\n",
        "        x=x+ch\n",
        "print(x)"
      ],
      "metadata": {
        "colab": {
          "base_uri": "https://localhost:8080/"
        },
        "id": "t83S9oE8H5yy",
        "outputId": "34d413b2-c203-47c0-b989-1e05872d8485"
      },
      "execution_count": 5,
      "outputs": [
        {
          "output_type": "stream",
          "name": "stdout",
          "text": [
            "enter your string:ashwini, how r u madam!! \n",
            "ashwini how r u madam \n"
          ]
        }
      ]
    }
  ]
}