{
  "nbformat": 4,
  "nbformat_minor": 0,
  "metadata": {
    "colab": {
      "provenance": [],
      "authorship_tag": "ABX9TyOWYbxXPM8Aounq5Dk4Qg2j",
      "include_colab_link": true
    },
    "kernelspec": {
      "name": "python3",
      "display_name": "Python 3"
    },
    "language_info": {
      "name": "python"
    }
  },
  "cells": [
    {
      "cell_type": "markdown",
      "metadata": {
        "id": "view-in-github",
        "colab_type": "text"
      },
      "source": [
        "<a href=\"https://colab.research.google.com/github/ashwinijadi123/Basic-python-programs/blob/main/Copy_of_practice_prgms_.ipynb\" target=\"_parent\"><img src=\"https://colab.research.google.com/assets/colab-badge.svg\" alt=\"Open In Colab\"/></a>"
      ]
    },
    {
      "cell_type": "code",
      "execution_count": null,
      "metadata": {
        "colab": {
          "base_uri": "https://localhost:8080/"
        },
        "id": "Gbqr5tkxeOyJ",
        "outputId": "fe95c0e0-b5c4-47c9-a1af-c2ecc5fcc85b"
      },
      "outputs": [
        {
          "output_type": "stream",
          "name": "stdout",
          "text": [
            "8\n"
          ]
        }
      ],
      "source": [
        "def myfunction(a,b):\n",
        "    s=a+b\n",
        "    print(s)\n",
        "myfunction(3,5)"
      ]
    },
    {
      "cell_type": "code",
      "source": [
        "def function():\n",
        "   print(\"hello ashwini\")\n",
        "function()"
      ],
      "metadata": {
        "colab": {
          "base_uri": "https://localhost:8080/"
        },
        "id": "m-drp1oBe_nX",
        "outputId": "5e3c487f-9bf1-4494-e7ee-7583e4945b06"
      },
      "execution_count": null,
      "outputs": [
        {
          "output_type": "stream",
          "name": "stdout",
          "text": [
            "hello ashwini\n"
          ]
        }
      ]
    },
    {
      "cell_type": "code",
      "source": [
        "class Student():\n",
        "   def function(self):\n",
        "      print(\"hi all\")\n",
        "a=Student()\n",
        "a.function()"
      ],
      "metadata": {
        "colab": {
          "base_uri": "https://localhost:8080/"
        },
        "id": "CiQrG6uZfYe1",
        "outputId": "9302f65f-ef9e-4873-df1f-eed8afbe50a4"
      },
      "execution_count": null,
      "outputs": [
        {
          "output_type": "stream",
          "name": "stdout",
          "text": [
            "hi all\n"
          ]
        }
      ]
    },
    {
      "cell_type": "code",
      "source": [
        "def hello(a=3):\n",
        "   a=10\n",
        "   b=5\n",
        "   c=a*b\n",
        "   return(c)\n",
        "hello()\n"
      ],
      "metadata": {
        "colab": {
          "base_uri": "https://localhost:8080/"
        },
        "id": "CUeHzmpWgplr",
        "outputId": "b29545c2-6388-415e-96f1-58690dcc0af4"
      },
      "execution_count": null,
      "outputs": [
        {
          "output_type": "execute_result",
          "data": {
            "text/plain": [
              "50"
            ]
          },
          "metadata": {},
          "execution_count": 13
        }
      ]
    },
    {
      "cell_type": "code",
      "source": [
        "def  hello():\n",
        "    \"\"\"this is a function\"\"\"\n",
        "    a=5\n",
        "    d=5\n",
        "hello()"
      ],
      "metadata": {
        "id": "GM728QpxhwdI"
      },
      "execution_count": null,
      "outputs": []
    },
    {
      "cell_type": "code",
      "source": [
        "#positional arguments\n",
        "def bascket(a,b):\n",
        "    count=0\n",
        "    print(\"ahwini\")\n",
        "    count=count+1\n",
        "bascket(3,5)\n",
        "\n",
        "\n"
      ],
      "metadata": {
        "colab": {
          "base_uri": "https://localhost:8080/"
        },
        "id": "I8EEXj0WidLU",
        "outputId": "5d0a1468-e37c-404f-b9da-da49c53d2a28"
      },
      "execution_count": null,
      "outputs": [
        {
          "output_type": "stream",
          "name": "stdout",
          "text": [
            "ahwini\n"
          ]
        }
      ]
    },
    {
      "cell_type": "code",
      "source": [
        "\n",
        "class Flower():\n",
        "    def village(self):\n",
        "\n",
        "      print(\"my favourite flower is ......\")\n",
        "\n",
        "s2=Flower()\n",
        "s2.village()"
      ],
      "metadata": {
        "colab": {
          "base_uri": "https://localhost:8080/"
        },
        "id": "7H0E2GK3kRPZ",
        "outputId": "08509ea1-eab0-46f1-c4a8-68009a2dc0e1"
      },
      "execution_count": null,
      "outputs": [
        {
          "output_type": "stream",
          "name": "stdout",
          "text": [
            "my favourite flower is ......\n"
          ]
        }
      ]
    },
    {
      "cell_type": "code",
      "source": [
        "x=int(5)\n",
        "print(x)"
      ],
      "metadata": {
        "colab": {
          "base_uri": "https://localhost:8080/"
        },
        "id": "iVSGTXWwhiGn",
        "outputId": "18aefbbe-4e6e-4ac2-bf7f-1531fe53c815"
      },
      "execution_count": null,
      "outputs": [
        {
          "output_type": "stream",
          "name": "stdout",
          "text": [
            "5\n"
          ]
        }
      ]
    }
  ]
}