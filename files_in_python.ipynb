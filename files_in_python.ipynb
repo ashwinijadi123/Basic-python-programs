{
  "cells": [
    {
      "cell_type": "markdown",
      "metadata": {
        "id": "view-in-github",
        "colab_type": "text"
      },
      "source": [
        "<a href=\"https://colab.research.google.com/github/ashwinijadi123/Basic-python-programs/blob/main/files_in_python.ipynb\" target=\"_parent\"><img src=\"https://colab.research.google.com/assets/colab-badge.svg\" alt=\"Open In Colab\"/></a>"
      ]
    },
    {
      "cell_type": "markdown",
      "metadata": {
        "id": "RKEqsLx2nnD8"
      },
      "source": [
        "1. Write a program to copy the contents of a file to another"
      ]
    },
    {
      "cell_type": "code",
      "execution_count": null,
      "metadata": {
        "id": "e3ozHpF-nq_j"
      },
      "outputs": [],
      "source": [
        "y=open(\"/content/a1.txt\",\"r\")\n",
        "ashu=y.read()\n",
        "y.close()\n",
        "z=open(\"/content/a2.txt\",\"w\")\n",
        "z.write(ashu)\n",
        "z.close()"
      ]
    },
    {
      "cell_type": "markdown",
      "metadata": {
        "id": "eB63JND0ntpD"
      },
      "source": [
        "2. Write a program to capitalize the first character of each word in a file"
      ]
    },
    {
      "cell_type": "code",
      "execution_count": null,
      "metadata": {
        "colab": {
          "base_uri": "https://localhost:8080/"
        },
        "id": "krQoD67Gnusz",
        "outputId": "9a3d5e3d-659c-49f2-c0ac-94b724a7b0b8"
      },
      "outputs": [
        {
          "name": "stdout",
          "output_type": "stream",
          "text": [
            "Hello Everyone.\n"
          ]
        }
      ],
      "source": [
        "x=open(\"/content/a1.txt\",\"r\")\n",
        "for i in x:\n",
        "   if (1):\n",
        "    print(i.title())\n",
        "x.close()"
      ]
    },
    {
      "cell_type": "markdown",
      "metadata": {
        "id": "RKwg2oUInxbL"
      },
      "source": [
        "3. Write a program to find the ASCII value of each character in a file"
      ]
    },
    {
      "cell_type": "code",
      "execution_count": null,
      "metadata": {
        "colab": {
          "base_uri": "https://localhost:8080/"
        },
        "id": "bEcmClc5nyij",
        "outputId": "9cdff773-5a9d-4db8-d5d4-5f2b88e3109e"
      },
      "outputs": [
        {
          "name": "stdout",
          "output_type": "stream",
          "text": [
            "the ASCII value of h is 104\n",
            "the ASCII value of e is 101\n",
            "the ASCII value of l is 108\n",
            "the ASCII value of l is 108\n",
            "the ASCII value of o is 111\n",
            "the ASCII value of e is 101\n",
            "the ASCII value of v is 118\n",
            "the ASCII value of e is 101\n",
            "the ASCII value of r is 114\n",
            "the ASCII value of y is 121\n",
            "the ASCII value of o is 111\n",
            "the ASCII value of n is 110\n",
            "the ASCII value of e is 101\n",
            "the ASCII value of . is 46\n"
          ]
        }
      ],
      "source": [
        "x=open(\"/content/a1.txt\",\"r\")\n",
        "for i in x:\n",
        "   y=i.split()\n",
        "   for j in y:\n",
        "    for char in j:\n",
        "      print(\"the ASCII value of\",char,\"is\",ord(char))\n",
        "x.close()"
      ]
    },
    {
      "cell_type": "markdown",
      "metadata": {
        "id": "qCaQXGWhn1Xs"
      },
      "source": [
        "4. Write a program to find the frequency of each character in a file"
      ]
    },
    {
      "cell_type": "code",
      "execution_count": null,
      "metadata": {
        "colab": {
          "base_uri": "https://localhost:8080/"
        },
        "id": "xOGRGM4pn2Tk",
        "outputId": "921a04ba-3008-4d7e-f1c0-e9f1027e0ebc"
      },
      "outputs": [
        {
          "output_type": "stream",
          "name": "stdout",
          "text": [
            "{'h': 1, 'e': 4, 'l': 4, 'o': 2, 'v': 1, 'r': 1, 'y': 1, 'n': 1, 'a': 1}\n"
          ]
        }
      ],
      "source": [
        "x=open(\"/content/a3.txt\",\"r\")\n",
        "l=[]\n",
        "l2=[]\n",
        "for i in x:\n",
        "    y=i.split()\n",
        "    for j in y:\n",
        "       for char in j:\n",
        "         l.append(char)\n",
        "         b=l.count(char)\n",
        "         l2.append(b)\n",
        "s=dict(zip(l,l2))\n",
        "print(s)\n",
        "x.close()"
      ]
    },
    {
      "cell_type": "markdown",
      "metadata": {
        "id": "X1M1LOt7n6Gk"
      },
      "source": [
        "5. Write a program to find all occurrences of a word, entered by the user, in a\n",
        "given file"
      ]
    },
    {
      "cell_type": "code",
      "execution_count": null,
      "metadata": {
        "id": "cf6iqr8rn7AU",
        "colab": {
          "base_uri": "https://localhost:8080/"
        },
        "outputId": "2f1f5606-f2e0-4dda-fa7b-45fb0a3d07a5"
      },
      "outputs": [
        {
          "output_type": "stream",
          "name": "stdout",
          "text": [
            "['hello', 'every', 'one', 'all']\n",
            "[1, 1, 1, 1]\n"
          ]
        }
      ],
      "source": [
        "x=open(\"/content/a3.txt\",\"r\")\n",
        "l1=[]\n",
        "l2=[]\n",
        "c=0\n",
        "for i in x:\n",
        "   b=i.split()\n",
        "   print(b)\n",
        "   for j in b:\n",
        "      y=b.count(j)\n",
        "      l2.append(y)\n",
        "   print(l2)\n",
        "x.close()"
      ]
    },
    {
      "cell_type": "markdown",
      "metadata": {
        "id": "-KVBVYwPn9pD"
      },
      "source": [
        "6. Write a program to replace a given character with another in a file"
      ]
    },
    {
      "cell_type": "code",
      "execution_count": null,
      "metadata": {
        "id": "Ft5nBOxxn-oF",
        "colab": {
          "base_uri": "https://localhost:8080/"
        },
        "outputId": "400d4cd9-ef3e-438f-e55d-a89d2075e55e"
      },
      "outputs": [
        {
          "output_type": "stream",
          "name": "stdout",
          "text": [
            "['ashu', 'every', 'one', 'all']\n"
          ]
        }
      ],
      "source": [
        "x=open(\"/content/a3.txt\",\"r\")\n",
        "for i in x:\n",
        "   b=i.split()\n",
        "   c=str(b)\n",
        "   y=c.replace(\"hello\",\"ashu\")\n",
        "   print(y)\n",
        "x.close()"
      ]
    },
    {
      "cell_type": "markdown",
      "metadata": {
        "id": "5TUe2B5ToB1E"
      },
      "source": [
        "7. Write a program to find the frequency of a given word in a file"
      ]
    },
    {
      "cell_type": "code",
      "execution_count": null,
      "metadata": {
        "id": "uLHsxRduoCvc",
        "colab": {
          "base_uri": "https://localhost:8080/"
        },
        "outputId": "09b1dc9e-ee4a-483e-cc50-c2a327366fa7"
      },
      "outputs": [
        {
          "output_type": "stream",
          "name": "stdout",
          "text": [
            "['hello', 'every', 'one', 'hello', 'hii']\n",
            "2\n"
          ]
        }
      ],
      "source": [
        "x=open(\"/content/a3.txt\",\"r\")\n",
        "c=0\n",
        "for i in x:\n",
        "   b=i.split()\n",
        "   print(b)\n",
        "   y=b.count(\"hello\")\n",
        "   print(y)\n",
        "x.close()"
      ]
    },
    {
      "cell_type": "markdown",
      "metadata": {
        "id": "K2LipEVKoFtc"
      },
      "source": [
        "8. Write a program to read the contents of a file grades.txt and calculate the total\n",
        "marks and percentage obtained by a student\n",
        "The content of grades.txt as follows:\n",
        "5\n",
        "60 70 80 90 100\n",
        "55 65 75 85 60\n",
        "70 60 80 90 67\n",
        "89 76 56 43 90\n",
        "67 89 76 54 90"
      ]
    },
    {
      "cell_type": "code",
      "execution_count": null,
      "metadata": {
        "colab": {
          "base_uri": "https://localhost:8080/"
        },
        "id": "mthmypjEoHAs",
        "outputId": "e68d3eb7-73b8-4907-b9c1-a640523dd274"
      },
      "outputs": [
        {
          "output_type": "stream",
          "name": "stdout",
          "text": [
            "sum= 400 per= 80.0\n",
            "sum= 340 per= 68.0\n",
            "sum= 396 per= 79.2\n",
            "sum= 332 per= 66.4\n",
            "sum= 397 per= 79.4\n"
          ]
        }
      ],
      "source": [
        "fp=open(\"/content/grade.txt\",\"r\")\n",
        "m=int(fp.readline())\n",
        "for i in range(m):\n",
        "   marks=fp.readline().split()\n",
        "   s=0\n",
        "   for j in (range(len(marks))):\n",
        "      s=s+int(marks[j])\n",
        "   per=(s/500)*100\n",
        "   print(\"sum=\",s, \"per=\",per)\n",
        "fp.close()"
      ]
    },
    {
      "cell_type": "code",
      "execution_count": null,
      "metadata": {
        "colab": {
          "base_uri": "https://localhost:8080/",
          "height": 325
        },
        "id": "P391g4vkuhru",
        "outputId": "ceb35ed2-4458-4668-9cc2-746d7eb2f462"
      },
      "outputs": [
        {
          "output_type": "error",
          "ename": "FileNotFoundError",
          "evalue": "[Errno 2] No such file or directory: '/content/grades.txt'",
          "traceback": [
            "\u001b[0;31m---------------------------------------------------------------------------\u001b[0m",
            "\u001b[0;31mFileNotFoundError\u001b[0m                         Traceback (most recent call last)",
            "\u001b[0;32m<ipython-input-11-52f7e52bc96f>\u001b[0m in \u001b[0;36m<cell line: 1>\u001b[0;34m()\u001b[0m\n\u001b[0;32m----> 1\u001b[0;31m \u001b[0mfp\u001b[0m\u001b[0;34m=\u001b[0m\u001b[0mopen\u001b[0m\u001b[0;34m(\u001b[0m\u001b[0;34m\"/content/grades.txt\"\u001b[0m\u001b[0;34m,\u001b[0m\u001b[0;34m\"r\"\u001b[0m\u001b[0;34m)\u001b[0m\u001b[0;34m\u001b[0m\u001b[0;34m\u001b[0m\u001b[0m\n\u001b[0m\u001b[1;32m      2\u001b[0m \u001b[0mprint\u001b[0m\u001b[0;34m(\u001b[0m\u001b[0mfp\u001b[0m\u001b[0;34m.\u001b[0m\u001b[0mreadline\u001b[0m\u001b[0;34m(\u001b[0m\u001b[0;34m)\u001b[0m\u001b[0;34m)\u001b[0m\u001b[0;34m\u001b[0m\u001b[0;34m\u001b[0m\u001b[0m\n",
            "\u001b[0;31mFileNotFoundError\u001b[0m: [Errno 2] No such file or directory: '/content/grades.txt'"
          ]
        }
      ],
      "source": [
        "fp=open(\"/content/grades.txt\",\"r\")\n",
        "print(fp.readline())"
      ]
    },
    {
      "cell_type": "code",
      "execution_count": null,
      "metadata": {
        "id": "Kiu-_jGCs8fV"
      },
      "outputs": [],
      "source": [
        "!cp grades.txt test.txt"
      ]
    },
    {
      "cell_type": "code",
      "execution_count": null,
      "metadata": {
        "colab": {
          "base_uri": "https://localhost:8080/"
        },
        "id": "hGUu8aENujJF",
        "outputId": "8c5cd113-5105-4596-b7f9-8fe3b6e3fc35"
      },
      "outputs": [
        {
          "name": "stdout",
          "output_type": "stream",
          "text": [
            "/bin/bash: line 1: ls-l/: No such file or directory\n"
          ]
        }
      ],
      "source": [
        "!ls-l/"
      ]
    },
    {
      "cell_type": "code",
      "execution_count": null,
      "metadata": {
        "colab": {
          "base_uri": "https://localhost:8080/"
        },
        "id": "I4gS2Kyquz19",
        "outputId": "0787d535-ae14-4b18-cf1d-382905d5a589"
      },
      "outputs": [
        {
          "name": "stdout",
          "output_type": "stream",
          "text": [
            "rmdir: failed to remove 'filehandlinglab/': Directory not empty\n"
          ]
        }
      ],
      "source": [
        "!rmdir filehandlinglab/"
      ]
    },
    {
      "cell_type": "markdown",
      "metadata": {
        "id": "L3FfmUjGtzaV"
      },
      "source": []
    },
    {
      "cell_type": "code",
      "execution_count": null,
      "metadata": {
        "id": "BwR9Xo50r7XN"
      },
      "outputs": [],
      "source": [
        "fp=open(\"/content/test.txt\",\"w+\")\n",
        "fp.write(\"This is my first file handling program\")\n",
        "fp.close()"
      ]
    }
  ],
  "metadata": {
    "colab": {
      "provenance": [],
      "mount_file_id": "1YFkaM0rQuiG1Q6AE76wYvnYsqpPPLtGm",
      "authorship_tag": "ABX9TyNBoZs/sSzzMxc3mEpcuj8E",
      "include_colab_link": true
    },
    "kernelspec": {
      "display_name": "Python 3",
      "name": "python3"
    },
    "language_info": {
      "name": "python"
    }
  },
  "nbformat": 4,
  "nbformat_minor": 0
}