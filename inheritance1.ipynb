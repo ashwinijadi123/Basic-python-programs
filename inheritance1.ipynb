{
  "nbformat": 4,
  "nbformat_minor": 0,
  "metadata": {
    "colab": {
      "provenance": [],
      "authorship_tag": "ABX9TyN85WLjMrSqUafmY38qZiU5",
      "include_colab_link": true
    },
    "kernelspec": {
      "name": "python3",
      "display_name": "Python 3"
    },
    "language_info": {
      "name": "python"
    }
  },
  "cells": [
    {
      "cell_type": "markdown",
      "metadata": {
        "id": "view-in-github",
        "colab_type": "text"
      },
      "source": [
        "<a href=\"https://colab.research.google.com/github/ashwinijadi123/Basic-python-programs/blob/main/inheritance1.ipynb\" target=\"_parent\"><img src=\"https://colab.research.google.com/assets/colab-badge.svg\" alt=\"Open In Colab\"/></a>"
      ]
    },
    {
      "cell_type": "code",
      "execution_count": null,
      "metadata": {
        "colab": {
          "base_uri": "https://localhost:8080/"
        },
        "id": "0FxqqPGm-njN",
        "outputId": "eaa83397-c41b-4b01-996d-a82183841bb8"
      },
      "outputs": [
        {
          "output_type": "stream",
          "name": "stdout",
          "text": [
            "single level inheritence\n",
            "it is a winter season fruit\n",
            "it is a summer seasonal fruit\n"
          ]
        }
      ],
      "source": [
        "#inheritence\n",
        "print(\"single level inheritence\")\n",
        "class Fruits():\n",
        "    def mango(self):\n",
        "        print( \"it is a summer seasonal fruit\")\n",
        "class Grapes(Fruits):\n",
        "     def guava(self):\n",
        "        print(\"it is a winter season fruit\")\n",
        "\n",
        "s=Grapes()\n",
        "s.guava()\n",
        "s.mango()"
      ]
    },
    {
      "cell_type": "code",
      "source": [
        "print(\"multilevel inhritance\")\n",
        "class Milk():\n",
        "    def ghee(self):\n",
        "        print(\"it is very good for health\")\n",
        "class Curd(Milk):\n",
        "     def tea(self):\n",
        "         print('it is prepared by milk')\n",
        "class Butter_milk(Curd):\n",
        "      def coffee(self):\n",
        "          print(\"all tis are prepared by milk\")\n",
        "obj=Butter_milk()\n",
        "obj.ghee()\n",
        "obj.tea()\n",
        "obj.coffee()"
      ],
      "metadata": {
        "colab": {
          "base_uri": "https://localhost:8080/"
        },
        "id": "VDbqKaVoBys5",
        "outputId": "bf13fa10-d765-4782-ef7b-aadaffbde32f"
      },
      "execution_count": null,
      "outputs": [
        {
          "output_type": "stream",
          "name": "stdout",
          "text": [
            "multilevel inhritance\n",
            "it is very good for health\n",
            "it is prepared by milk\n",
            "all tis are prepared by milk\n"
          ]
        }
      ]
    },
    {
      "cell_type": "code",
      "source": [
        "print(\"multiple inheritence\")\n"
      ],
      "metadata": {
        "colab": {
          "base_uri": "https://localhost:8080/",
          "height": 35
        },
        "id": "w-45I9C_Hp0M",
        "outputId": "e2eabb86-a45d-4075-9463-4d6a503fc7ef"
      },
      "execution_count": null,
      "outputs": [
        {
          "output_type": "execute_result",
          "data": {
            "text/plain": [
              "'multiple inheritence'"
            ],
            "application/vnd.google.colaboratory.intrinsic+json": {
              "type": "string"
            }
          },
          "metadata": {},
          "execution_count": 16
        }
      ]
    }
  ]
}