{
  "nbformat": 4,
  "nbformat_minor": 0,
  "metadata": {
    "colab": {
      "provenance": [],
      "include_colab_link": true
    },
    "kernelspec": {
      "name": "python3",
      "display_name": "Python 3"
    },
    "language_info": {
      "name": "python"
    }
  },
  "cells": [
    {
      "cell_type": "markdown",
      "metadata": {
        "id": "view-in-github",
        "colab_type": "text"
      },
      "source": [
        "<a href=\"https://colab.research.google.com/github/ashwinijadi123/Basic-python-programs/blob/main/labsheet8.ipynb\" target=\"_parent\"><img src=\"https://colab.research.google.com/assets/colab-badge.svg\" alt=\"Open In Colab\"/></a>"
      ]
    },
    {
      "cell_type": "code",
      "execution_count": null,
      "metadata": {
        "colab": {
          "base_uri": "https://localhost:8080/"
        },
        "id": "oXFitE2dg-Dq",
        "outputId": "8ee91c4f-d47d-4c89-b617-51c9dcb0e3f1"
      },
      "outputs": [
        {
          "output_type": "stream",
          "name": "stdout",
          "text": [
            "[('black', 255), ('white', 0), ('gray', 100)]\n"
          ]
        }
      ],
      "source": [
        "# 1 question1. Consider two lists L1 and L2. Here L1 contains a list of colors and L2 contains their color\n",
        "\"\"\"code as:\n",
        "L1=[‘Black’, ‘White’, ‘Gray’]\n",
        "L2=[255, 0, 100]\n",
        "Display the content as: (‘Black’, 255) (‘White’,0) (‘Gray’,100)\n",
        "Note: zip() function\"\"\"\n",
        "l1=[\"black\",\"white\",\"gray\"]\n",
        "l2=[255,0,100]\n",
        "c=zip(l1,l2)\n",
        "print(list(c))"
      ]
    },
    {
      "cell_type": "code",
      "source": [
        "# 1 question\n",
        "l1=[\"black\",\"white\",\"gray\"]\n",
        "l2=[255,0,100]\n",
        "c=zip(l1,l2)\n",
        "print(c)"
      ],
      "metadata": {
        "colab": {
          "base_uri": "https://localhost:8080/"
        },
        "id": "6aALr15Tj5K3",
        "outputId": "2ad5285f-1fe9-481d-baee-722e7cab1999"
      },
      "execution_count": null,
      "outputs": [
        {
          "output_type": "stream",
          "name": "stdout",
          "text": [
            "<zip object at 0x7f42dc829080>\n"
          ]
        }
      ]
    },
    {
      "cell_type": "markdown",
      "source": [
        "2. Write a program to create a set containing 10 randomly generated numbers in the range 15 to\n",
        "45. Count how many of these numbers are less than 30. Delete all numbers which are greater\n",
        "than 35."
      ],
      "metadata": {
        "id": "4nMiXESm5hGA"
      }
    },
    {
      "cell_type": "code",
      "source": [
        "# 2 question\n",
        "s=set()\n",
        "c=0\n",
        "b=set()\n",
        "for i in range(15,45):\n",
        "  s.add(i)\n",
        "  if i<=30:\n",
        "    c=c+1\n",
        "  elif i>35:\n",
        "     b.add(i)\n",
        "print(c)\n",
        "b.clear()\n",
        "print(b)"
      ],
      "metadata": {
        "colab": {
          "base_uri": "https://localhost:8080/"
        },
        "id": "QXkx3LlRkNd2",
        "outputId": "240628a5-afbd-4263-ad29-cbbefe814112"
      },
      "execution_count": null,
      "outputs": [
        {
          "output_type": "stream",
          "name": "stdout",
          "text": [
            "16\n",
            "set()\n"
          ]
        }
      ]
    },
    {
      "cell_type": "markdown",
      "source": [
        "3.Create an empty set. Write a program that adds five new names to this set, modifies one\n",
        "existing name and deletes two names existing in it."
      ],
      "metadata": {
        "id": "G4wTQhkz5jW4"
      }
    },
    {
      "cell_type": "code",
      "source": [
        "#3 question\n",
        "s=set()\n",
        "l=[\"ash\",\"van\",\"anu\",\"baby\",\"rubby\"]\n",
        "for i in l:\n",
        "   s.add(i)\n",
        "   s.discard(\"ash\")\n",
        "   s.add(\"anu\")\n",
        "   s.discard(\"van\")\n",
        "   s.discard(\"baby\")\n",
        "print(s)"
      ],
      "metadata": {
        "colab": {
          "base_uri": "https://localhost:8080/"
        },
        "id": "mzWu318YnLnl",
        "outputId": "1fa6ea80-d50c-4b96-c9ea-40f7de2a866e"
      },
      "execution_count": null,
      "outputs": [
        {
          "output_type": "stream",
          "name": "stdout",
          "text": [
            "{'anu', 'rubby'}\n"
          ]
        }
      ]
    },
    {
      "cell_type": "code",
      "source": [
        "#3 question\n",
        "s=set()\n",
        "l=[\"ash\",\"van\",\"anu\",\"baby\",\"rubby\"]\n",
        "for i in l:\n",
        "   s.add(i)\n",
        "   s.remove(\"ash\")\n",
        "   s.discard(\"van\")\n",
        "print(s)"
      ],
      "metadata": {
        "colab": {
          "base_uri": "https://localhost:8080/",
          "height": 211
        },
        "id": "GZcE2RQKpXON",
        "outputId": "9135e4dd-2228-47c3-8cbe-efcd91586361"
      },
      "execution_count": null,
      "outputs": [
        {
          "output_type": "error",
          "ename": "KeyError",
          "evalue": "'ash'",
          "traceback": [
            "\u001b[0;31m---------------------------------------------------------------------------\u001b[0m",
            "\u001b[0;31mKeyError\u001b[0m                                  Traceback (most recent call last)",
            "\u001b[0;32m<ipython-input-27-848808c56f6b>\u001b[0m in \u001b[0;36m<cell line: 4>\u001b[0;34m()\u001b[0m\n\u001b[1;32m      4\u001b[0m \u001b[0;32mfor\u001b[0m \u001b[0mi\u001b[0m \u001b[0;32min\u001b[0m \u001b[0ml\u001b[0m\u001b[0;34m:\u001b[0m\u001b[0;34m\u001b[0m\u001b[0;34m\u001b[0m\u001b[0m\n\u001b[1;32m      5\u001b[0m    \u001b[0ms\u001b[0m\u001b[0;34m.\u001b[0m\u001b[0madd\u001b[0m\u001b[0;34m(\u001b[0m\u001b[0mi\u001b[0m\u001b[0;34m)\u001b[0m\u001b[0;34m\u001b[0m\u001b[0;34m\u001b[0m\u001b[0m\n\u001b[0;32m----> 6\u001b[0;31m    \u001b[0ms\u001b[0m\u001b[0;34m.\u001b[0m\u001b[0mremove\u001b[0m\u001b[0;34m(\u001b[0m\u001b[0;34m\"ash\"\u001b[0m\u001b[0;34m)\u001b[0m\u001b[0;34m\u001b[0m\u001b[0;34m\u001b[0m\u001b[0m\n\u001b[0m\u001b[1;32m      7\u001b[0m    \u001b[0ms\u001b[0m\u001b[0;34m.\u001b[0m\u001b[0mdiscard\u001b[0m\u001b[0;34m(\u001b[0m\u001b[0;34m\"van\"\u001b[0m\u001b[0;34m)\u001b[0m\u001b[0;34m\u001b[0m\u001b[0;34m\u001b[0m\u001b[0m\n\u001b[1;32m      8\u001b[0m \u001b[0mprint\u001b[0m\u001b[0;34m(\u001b[0m\u001b[0ms\u001b[0m\u001b[0;34m)\u001b[0m\u001b[0;34m\u001b[0m\u001b[0;34m\u001b[0m\u001b[0m\n",
            "\u001b[0;31mKeyError\u001b[0m: 'ash'"
          ]
        }
      ]
    },
    {
      "cell_type": "code",
      "source": [
        "#3 question\n",
        "s=set()\n",
        "l=[\"ash\",\"van\",\"anu\",\"baby\",\"rubby\"]\n",
        "for i in l:\n",
        "   s.add(i)\n",
        "   s.remove(\"ash\")\n",
        "   s.remove(\"van\")\n",
        "print(s)"
      ],
      "metadata": {
        "colab": {
          "base_uri": "https://localhost:8080/",
          "height": 193
        },
        "id": "bNCqU4IppcEW",
        "outputId": "938e5c25-1d67-4c46-a5e2-1891eaa60b07"
      },
      "execution_count": null,
      "outputs": [
        {
          "output_type": "error",
          "ename": "KeyError",
          "evalue": "'van'",
          "traceback": [
            "\u001b[0;31m---------------------------------------------------------------------------\u001b[0m",
            "\u001b[0;31mKeyError\u001b[0m                                  Traceback (most recent call last)",
            "\u001b[0;32m<ipython-input-28-ed0c4d2adeb6>\u001b[0m in \u001b[0;36m<cell line: 4>\u001b[0;34m()\u001b[0m\n\u001b[1;32m      5\u001b[0m    \u001b[0ms\u001b[0m\u001b[0;34m.\u001b[0m\u001b[0madd\u001b[0m\u001b[0;34m(\u001b[0m\u001b[0mi\u001b[0m\u001b[0;34m)\u001b[0m\u001b[0;34m\u001b[0m\u001b[0;34m\u001b[0m\u001b[0m\n\u001b[1;32m      6\u001b[0m    \u001b[0ms\u001b[0m\u001b[0;34m.\u001b[0m\u001b[0mremove\u001b[0m\u001b[0;34m(\u001b[0m\u001b[0;34m\"ash\"\u001b[0m\u001b[0;34m)\u001b[0m\u001b[0;34m\u001b[0m\u001b[0;34m\u001b[0m\u001b[0m\n\u001b[0;32m----> 7\u001b[0;31m    \u001b[0ms\u001b[0m\u001b[0;34m.\u001b[0m\u001b[0mremove\u001b[0m\u001b[0;34m(\u001b[0m\u001b[0;34m\"van\"\u001b[0m\u001b[0;34m)\u001b[0m\u001b[0;34m\u001b[0m\u001b[0;34m\u001b[0m\u001b[0m\n\u001b[0m\u001b[1;32m      8\u001b[0m \u001b[0mprint\u001b[0m\u001b[0;34m(\u001b[0m\u001b[0ms\u001b[0m\u001b[0;34m)\u001b[0m\u001b[0;34m\u001b[0m\u001b[0;34m\u001b[0m\u001b[0m\n",
            "\u001b[0;31mKeyError\u001b[0m: 'van'"
          ]
        }
      ]
    },
    {
      "cell_type": "markdown",
      "source": [
        "4.Write a program to assign grades of students and display all the grades using keys() and get()\n",
        "method of a dictionary."
      ],
      "metadata": {
        "id": "pbUb6LxW5tP6"
      }
    },
    {
      "cell_type": "code",
      "source": [
        "#question_4\n",
        "s={\"ashwini\":\"A\",\"anusha\":\"B\",\"bharathi\":\"B+\"}\n",
        "c=s.get(\"ashwini\")\n",
        "x=s.keys()\n",
        "y=s.values()\n",
        "print(x)\n",
        "print(c)\n",
        "print(y)\n",
        "for i in s:\n",
        "   y=s.values()\n",
        "print(y)"
      ],
      "metadata": {
        "colab": {
          "base_uri": "https://localhost:8080/"
        },
        "id": "BJx8j3jLqgbD",
        "outputId": "49961edf-c6a5-4747-bcc4-bbe6d06a25d2"
      },
      "execution_count": null,
      "outputs": [
        {
          "output_type": "stream",
          "name": "stdout",
          "text": [
            "dict_keys(['ashwini', 'anusha', 'bharathi'])\n",
            "A\n",
            "dict_values(['A', 'B', 'B+'])\n",
            "dict_values(['A', 'B', 'B+'])\n"
          ]
        }
      ]
    },
    {
      "cell_type": "markdown",
      "source": [
        "6.Write a program to print and store squares of numbers into a dictionary from 1 to 20.\n",
        "Example:\n",
        "D={1:1, 2:4, 3:9, 4:16, ..........}"
      ],
      "metadata": {
        "id": "lWo_xxJq50_x"
      }
    },
    {
      "cell_type": "code",
      "source": [
        "#question_6\n",
        "l=[]\n",
        "for i in range(1,21):\n",
        "       s=i**2\n",
        "       c=tuple((i,s))\n",
        "       l.append(c)\n",
        "l2=dict(l)\n",
        "print(l2)"
      ],
      "metadata": {
        "colab": {
          "base_uri": "https://localhost:8080/"
        },
        "id": "r5zekQXJuJTI",
        "outputId": "5fab2f0a-2e64-4995-ea94-d08b6e88b4f6"
      },
      "execution_count": null,
      "outputs": [
        {
          "output_type": "stream",
          "name": "stdout",
          "text": [
            "{1: 1, 2: 4, 3: 9, 4: 16, 5: 25, 6: 36, 7: 49, 8: 64, 9: 81, 10: 100, 11: 121, 12: 144, 13: 169, 14: 196, 15: 225, 16: 256, 17: 289, 18: 324, 19: 361, 20: 400}\n"
          ]
        }
      ]
    },
    {
      "cell_type": "markdown",
      "source": [
        "9.Create two dictionaries- one containing grocery items and their prices and other containing\n",
        "grocery items and quantity purchased. By using the values from these two dictionaries\n",
        "computer the total bill.\n",
        "Example:\n",
        "Prices={‘Bottles’:30, ‘Tiffin’:100, ‘Bag’:400, ‘Bicycle’:2000}\n",
        "Stock={‘Bottles’:10, ‘Tiffin’:8, ‘Bag’:1, ‘Bicycle’:5}"
      ],
      "metadata": {
        "id": "B-7pVd8c336W"
      }
    },
    {
      "cell_type": "code",
      "source": [
        "#question 9\n",
        "prices={\"bottles\":30,\"tiffin\":100,\"bag\":400,\"bicycle\":2000}\n",
        "stock={\"bottles\":10,\"tiffin\":8,\"bag\":1,\"bicycle\":5}\n",
        "c=0\n",
        "for item in prices:\n",
        "   c=c+prices[item]*stock.get(item,0)\n",
        "print(c)"
      ],
      "metadata": {
        "colab": {
          "base_uri": "https://localhost:8080/"
        },
        "id": "0uKIP5bOzL5T",
        "outputId": "13103ab1-03de-4166-f722-1c97b4d2b521"
      },
      "execution_count": null,
      "outputs": [
        {
          "output_type": "stream",
          "name": "stdout",
          "text": [
            "11500\n"
          ]
        }
      ]
    },
    {
      "cell_type": "markdown",
      "source": [
        "10. Create a dictionary of 10 user names and passwords. Receive the user name and password\n",
        "from keyboard and search from them in the dictionary. Print appropriate message on the screen\n",
        "based on whether a match is found or not."
      ],
      "metadata": {
        "id": "jnWMPqRq574k"
      }
    },
    {
      "cell_type": "code",
      "source": [
        "#question_10\n",
        "l=[]\n",
        "for i in range(5):\n",
        "  a=input(\"enter your names:\")\n",
        "  b=int(input(\"enter your password:\"))\n",
        "  c=tuple((a,b))\n",
        "  l.append(c)\n",
        "y=dict(l)\n",
        "print(y)"
      ],
      "metadata": {
        "colab": {
          "base_uri": "https://localhost:8080/"
        },
        "id": "7QKdYfgyCrzv",
        "outputId": "0efd44db-a57a-471a-82e8-150ebd07ca6d"
      },
      "execution_count": null,
      "outputs": [
        {
          "output_type": "stream",
          "name": "stdout",
          "text": [
            "enter your names:ashwini\n",
            "enter your password:123\n",
            "enter your names:bharathi\n",
            "enter your password:432\n",
            "enter your names:anusha\n",
            "enter your password:678\n",
            "enter your names:vanaja\n",
            "enter your password:1272004\n",
            "enter your names:manas\n",
            "enter your password:768\n",
            "{'ashwini': 123, 'bharathi': 432, 'anusha': 678, 'vanaja': 1272004, 'manas': 768}\n"
          ]
        }
      ]
    },
    {
      "cell_type": "markdown",
      "source": [
        "5. Write a function histogram that takes string as parameter and generates a frequency of\n",
        "characters contained in it.\n",
        "Example:\n",
        "S=”AAPPLE”\n",
        "Dictionary={‘A’:2, ‘E’:1, ‘P’:2, ‘L’:1}"
      ],
      "metadata": {
        "id": "yOlCy0jV6CQ8"
      }
    },
    {
      "cell_type": "code",
      "source": [
        "#question_5\n",
        "s=\"aapple\"\n",
        "c=0\n",
        "l=[]\n",
        "l2=[]\n",
        "for i in \"aapple\":\n",
        "   l.append(i)\n",
        "for element in l:\n",
        "   y=l.count(element)\n",
        "   l2.append((element,y))\n",
        "z=dict(l2)\n",
        "print(z)"
      ],
      "metadata": {
        "colab": {
          "base_uri": "https://localhost:8080/"
        },
        "id": "Cie35-AFGwgE",
        "outputId": "7b013f48-bd64-4e7f-9ecf-f2d304ddb7f7"
      },
      "execution_count": null,
      "outputs": [
        {
          "output_type": "stream",
          "name": "stdout",
          "text": [
            "{'a': 2, 'p': 2, 'l': 1, 'e': 1}\n"
          ]
        }
      ]
    },
    {
      "cell_type": "markdown",
      "source": [
        "7. Write a program to pass a list to a function. Calculate the total number of positive and negative\n",
        "numbers from the list and then display the count in terms of dictionary\n",
        "Example:\n",
        "L=[-1,2,-3,4]\n",
        "D={“Neg”:2, “Pos”:2]"
      ],
      "metadata": {
        "id": "8ePWfmB66JbK"
      }
    },
    {
      "cell_type": "code",
      "source": [
        "#question_7\n",
        "l=[1,2,3,4,5-1,-2,-3,-4]\n",
        "l2=[]\n",
        "a=0\n",
        "b=0\n",
        "for i in l:\n",
        "   if i>=0:\n",
        "      a=a+1\n",
        "   else:\n",
        "      b=b+1\n",
        "l2.append(a)\n",
        "l2.append(b)\n",
        "x=[\"neg\",\"pos\"]\n",
        "y=zip(x, l2)\n",
        "c=list(y)\n",
        "print (dict(c))"
      ],
      "metadata": {
        "colab": {
          "base_uri": "https://localhost:8080/"
        },
        "id": "MZm0OoSOvpm5",
        "outputId": "cf9f3e45-ddbd-4ada-b914-cb76bb8b0d39"
      },
      "execution_count": null,
      "outputs": [
        {
          "output_type": "stream",
          "name": "stdout",
          "text": [
            "{'neg': 5, 'pos': 3}\n"
          ]
        }
      ]
    },
    {
      "cell_type": "markdown",
      "source": [
        "8. Create a dictionary containing names of students and marks obtained by them in three subjects.\n",
        "Write a program to replace the marks in three subjects with the total in three subjects, and\n",
        "average marks. Also report the topper of the class.\n",
        "Example:\n",
        "Students={\n",
        "\n",
        "‘Dipti’:{‘Maths’:48,’eng’:60, ‘hindi’:95},\n",
        "‘Smriti”:{‘Maths’:75, ‘eng’:68, ‘hindi’:89},\n",
        "‘Subodh’:{‘Maths’:45, ‘eng’:66, ‘hindi’:87}\n",
        "}"
      ],
      "metadata": {
        "id": "lhAc8HE16QoC"
      }
    },
    {
      "cell_type": "code",
      "source": [
        "Students={\n",
        "'Dipti':{'Maths':48,'eng':60,'hindi':95},\n",
        "'Smriti':{'Maths':75, 'eng':68, 'hindi':89},\n",
        "'Subodh':{'Maths':45, 'eng':66, 'hindi':87} }\n",
        "l=[]\n",
        "s=0\n",
        "for i,j in Students.items():\n",
        "  c=Students[i].values()\n",
        "  b=Students[i].keys()\n",
        "  count=0\n",
        "  for k in b:\n",
        "     count=count+1\n",
        "  print(count)\n",
        "  for y in c:\n",
        "    s=s+y\n",
        "    avg=s/len(c)\n",
        "    l.append(s)\n",
        "  print(s)\n",
        "  print(avg)\n",
        "print(max(l),\"the person who scored \",max(l),\"is the topper of the class\")\n",
        "Students[i].update({\"total_marks\":s,\"avgerage_marks\":avg})\n",
        "print(Students)\n",
        "Students[i]={\"total_marks\":s,\"avgerage_marks\":avg}\n",
        "print(Students)"
      ],
      "metadata": {
        "colab": {
          "base_uri": "https://localhost:8080/"
        },
        "id": "UU76tK8H6WLy",
        "outputId": "45b712d5-e5e1-4674-b291-9a7aa189b497"
      },
      "execution_count": 23,
      "outputs": [
        {
          "output_type": "stream",
          "name": "stdout",
          "text": [
            "3\n",
            "203\n",
            "67.66666666666667\n",
            "3\n",
            "435\n",
            "145.0\n",
            "3\n",
            "633\n",
            "211.0\n",
            "633 the person who scored  633 is the topper of the class\n",
            "{'Dipti': {'Maths': 48, 'eng': 60, 'hindi': 95}, 'Smriti': {'Maths': 75, 'eng': 68, 'hindi': 89}, 'Subodh': {'Maths': 45, 'eng': 66, 'hindi': 87, 'total_marks': 633, 'avgerage_marks': 211.0}}\n",
            "{'Dipti': {'Maths': 48, 'eng': 60, 'hindi': 95}, 'Smriti': {'Maths': 75, 'eng': 68, 'hindi': 89}, 'Subodh': {'total_marks': 633, 'avgerage_marks': 211.0}}\n"
          ]
        }
      ]
    },
    {
      "cell_type": "code",
      "source": [
        "Students={\n",
        "'Dipti':{'Maths':48,'eng':60,'hindi':95},\n",
        "'Smriti':{'Maths':75, 'eng':68, 'hindi':89},\n",
        "'Subodh':{'Maths':45, 'eng':66, 'hindi':87} }\n",
        "l=[]\n",
        "max_marks=0\n",
        "topper=\"\"\n",
        "for i,j in Students.items():\n",
        "  c=Students[i].values()\n",
        "  b=Students[i].keys()\n",
        "  for y in c:\n",
        "    total_marks=total_marks+y\n",
        "    avg=total_marks/len(c)\n",
        "    l.append(s)\n",
        "    Students[i]={\"total_marks\":s,\"avgerage_marks\":avg}\n",
        "    if total_marks>max_marks:\n",
        "      max_marks=total_marks\n",
        "      topper=i\n",
        "print(Students)\n",
        "print(topper,\"topper with\",max_marks)"
      ],
      "metadata": {
        "colab": {
          "base_uri": "https://localhost:8080/"
        },
        "id": "WHO8qXwwlyZO",
        "outputId": "6f188ba8-a145-424b-b601-7586b4378e46"
      },
      "execution_count": 49,
      "outputs": [
        {
          "output_type": "stream",
          "name": "stdout",
          "text": [
            "{'Dipti': {'total_marks': 633, 'avgerage_marks': 67.66666666666667}, 'Smriti': {'total_marks': 633, 'avgerage_marks': 145.0}, 'Subodh': {'total_marks': 633, 'avgerage_marks': 211.0}}\n",
            "Subodh topper with 633\n"
          ]
        }
      ]
    }
  ]
}