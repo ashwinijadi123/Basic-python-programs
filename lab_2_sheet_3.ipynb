{
  "nbformat": 4,
  "nbformat_minor": 0,
  "metadata": {
    "colab": {
      "provenance": [],
      "authorship_tag": "ABX9TyPio3l4NdIgZqGxOecpe+7+",
      "include_colab_link": true
    },
    "kernelspec": {
      "name": "python3",
      "display_name": "Python 3"
    },
    "language_info": {
      "name": "python"
    }
  },
  "cells": [
    {
      "cell_type": "markdown",
      "metadata": {
        "id": "view-in-github",
        "colab_type": "text"
      },
      "source": [
        "<a href=\"https://colab.research.google.com/github/ashwinijadi123/Basic-python-programs/blob/main/lab_2_sheet_3.ipynb\" target=\"_parent\"><img src=\"https://colab.research.google.com/assets/colab-badge.svg\" alt=\"Open In Colab\"/></a>"
      ]
    },
    {
      "cell_type": "code",
      "execution_count": null,
      "metadata": {
        "colab": {
          "base_uri": "https://localhost:8080/"
        },
        "id": "BZS812B5KWIB",
        "outputId": "3107d588-78a6-4f0d-b46c-f9e2997ff3fc"
      },
      "outputs": [
        {
          "output_type": "stream",
          "name": "stdout",
          "text": [
            "enter your num:153\n",
            "given number is amstrong\n"
          ]
        }
      ],
      "source": [
        "# amstrong number program\n",
        "num=int(input(\"enter your num:\"))\n",
        "k=num\n",
        "s=0\n",
        "while k>0:\n",
        "  k=num\n",
        "  while k>0:\n",
        "     r=k%10\n",
        "     s=s+(r**3)\n",
        "     k=k//10\n",
        "  if s==num:\n",
        "     print(\"given number is amstrong\")\n",
        "  else:\n",
        "     print(\"not amstrong number\")"
      ]
    },
    {
      "cell_type": "code",
      "source": [
        "# amstrong number program\n",
        "num=int(input(\"enter your num:\"))\n",
        "k=num\n",
        "s=0\n",
        "while k>0:\n",
        "     r=k%10\n",
        "     s=s+(r**3)\n",
        "     k=k//10\n",
        "if s==num:\n",
        "     print(\"given number is amstrong\")\n",
        "else:\n",
        "     print(\"not amstrong number\")"
      ],
      "metadata": {
        "colab": {
          "base_uri": "https://localhost:8080/"
        },
        "id": "XY_gHzfOPr-G",
        "outputId": "4222ace8-bd52-45ff-9062-6ed502cafd26"
      },
      "execution_count": null,
      "outputs": [
        {
          "output_type": "stream",
          "name": "stdout",
          "text": [
            "enter your num:153\n",
            "given number is amstrong\n"
          ]
        }
      ]
    },
    {
      "cell_type": "code",
      "source": [
        "#multiplication of tables from 1 to 10\n",
        "m=int(input(\"enter your number\"))\n",
        "n=int(input(\"enter your number\"))\n",
        "for i in range (m,n):\n",
        "  for j in range(1,n):\n",
        "   print(i,\"X\",j,\"=\",i*j)\n",
        "  print()"
      ],
      "metadata": {
        "colab": {
          "base_uri": "https://localhost:8080/"
        },
        "id": "l9btngdJQYdm",
        "outputId": "56b6aa81-2b38-430c-dc7f-c83c0cd390a5"
      },
      "execution_count": null,
      "outputs": [
        {
          "output_type": "stream",
          "name": "stdout",
          "text": [
            "enter your number1\n",
            "enter your number11\n",
            "1 X 1 = 1\n",
            "1 X 2 = 2\n",
            "1 X 3 = 3\n",
            "1 X 4 = 4\n",
            "1 X 5 = 5\n",
            "1 X 6 = 6\n",
            "1 X 7 = 7\n",
            "1 X 8 = 8\n",
            "1 X 9 = 9\n",
            "1 X 10 = 10\n",
            "\n",
            "2 X 1 = 2\n",
            "2 X 2 = 4\n",
            "2 X 3 = 6\n",
            "2 X 4 = 8\n",
            "2 X 5 = 10\n",
            "2 X 6 = 12\n",
            "2 X 7 = 14\n",
            "2 X 8 = 16\n",
            "2 X 9 = 18\n",
            "2 X 10 = 20\n",
            "\n",
            "3 X 1 = 3\n",
            "3 X 2 = 6\n",
            "3 X 3 = 9\n",
            "3 X 4 = 12\n",
            "3 X 5 = 15\n",
            "3 X 6 = 18\n",
            "3 X 7 = 21\n",
            "3 X 8 = 24\n",
            "3 X 9 = 27\n",
            "3 X 10 = 30\n",
            "\n",
            "4 X 1 = 4\n",
            "4 X 2 = 8\n",
            "4 X 3 = 12\n",
            "4 X 4 = 16\n",
            "4 X 5 = 20\n",
            "4 X 6 = 24\n",
            "4 X 7 = 28\n",
            "4 X 8 = 32\n",
            "4 X 9 = 36\n",
            "4 X 10 = 40\n",
            "\n",
            "5 X 1 = 5\n",
            "5 X 2 = 10\n",
            "5 X 3 = 15\n",
            "5 X 4 = 20\n",
            "5 X 5 = 25\n",
            "5 X 6 = 30\n",
            "5 X 7 = 35\n",
            "5 X 8 = 40\n",
            "5 X 9 = 45\n",
            "5 X 10 = 50\n",
            "\n",
            "6 X 1 = 6\n",
            "6 X 2 = 12\n",
            "6 X 3 = 18\n",
            "6 X 4 = 24\n",
            "6 X 5 = 30\n",
            "6 X 6 = 36\n",
            "6 X 7 = 42\n",
            "6 X 8 = 48\n",
            "6 X 9 = 54\n",
            "6 X 10 = 60\n",
            "\n",
            "7 X 1 = 7\n",
            "7 X 2 = 14\n",
            "7 X 3 = 21\n",
            "7 X 4 = 28\n",
            "7 X 5 = 35\n",
            "7 X 6 = 42\n",
            "7 X 7 = 49\n",
            "7 X 8 = 56\n",
            "7 X 9 = 63\n",
            "7 X 10 = 70\n",
            "\n",
            "8 X 1 = 8\n",
            "8 X 2 = 16\n",
            "8 X 3 = 24\n",
            "8 X 4 = 32\n",
            "8 X 5 = 40\n",
            "8 X 6 = 48\n",
            "8 X 7 = 56\n",
            "8 X 8 = 64\n",
            "8 X 9 = 72\n",
            "8 X 10 = 80\n",
            "\n",
            "9 X 1 = 9\n",
            "9 X 2 = 18\n",
            "9 X 3 = 27\n",
            "9 X 4 = 36\n",
            "9 X 5 = 45\n",
            "9 X 6 = 54\n",
            "9 X 7 = 63\n",
            "9 X 8 = 72\n",
            "9 X 9 = 81\n",
            "9 X 10 = 90\n",
            "\n",
            "10 X 1 = 10\n",
            "10 X 2 = 20\n",
            "10 X 3 = 30\n",
            "10 X 4 = 40\n",
            "10 X 5 = 50\n",
            "10 X 6 = 60\n",
            "10 X 7 = 70\n",
            "10 X 8 = 80\n",
            "10 X 9 = 90\n",
            "10 X 10 = 100\n",
            "\n"
          ]
        }
      ]
    },
    {
      "cell_type": "code",
      "source": [
        " # check the palindrome or not\n",
        " x=input(\"enter your number:\")\n",
        " y=x[::-1]\n",
        " if x==y:\n",
        "   print(\"it is palindrome\")\n",
        "else:\n",
        "   print(\"not a palindrome\")"
      ],
      "metadata": {
        "colab": {
          "base_uri": "https://localhost:8080/"
        },
        "id": "UbcqlyyUVv3u",
        "outputId": "b02df19a-836b-47c5-b262-a27e91b43a2d"
      },
      "execution_count": null,
      "outputs": [
        {
          "output_type": "stream",
          "name": "stdout",
          "text": [
            "enter your number:wow\n",
            "it is palindrome\n"
          ]
        }
      ]
    },
    {
      "cell_type": "code",
      "source": [
        "x=int(input(\"enter your number:\"))\n",
        "y=str(x)\n",
        "print(len(y))"
      ],
      "metadata": {
        "colab": {
          "base_uri": "https://localhost:8080/"
        },
        "id": "5TbVx4oBXlQe",
        "outputId": "5a9ee59c-c062-4295-e144-1163a15424f8"
      },
      "execution_count": null,
      "outputs": [
        {
          "output_type": "stream",
          "name": "stdout",
          "text": [
            "enter your number:1234567\n",
            "7\n"
          ]
        }
      ]
    },
    {
      "cell_type": "code",
      "source": [
        "x=int(input(\"enter your number:\"))\n",
        "count=0\n",
        "while x>0:\n",
        "   count=count+1\n",
        "   x=x//10\n",
        "print(\"the count of the given number is\",count)"
      ],
      "metadata": {
        "colab": {
          "base_uri": "https://localhost:8080/"
        },
        "id": "CTr5OTO5gFiO",
        "outputId": "613bbf00-cce7-4cfe-ba5a-704516657415"
      },
      "execution_count": null,
      "outputs": [
        {
          "output_type": "stream",
          "name": "stdout",
          "text": [
            "enter your number:12345\n",
            "the count of the given number is 5\n"
          ]
        }
      ]
    },
    {
      "cell_type": "code",
      "source": [
        "n=int(input((\"enter your number:\")))\n",
        "s=0\n",
        "for i in range(1,n):\n",
        "   if n%i==0:\n",
        "     s=s+i\n",
        "if s==n:\n",
        "  print(\"it is a perfect number:\")\n",
        "else:\n",
        "  print(\"it is not\")"
      ],
      "metadata": {
        "colab": {
          "base_uri": "https://localhost:8080/"
        },
        "id": "vNphjDYim4ye",
        "outputId": "4b124419-f14b-45c7-b52e-283960ab0ec7"
      },
      "execution_count": null,
      "outputs": [
        {
          "output_type": "stream",
          "name": "stdout",
          "text": [
            "enter your number:4\n",
            "it is not\n"
          ]
        }
      ]
    },
    {
      "cell_type": "code",
      "source": [
        "n=int(input((\"enter your number:\")))\n",
        "for i in range(1,n+1):\n",
        "   s=0\n",
        "   for k in range(1,i):\n",
        "      if i%k==0:\n",
        "          s=s+k\n",
        "   if s==i:\n",
        "        print(\"it is a perfect number:\",i)"
      ],
      "metadata": {
        "id": "O5EZWbFjqgmm",
        "colab": {
          "base_uri": "https://localhost:8080/"
        },
        "outputId": "e4309865-080e-4f2f-c3c1-717de75e1d43"
      },
      "execution_count": null,
      "outputs": [
        {
          "output_type": "stream",
          "name": "stdout",
          "text": [
            "enter your number:100\n",
            "it is a perfect number: 6\n",
            "it is a perfect number: 28\n"
          ]
        }
      ]
    },
    {
      "cell_type": "code",
      "source": [
        "x=int(input(\"enter your number:\"))\n",
        "y=int(input(\"enter your number:\"))\n",
        "z=int(input(\"enter your number:\"))\n",
        "if x>y and x>z:\n",
        "   if y>z:\n",
        "      print(\"second is  greater\",y)\n",
        "   else:\n",
        "      print(\"third is greater\",z)\n",
        "elif y>x and y>z:\n",
        "   if x>y:\n",
        "      print (\"second greater\",x)\n",
        "   else:\n",
        "      print (\"third is greater\",y)\n",
        "else:\n",
        "   if x>z and y>z:\n",
        "      print (\"second is greater\",z)\n",
        "   else:\n",
        "      print (\"third greater is\",y)"
      ],
      "metadata": {
        "colab": {
          "base_uri": "https://localhost:8080/"
        },
        "id": "lILKron6uiQE",
        "outputId": "4cd327e1-4db4-4108-cd41-3d82bab2f659"
      },
      "execution_count": null,
      "outputs": [
        {
          "output_type": "stream",
          "name": "stdout",
          "text": [
            "enter your number:5\n",
            "enter your number:9\n",
            "enter your number:34\n",
            "third greater is 9\n"
          ]
        }
      ]
    },
    {
      "cell_type": "code",
      "source": [
        "n=int(input(\"enter your number:\"))\n",
        "a,b=0,1\n",
        "s=0\n",
        "if n<=0:\n",
        "   print (\"enter the number greater than 0\")\n",
        "else:\n",
        "   for i in range(0,n):\n",
        "        print (s, end=\" \")\n",
        "        a=b\n",
        "        b=s\n",
        "        s=a+b\n",
        "        #print(s)"
      ],
      "metadata": {
        "colab": {
          "base_uri": "https://localhost:8080/"
        },
        "id": "2TsY0fesxMKz",
        "outputId": "df0b4b0b-1fad-44ea-8251-46eb9700ef90"
      },
      "execution_count": null,
      "outputs": [
        {
          "output_type": "stream",
          "name": "stdout",
          "text": [
            "enter your number:10\n",
            "0 1 1 2 3 5 8 13 21 34 "
          ]
        }
      ]
    },
    {
      "cell_type": "code",
      "source": [
        "# decimal to binary\n",
        "n=int(input(\"enter num:\"))\n",
        "x=[]\n",
        "while n!=0:\n",
        "  r=n%2\n",
        "  x. append(r)\n",
        "  n=n//2\n",
        "x. reverse()\n",
        "print(x)\n",
        "for i in x:\n",
        "   print (i,end=\"\")"
      ],
      "metadata": {
        "colab": {
          "base_uri": "https://localhost:8080/"
        },
        "id": "W6KrtK86wubD",
        "outputId": "b87f024b-275e-4ccf-fd06-53b2a0e86671"
      },
      "execution_count": null,
      "outputs": [
        {
          "output_type": "stream",
          "name": "stdout",
          "text": [
            "enter num:5\n",
            "[1, 0, 1]\n",
            "101"
          ]
        }
      ]
    },
    {
      "cell_type": "code",
      "source": [
        "x=int(input(\"enter your num;\"))\n",
        "y=int(input(\"enter your num;\"))\n",
        "S1=0\n",
        "S2=0\n",
        "for i in range(1,x):\n",
        "    if x% i==0:\n",
        "       S1=S1+i\n",
        "for j in range(1,y):\n",
        "    if y%j==0:\n",
        "       S2=S2+j\n",
        "if S1==y and S2==x:\n",
        "    print(\"amicable\")\n",
        "else:\n",
        "    print (\"not amicable\")"
      ],
      "metadata": {
        "colab": {
          "base_uri": "https://localhost:8080/"
        },
        "id": "Fl1jV7j8GW-V",
        "outputId": "c3a5ea16-b37b-43f0-c3af-7d7fa386cbc3"
      },
      "execution_count": null,
      "outputs": [
        {
          "output_type": "stream",
          "name": "stdout",
          "text": [
            "enter your num;220\n",
            "enter your num;284\n",
            "amicable\n"
          ]
        }
      ]
    },
    {
      "cell_type": "code",
      "source": [
        "A= int(input(\"enter Alice amount:\"))\n",
        "B=int(input(\"enter Bob amount:\"))\n",
        "C=int(input(\"enter Charlie amount:\"))\n",
        "X=int(input(\"enter Netflix amount:\"))\n",
        "if A+B>X:\n",
        "   print(\"Alice and Bob are eligible\")\n",
        "elif B+C>X:\n",
        "   print (\"Bob and Charlie are eligible\")\n",
        "else:\n",
        "   print (\"Charlie and Alice are eligible\")"
      ],
      "metadata": {
        "colab": {
          "base_uri": "https://localhost:8080/"
        },
        "id": "Fk3HaHyjIEjC",
        "outputId": "81dab4d4-fea6-4175-82d2-4274c729bfb6"
      },
      "execution_count": null,
      "outputs": [
        {
          "output_type": "stream",
          "name": "stdout",
          "text": [
            "enter Alice amount:220\n",
            "enter Bob amount:202\n",
            "enter Charlie amount:300\n",
            "enter Netflix amount:400\n",
            "Alice and Bob are eligible\n"
          ]
        }
      ]
    },
    {
      "cell_type": "code",
      "source": [
        "w=int(input(\"enter weight of water millon\"))\n",
        "if w%2==0 and w>0:\n",
        "   print(\"it is possible to divide the watermelon they want\")\n",
        "else:\n",
        "   print (\"they can't divide it\")"
      ],
      "metadata": {
        "colab": {
          "base_uri": "https://localhost:8080/"
        },
        "id": "ehzeBQvhNf3D",
        "outputId": "e4a8ba57-d0e5-47b0-fb0d-43778ee080c4"
      },
      "execution_count": null,
      "outputs": [
        {
          "output_type": "stream",
          "name": "stdout",
          "text": [
            "enter weight of water millon6\n",
            "it is possible to divide the watermelon they want\n"
          ]
        }
      ]
    },
    {
      "cell_type": "code",
      "source": [
        "import math\n",
        "x=int(input(\"enter your number:\"))\n",
        "n=int(input(\"enter the value of n:\"))\n",
        "S=0\n",
        "for i in range (1,n):\n",
        "    y=x**i/math.factorial(i)\n",
        "    S=S+y\n",
        "print (S)"
      ],
      "metadata": {
        "colab": {
          "base_uri": "https://localhost:8080/"
        },
        "id": "y35ym5g5n9WN",
        "outputId": "5d0e7efa-a66f-4c90-da45-15f073b2dbc8"
      },
      "execution_count": null,
      "outputs": [
        {
          "output_type": "stream",
          "name": "stdout",
          "text": [
            "enter your number:3\n",
            "enter the value of n:4\n",
            "12.0\n"
          ]
        }
      ]
    },
    {
      "cell_type": "code",
      "source": [],
      "metadata": {
        "id": "V0x9td7czui4"
      },
      "execution_count": null,
      "outputs": []
    }
  ]
}