{
  "nbformat": 4,
  "nbformat_minor": 0,
  "metadata": {
    "colab": {
      "provenance": [],
      "authorship_tag": "ABX9TyN12/lwDZ2cSLZxIzn9D2NJ",
      "include_colab_link": true
    },
    "kernelspec": {
      "name": "python3",
      "display_name": "Python 3"
    },
    "language_info": {
      "name": "python"
    }
  },
  "cells": [
    {
      "cell_type": "markdown",
      "metadata": {
        "id": "view-in-github",
        "colab_type": "text"
      },
      "source": [
        "<a href=\"https://colab.research.google.com/github/ashwinijadi123/Basic-python-programs/blob/main/Operators_in_python.ipynb\" target=\"_parent\"><img src=\"https://colab.research.google.com/assets/colab-badge.svg\" alt=\"Open In Colab\"/></a>"
      ]
    },
    {
      "cell_type": "code",
      "source": [
        "#operators manipulate the values of operands\n",
        "#Arithmetic operators\n",
        "a=int(input(\"enter a value:\"))\n",
        "b=int(input(\"enter a value:\"))\n",
        "print(a+b)\n",
        "print (a-b)\n",
        "print(a*b)\n",
        "print (a**b)\n",
        "print (a/b)\n",
        "print (a//b)\n",
        "print (a%b)"
      ],
      "metadata": {
        "colab": {
          "base_uri": "https://localhost:8080/"
        },
        "id": "st6xl49m4BjJ",
        "outputId": "3bcac0ca-6f49-46f0-9eb8-7c57c6a66161"
      },
      "execution_count": null,
      "outputs": [
        {
          "output_type": "stream",
          "name": "stdout",
          "text": [
            "enter a value:2\n",
            "enter a value:3\n",
            "5\n",
            "-1\n",
            "6\n",
            "8\n",
            "0.6666666666666666\n",
            "0\n",
            "2\n"
          ]
        }
      ]
    },
    {
      "cell_type": "code",
      "source": [
        "#Assignment operators\n",
        "a=int(input(\"enter a value:\"))\n",
        "b=int(input(\"enter a value:\"))\n",
        "a+=b\n",
        "print(a)"
      ],
      "metadata": {
        "colab": {
          "base_uri": "https://localhost:8080/"
        },
        "id": "5Q073lL14S20",
        "outputId": "6b87061a-0aad-439b-a446-82e1eec15393"
      },
      "execution_count": null,
      "outputs": [
        {
          "output_type": "stream",
          "name": "stdout",
          "text": [
            "enter a value:2\n",
            "enter a value:3\n",
            "5\n"
          ]
        }
      ]
    },
    {
      "cell_type": "code",
      "source": [
        "a-=b\n",
        "print (a)"
      ],
      "metadata": {
        "colab": {
          "base_uri": "https://localhost:8080/"
        },
        "id": "R8hgj2Hc5uk9",
        "outputId": "2d731e21-eddb-4951-98ba-eb805df61106"
      },
      "execution_count": null,
      "outputs": [
        {
          "output_type": "stream",
          "name": "stdout",
          "text": [
            "2\n"
          ]
        }
      ]
    },
    {
      "cell_type": "code",
      "source": [
        "a*=b\n",
        "print (a)"
      ],
      "metadata": {
        "colab": {
          "base_uri": "https://localhost:8080/"
        },
        "id": "fHajOULm529V",
        "outputId": "c3afb4af-a479-4ce8-e1b2-97815b415b0a"
      },
      "execution_count": null,
      "outputs": [
        {
          "output_type": "stream",
          "name": "stdout",
          "text": [
            "6\n"
          ]
        }
      ]
    },
    {
      "cell_type": "code",
      "source": [
        "a/=b\n",
        "print (a)"
      ],
      "metadata": {
        "colab": {
          "base_uri": "https://localhost:8080/"
        },
        "id": "RTbvEbA56BPK",
        "outputId": "67d82c65-6ca6-40c5-82a0-52cb091c3589"
      },
      "execution_count": null,
      "outputs": [
        {
          "output_type": "stream",
          "name": "stdout",
          "text": [
            "2.0\n"
          ]
        }
      ]
    },
    {
      "cell_type": "code",
      "source": [
        "a//=b\n",
        "print (a)"
      ],
      "metadata": {
        "colab": {
          "base_uri": "https://localhost:8080/"
        },
        "id": "ar1PDLHw6QwR",
        "outputId": "27632346-8095-453e-dab3-6848ec969d09"
      },
      "execution_count": null,
      "outputs": [
        {
          "output_type": "stream",
          "name": "stdout",
          "text": [
            "0.0\n"
          ]
        }
      ]
    },
    {
      "cell_type": "code",
      "source": [
        "a%=b\n",
        "print (a)"
      ],
      "metadata": {
        "colab": {
          "base_uri": "https://localhost:8080/"
        },
        "id": "TN2Kf6Zm6f4h",
        "outputId": "6a5e2d84-d1a2-4465-d74f-26e7214a4829"
      },
      "execution_count": null,
      "outputs": [
        {
          "output_type": "stream",
          "name": "stdout",
          "text": [
            "0.0\n"
          ]
        }
      ]
    },
    {
      "cell_type": "code",
      "source": [
        "#comparison operators or relational operators\n",
        "a=int(input(\"enter a value:\"))\n",
        "b=int(input (\"enter a value:\"))\n",
        "print (a==b)\n",
        "print (a>b)\n",
        "print (a<b)\n",
        "print (a>=b)\n",
        "print (a<=b)\n",
        "print (a!=b)"
      ],
      "metadata": {
        "colab": {
          "base_uri": "https://localhost:8080/"
        },
        "id": "p-k1Da2P7Kh8",
        "outputId": "8d80a9dc-dd12-47e2-a780-120c3e281e9f"
      },
      "execution_count": null,
      "outputs": [
        {
          "output_type": "stream",
          "name": "stdout",
          "text": [
            "enter a value:2\n",
            "enter a value:3\n",
            "False\n",
            "False\n",
            "True\n",
            "False\n",
            "True\n",
            "True\n"
          ]
        }
      ]
    },
    {
      "cell_type": "code",
      "source": [
        "#membership operators\n",
        "x=[1,3,5,9]\n",
        "a=int(input(\"enter a number:\"))\n",
        "if a in x:\n",
        "    print (\"it is membership in operator\")\n",
        "else:\n",
        "    print (\"it is membership not in operator\")"
      ],
      "metadata": {
        "colab": {
          "base_uri": "https://localhost:8080/"
        },
        "id": "VAHnZCckgKUu",
        "outputId": "c0d49cdf-661d-407e-db4e-29c68e5ae866"
      },
      "execution_count": null,
      "outputs": [
        {
          "output_type": "stream",
          "name": "stdout",
          "text": [
            "enter a number:2\n",
            "it is membership not in operator\n"
          ]
        }
      ]
    },
    {
      "cell_type": "code",
      "source": [
        "a=12\n",
        "b=-(a)\n",
        "print (b)#it is unary operator"
      ],
      "metadata": {
        "colab": {
          "base_uri": "https://localhost:8080/"
        },
        "id": "pWylEya_iFxr",
        "outputId": "aeaebe3d-eb0c-4c24-dca4-5dfd4335c282"
      },
      "execution_count": null,
      "outputs": [
        {
          "output_type": "stream",
          "name": "stdout",
          "text": [
            "-12\n"
          ]
        }
      ]
    },
    {
      "cell_type": "code",
      "source": [
        "#identity operators\n",
        "a=int(input(\"enter a value:\"))\n",
        "b =int(input(\"enter a value:\"))\n",
        "if a is b:\n",
        "    print (\"it is identity is operator\")\n",
        "else:\n",
        "    print (\"it is identity is not operator\")"
      ],
      "metadata": {
        "colab": {
          "base_uri": "https://localhost:8080/"
        },
        "id": "ft9_apzNiQTT",
        "outputId": "b8c7665c-af45-4c7b-f958-91bf41475ceb"
      },
      "execution_count": null,
      "outputs": [
        {
          "output_type": "stream",
          "name": "stdout",
          "text": [
            "enter a value:3\n",
            "enter a value:3\n",
            "it is identity is operator\n"
          ]
        }
      ]
    },
    {
      "cell_type": "code",
      "source": [
        "#logical operators\n",
        "a=12\n",
        "b=32\n",
        "c=23\n",
        "if a>b and b>c:\n",
        "    print (\"it is and operator\")\n",
        "elif a>b or b>c:\n",
        "    print (\"it is or operator\")\n",
        "else:\n",
        "    print (\"******\")"
      ],
      "metadata": {
        "colab": {
          "base_uri": "https://localhost:8080/"
        },
        "id": "7oXaNHgVkThm",
        "outputId": "422cc0c7-b6fe-46d2-e51f-c5b6ffb30d87"
      },
      "execution_count": null,
      "outputs": [
        {
          "output_type": "stream",
          "name": "stdout",
          "text": [
            "it is or operator\n"
          ]
        }
      ]
    }
  ]
}