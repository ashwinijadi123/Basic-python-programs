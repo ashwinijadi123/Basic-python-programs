{
  "nbformat": 4,
  "nbformat_minor": 0,
  "metadata": {
    "colab": {
      "provenance": [],
      "authorship_tag": "ABX9TyOfsQYQDvJRqwdy9fgki3g9",
      "include_colab_link": true
    },
    "kernelspec": {
      "name": "python3",
      "display_name": "Python 3"
    },
    "language_info": {
      "name": "python"
    }
  },
  "cells": [
    {
      "cell_type": "markdown",
      "metadata": {
        "id": "view-in-github",
        "colab_type": "text"
      },
      "source": [
        "<a href=\"https://colab.research.google.com/github/ashwinijadi123/Basic-python-programs/blob/main/Assignment_stmts.ipynb\" target=\"_parent\"><img src=\"https://colab.research.google.com/assets/colab-badge.svg\" alt=\"Open In Colab\"/></a>"
      ]
    },
    {
      "cell_type": "markdown",
      "source": [
        "1.Basic form"
      ],
      "metadata": {
        "id": "A_Ka8_ZU1Tlo"
      }
    },
    {
      "cell_type": "code",
      "source": [
        "X=7\n",
        "print (X)"
      ],
      "metadata": {
        "colab": {
          "base_uri": "https://localhost:8080/"
        },
        "id": "hw78G6wx1c-y",
        "outputId": "f69d0fc4-5de4-43d9-c6c4-325ac01400c7"
      },
      "execution_count": 1,
      "outputs": [
        {
          "output_type": "stream",
          "name": "stdout",
          "text": [
            "7\n"
          ]
        }
      ]
    },
    {
      "cell_type": "markdown",
      "source": [
        "2.tuple assignment"
      ],
      "metadata": {
        "id": "j_-zRi4K1rdH"
      }
    },
    {
      "cell_type": "code",
      "source": [
        "(a, b) =2, 3\n",
        "print (a)\n",
        "print (b)"
      ],
      "metadata": {
        "colab": {
          "base_uri": "https://localhost:8080/"
        },
        "id": "cvawGrP91vgy",
        "outputId": "16de4241-16e3-40de-e3b1-5a1cbe426435"
      },
      "execution_count": 2,
      "outputs": [
        {
          "output_type": "stream",
          "name": "stdout",
          "text": [
            "2\n",
            "3\n"
          ]
        }
      ]
    },
    {
      "cell_type": "code",
      "source": [
        "a, b=2, 3\n",
        "print (a)\n",
        "print (b)"
      ],
      "metadata": {
        "colab": {
          "base_uri": "https://localhost:8080/"
        },
        "id": "E2IugKdO18YW",
        "outputId": "7515f722-9a71-42b2-adf6-05c0c0080185"
      },
      "execution_count": 3,
      "outputs": [
        {
          "output_type": "stream",
          "name": "stdout",
          "text": [
            "2\n",
            "3\n"
          ]
        }
      ]
    },
    {
      "cell_type": "markdown",
      "source": [
        "3.list assignment"
      ],
      "metadata": {
        "id": "Xt8KJOGV2E08"
      }
    },
    {
      "cell_type": "code",
      "source": [
        "[a, b] =2, 3\n",
        "print (a)\n",
        "print (b)"
      ],
      "metadata": {
        "colab": {
          "base_uri": "https://localhost:8080/"
        },
        "id": "YCLqhTup2Hya",
        "outputId": "0dc7df86-be5f-475b-bd5f-4d0bc93b44de"
      },
      "execution_count": 4,
      "outputs": [
        {
          "output_type": "stream",
          "name": "stdout",
          "text": [
            "2\n",
            "3\n"
          ]
        }
      ]
    },
    {
      "cell_type": "markdown",
      "source": [
        "4.sequence assignment"
      ],
      "metadata": {
        "id": "-rASmUPk2QNe"
      }
    },
    {
      "cell_type": "code",
      "source": [
        "a, b, c='hlo'\n",
        "print (a)\n",
        "print(b)\n",
        "print (c)"
      ],
      "metadata": {
        "colab": {
          "base_uri": "https://localhost:8080/"
        },
        "id": "GSUy71gD2T_D",
        "outputId": "2ef3736e-7873-4067-fbdc-0092896d31d1"
      },
      "execution_count": 5,
      "outputs": [
        {
          "output_type": "stream",
          "name": "stdout",
          "text": [
            "h\n",
            "l\n",
            "o\n"
          ]
        }
      ]
    },
    {
      "cell_type": "markdown",
      "source": [
        "5.extended sequence unpacking"
      ],
      "metadata": {
        "id": "FHD6MltU2rZ7"
      }
    },
    {
      "cell_type": "code",
      "source": [
        "a, *b='chlong'\n",
        "print (a)\n",
        "print (b)\n",
        "print(b)\n",
        "print (a)"
      ],
      "metadata": {
        "colab": {
          "base_uri": "https://localhost:8080/"
        },
        "id": "Oh_gpJ6D25Bt",
        "outputId": "b5a800a0-91bd-4c98-c618-259f353f4bd7"
      },
      "execution_count": 7,
      "outputs": [
        {
          "output_type": "stream",
          "name": "stdout",
          "text": [
            "c\n",
            "['h', 'l', 'o', 'n', 'g']\n",
            "['h', 'l', 'o', 'n', 'g']\n",
            "c\n"
          ]
        }
      ]
    },
    {
      "cell_type": "markdown",
      "source": [
        "6.aumented assignment"
      ],
      "metadata": {
        "id": "sYVjvESq3deS"
      }
    },
    {
      "cell_type": "code",
      "source": [
        "X=1\n",
        "X+=5\n",
        "print (X)\n",
        "X=X+1\n",
        "print (X)"
      ],
      "metadata": {
        "colab": {
          "base_uri": "https://localhost:8080/"
        },
        "id": "DQXX8d8V3jrn",
        "outputId": "c4c82814-f3ef-4863-df1f-16f5c52f2112"
      },
      "execution_count": 10,
      "outputs": [
        {
          "output_type": "stream",
          "name": "stdout",
          "text": [
            "6\n",
            "7\n"
          ]
        }
      ]
    },
    {
      "cell_type": "markdown",
      "source": [
        "7.multiple target assignment"
      ],
      "metadata": {
        "id": "SpgKVZtC39_1"
      }
    },
    {
      "cell_type": "code",
      "source": [
        "X=y=80\n",
        "print (X)\n",
        "print (y)"
      ],
      "metadata": {
        "colab": {
          "base_uri": "https://localhost:8080/"
        },
        "id": "DKfEzfl74Cyv",
        "outputId": "078ec14e-346e-4425-c762-a2ccca17bdc3"
      },
      "execution_count": 12,
      "outputs": [
        {
          "output_type": "stream",
          "name": "stdout",
          "text": [
            "80\n",
            "80\n"
          ]
        }
      ]
    }
  ]
}