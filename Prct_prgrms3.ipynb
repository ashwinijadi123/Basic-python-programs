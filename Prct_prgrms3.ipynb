{
  "cells": [
    {
      "cell_type": "markdown",
      "metadata": {
        "id": "view-in-github",
        "colab_type": "text"
      },
      "source": [
        "<a href=\"https://colab.research.google.com/github/ashwinijadi123/Basic-python-programs/blob/main/Prct_prgrms3.ipynb\" target=\"_parent\"><img src=\"https://colab.research.google.com/assets/colab-badge.svg\" alt=\"Open In Colab\"/></a>"
      ]
    },
    {
      "cell_type": "code",
      "execution_count": null,
      "metadata": {
        "colab": {
          "base_uri": "https://localhost:8080/"
        },
        "id": "eyQ0t0BIUBHm",
        "outputId": "a73be028-3aff-456e-e474-1754e56faf38"
      },
      "outputs": [
        {
          "name": "stdout",
          "output_type": "stream",
          "text": [
            "enter your number:123\n",
            "321"
          ]
        }
      ],
      "source": [
        "# reverse of a number\n",
        "n= int(input(\"enter your number:\"))\n",
        "while n!=0:\n",
        "  r=n%10\n",
        "  n=n//10\n",
        "  print(r, end=\"\")"
      ]
    },
    {
      "cell_type": "code",
      "execution_count": null,
      "metadata": {
        "colab": {
          "base_uri": "https://localhost:8080/"
        },
        "id": "w0Vwp9j7VsH-",
        "outputId": "a61374b9-9276-40e5-ffd5-5ad9671af519"
      },
      "outputs": [
        {
          "name": "stdout",
          "output_type": "stream",
          "text": [
            "enter your number:123\n",
            "0"
          ]
        }
      ],
      "source": [
        "# reverse of a number not correct one\n",
        "n= int(input(\"enter your number:\"))\n",
        "r1=0\n",
        "while n!=0:\n",
        "  r=n%10\n",
        "  #r1=r1*10+r\n",
        "  n=n//10\n",
        "print(r1, end=\"\")"
      ]
    },
    {
      "cell_type": "code",
      "execution_count": null,
      "metadata": {
        "colab": {
          "base_uri": "https://localhost:8080/"
        },
        "id": "J3Bs9sN2XKGl",
        "outputId": "000e1e14-1486-46b3-f976-ebb6a8184761"
      },
      "outputs": [
        {
          "name": "stdout",
          "output_type": "stream",
          "text": [
            "enter your number:6\n",
            "the multiple of 6 are 1\n",
            "the multiple of 6 are 2\n",
            "the multiple of 6 are 3\n",
            "the multiple of 6 are 6\n"
          ]
        }
      ],
      "source": [
        "#factor of a given number\n",
        "n=int(input (\"enter your number:\"))\n",
        "i=1\n",
        "while i<=n:\n",
        "  if n%i==0:\n",
        "    print(\"the multiple of 6 are\", i)\n",
        "  i=i+1"
      ]
    },
    {
      "cell_type": "code",
      "execution_count": null,
      "metadata": {
        "colab": {
          "base_uri": "https://localhost:8080/"
        },
        "id": "n17owWSnZ6gx",
        "outputId": "80b83bae-6515-4926-bb8d-a3775427ee98"
      },
      "outputs": [
        {
          "name": "stdout",
          "output_type": "stream",
          "text": [
            "enter your number:6\n",
            "the multiple of 6 are 1\n",
            "the multiple of 6 are 2\n",
            "the multiple of 6 are 3\n",
            "the multiple of 6 are 6\n"
          ]
        }
      ],
      "source": [
        "#factor of a given number\n",
        "n=int(input (\"enter your number:\"))\n",
        "i=1\n",
        "while i<=n:\n",
        "  if n%i==0:\n",
        "    print(\"the multiple of 6 are\", i)\n",
        "  i=i+1"
      ]
    },
    {
      "cell_type": "code",
      "execution_count": null,
      "metadata": {
        "colab": {
          "base_uri": "https://localhost:8080/"
        },
        "id": "89GhI9rAZn4S",
        "outputId": "3fdca18b-07d6-4db9-ceaa-d3b9faf46c6a"
      },
      "outputs": [
        {
          "name": "stdout",
          "output_type": "stream",
          "text": [
            "ente your number:4\n",
            "even\n",
            "even\n"
          ]
        }
      ],
      "source": [
        "#even numbers program\n",
        "n=int(input(\"ente your number:\"))\n",
        "i=1\n",
        "while i<=n:\n",
        "   if i%2==0:\n",
        "     print(\"even\")\n",
        "   i=i+1"
      ]
    },
    {
      "cell_type": "code",
      "execution_count": null,
      "metadata": {
        "colab": {
          "base_uri": "https://localhost:8080/"
        },
        "id": "vPVci8tDnLa8",
        "outputId": "bcda46e7-9ac3-48d8-a6a2-194fff083c5d"
      },
      "outputs": [
        {
          "name": "stdout",
          "output_type": "stream",
          "text": [
            "ente your number:6\n",
            "sum= 12\n"
          ]
        }
      ],
      "source": [
        "# sum of even numbers program\n",
        "n=int(input(\"ente your number:\"))\n",
        "S=0\n",
        "i=1\n",
        "while i<=n:\n",
        "   if i%2==0:\n",
        "     S=S+i\n",
        "   i=i+1\n",
        "print(\"sum=\",S)"
      ]
    },
    {
      "cell_type": "code",
      "execution_count": null,
      "metadata": {
        "colab": {
          "base_uri": "https://localhost:8080/"
        },
        "id": "RXyGsIofozep",
        "outputId": "99b448c3-997d-4bf7-ca81-b6e9c91fc207"
      },
      "outputs": [
        {
          "name": "stdout",
          "output_type": "stream",
          "text": [
            "ente your number:6\n",
            "2\n",
            "4\n",
            "6\n"
          ]
        }
      ],
      "source": [
        "# even numbers program\n",
        "n=int(input(\"ente your number:\"))\n",
        "i=1\n",
        "while i<=n:\n",
        "   if i%2==0:\n",
        "     print(i)\n",
        "   i=i+1"
      ]
    },
    {
      "cell_type": "code",
      "execution_count": null,
      "metadata": {
        "colab": {
          "base_uri": "https://localhost:8080/"
        },
        "id": "w-olaqktpC48",
        "outputId": "736df769-a1d0-497d-a342-b073418d11b4"
      },
      "outputs": [
        {
          "name": "stdout",
          "output_type": "stream",
          "text": [
            "ente your number:3\n",
            "odd\n"
          ]
        }
      ],
      "source": [
        "# sum of even numbers program\n",
        "n=int(input(\"ente your number:\"))\n",
        "i=1\n",
        "while i<=n:\n",
        "   if i%2==0:\n",
        "     break;\n",
        "   else:\n",
        "      print(\"odd\")\n",
        "   i=i+1"
      ]
    },
    {
      "cell_type": "code",
      "execution_count": null,
      "metadata": {
        "colab": {
          "base_uri": "https://localhost:8080/"
        },
        "id": "m0KWsdSn46vo",
        "outputId": "a5a591aa-5a39-402a-ad5a-8f285fd385c8"
      },
      "outputs": [
        {
          "name": "stdout",
          "output_type": "stream",
          "text": [
            "enter your number:10\n",
            "55\n"
          ]
        }
      ],
      "source": [
        "n=int(input(\"enter your number:\"))\n",
        "i=1\n",
        "s=0\n",
        "while i<=n:\n",
        "   s=s+i\n",
        "   i=i+1\n",
        "print(s)\n"
      ]
    },
    {
      "cell_type": "code",
      "execution_count": null,
      "metadata": {
        "colab": {
          "base_uri": "https://localhost:8080/"
        },
        "id": "lJPHmLSv8Are",
        "outputId": "a0bdf52b-e07d-403d-a126-ed5977fea808"
      },
      "outputs": [
        {
          "name": "stdout",
          "output_type": "stream",
          "text": [
            "enter your number:8\n",
            "the multiple of 6 are 2\n",
            "the multiple of 6 are 4\n"
          ]
        }
      ],
      "source": [
        "n=int(input (\"enter your number:\"))\n",
        "i=2\n",
        "while i<=n-1:\n",
        "  if n%i==0:\n",
        "    print(\"the multiple of 6 are\", i)\n",
        "  i=i+1"
      ]
    },
    {
      "cell_type": "code",
      "execution_count": null,
      "metadata": {
        "colab": {
          "base_uri": "https://localhost:8080/"
        },
        "id": "n41bQYEB810I",
        "outputId": "a171e722-0029-4879-9768-2b4b11939e3e"
      },
      "outputs": [
        {
          "name": "stdout",
          "output_type": "stream",
          "text": [
            "ente your number:5\n",
            "prime\n"
          ]
        }
      ],
      "source": [
        "n=int(input(\"ente your number:\"))\n",
        "i=2\n",
        "s=0\n",
        "while i<n:\n",
        "     if n%i==0:\n",
        "       s=1\n",
        "       break\n",
        "     i=i+1\n",
        "\n",
        "if s==0:\n",
        "  print(\"prime\")\n",
        "else:\n",
        "  print(\"not prime\")\n"
      ]
    },
    {
      "cell_type": "code",
      "execution_count": null,
      "metadata": {
        "colab": {
          "base_uri": "https://localhost:8080/"
        },
        "id": "lK4RHB82DAjx",
        "outputId": "25373e5f-a69b-4585-d6d6-d3e106a6edaf"
      },
      "outputs": [
        {
          "name": "stdout",
          "output_type": "stream",
          "text": [
            "enter your number:3\n",
            "the factorial of number is; 6\n"
          ]
        }
      ],
      "source": [
        "n=int(input(\"enter your number:\"))\n",
        "import math\n",
        "i=1\n",
        "while i<=n:\n",
        "  x=n*math.factorial(n-1)\n",
        "  #print(\"the factorial of number is;\",x)\n",
        "  i=i+1\n",
        "print(\"the factorial of number is;\",x)"
      ]
    },
    {
      "cell_type": "code",
      "execution_count": null,
      "metadata": {
        "colab": {
          "base_uri": "https://localhost:8080/"
        },
        "id": "rhfTsGcYH-Li",
        "outputId": "abf8b418-3977-4699-bff9-ac1499e33300"
      },
      "outputs": [
        {
          "name": "stdout",
          "output_type": "stream",
          "text": [
            "enter your number:3\n",
            "the factorial of number is; 6\n"
          ]
        }
      ],
      "source": [
        "n=int(input(\"enter your number:\"))\n",
        "fact=1\n",
        "i=1\n",
        "while i<=n:\n",
        "  fact=fact*i\n",
        "  #print(\"the factorial of number is;\",x)\n",
        "  i=i+1\n",
        "print(\"the factorial of number is;\",fact)\n"
      ]
    },
    {
      "cell_type": "code",
      "execution_count": null,
      "metadata": {
        "colab": {
          "base_uri": "https://localhost:8080/"
        },
        "id": "_Ih--o9hEz3h",
        "outputId": "d89efc8c-4de8-4dcc-b6f2-b293a53e3036"
      },
      "outputs": [
        {
          "name": "stdout",
          "output_type": "stream",
          "text": [
            "enter your number:5\n",
            "1 \n",
            "2 2 \n",
            "3 3 3 \n",
            "4 4 4 4 \n",
            "5 5 5 5 5 \n"
          ]
        }
      ],
      "source": [
        "n=int(input(\"enter your number:\"))\n",
        "for i in range(1,n+1):\n",
        "   for j in range(i):\n",
        "      print(i,end=\" \")\n",
        "   print()"
      ]
    },
    {
      "cell_type": "code",
      "execution_count": null,
      "metadata": {
        "colab": {
          "base_uri": "https://localhost:8080/"
        },
        "id": "HN9niSvfMZM6",
        "outputId": "a80b2f19-c7f0-4f8c-d9ff-aa7727d91cf5"
      },
      "outputs": [
        {
          "name": "stdout",
          "output_type": "stream",
          "text": [
            "enter your number:5\n",
            "* \n",
            "* * \n",
            "* * * \n",
            "* * * * \n",
            "* * * * * \n"
          ]
        }
      ],
      "source": [
        "n=int(input(\"enter your number:\"))\n",
        "for j in range(1,n+1):\n",
        "   for i in range(j):\n",
        "       print(\"*\",end=\" \")\n",
        "   print()"
      ]
    },
    {
      "cell_type": "code",
      "execution_count": null,
      "metadata": {
        "colab": {
          "base_uri": "https://localhost:8080/"
        },
        "id": "foRr4CRUPBHy",
        "outputId": "cc1782bb-8855-4c3b-e4e6-bd7fd83aa4c9"
      },
      "outputs": [
        {
          "name": "stdout",
          "output_type": "stream",
          "text": [
            "enter your number:5\n",
            "1 \n",
            "1 2 \n",
            "1 2 3 \n",
            "1 2 3 4 \n",
            "1 2 3 4 5 \n"
          ]
        }
      ],
      "source": [
        "n=int(input(\"enter your number:\"))\n",
        "for i in range(1,n+1):\n",
        "   for j in range(1,i+1):\n",
        "      print(j,end=\" \")\n",
        "   print()"
      ]
    },
    {
      "cell_type": "code",
      "execution_count": null,
      "metadata": {
        "colab": {
          "base_uri": "https://localhost:8080/"
        },
        "id": "UnHWAalGRGm7",
        "outputId": "1d868b7b-118f-4aad-d011-756191344b32"
      },
      "outputs": [
        {
          "name": "stdout",
          "output_type": "stream",
          "text": [
            "enter your number:5\n",
            "5 5 5 5 5 \n",
            "4 4 4 4 \n",
            "3 3 3 \n",
            "2 2 \n",
            "1 \n"
          ]
        }
      ],
      "source": [
        "n=int(input(\"enter your number:\"))\n",
        "for i in range(n,0,-1):\n",
        "   for j in range(i):\n",
        "     print(i,end=\" \")\n",
        "   print()"
      ]
    },
    {
      "cell_type": "code",
      "execution_count": null,
      "metadata": {
        "colab": {
          "base_uri": "https://localhost:8080/"
        },
        "id": "fb3JcIdsXkYD",
        "outputId": "02a9dc08-84fc-4c04-caa4-234c9d8c54c7"
      },
      "outputs": [
        {
          "name": "stdout",
          "output_type": "stream",
          "text": [
            "enter your number:5\n",
            "\n"
          ]
        }
      ],
      "source": [
        "n=int(input(\"enter your number:\"))\n",
        "for i in range(0,1):\n",
        "   for j in range(i):\n",
        "     print(\"*\",end=\" \")\n",
        "   print()"
      ]
    },
    {
      "cell_type": "code",
      "execution_count": null,
      "metadata": {
        "colab": {
          "base_uri": "https://localhost:8080/"
        },
        "id": "fOfjmY8lfpgE",
        "outputId": "235a901d-76b6-4678-8112-16bd84c105ce"
      },
      "outputs": [
        {
          "name": "stdout",
          "output_type": "stream",
          "text": [
            "ente your number:12\n",
            "1\n",
            "2\n",
            "3\n",
            "5\n",
            "7\n",
            "11\n"
          ]
        }
      ],
      "source": [
        "n=int(input(\"ente your number:\"))\n",
        "k=1\n",
        "while k<=n:\n",
        "     i=2\n",
        "     s=0\n",
        "     while i<k:\n",
        "        if k%i==0:\n",
        "         s=1\n",
        "         break\n",
        "        i=i+1\n",
        "     if s==0:\n",
        "       print(k )\n",
        "     k=k+1\n",
        "     #else:\n",
        "      # print(\"not prime\")"
      ]
    },
    {
      "cell_type": "code",
      "execution_count": null,
      "metadata": {
        "colab": {
          "base_uri": "https://localhost:8080/"
        },
        "id": "flmaBAqUzLlQ",
        "outputId": "f74e2a49-c9d0-4e08-aa6b-1971544cf415"
      },
      "outputs": [
        {
          "name": "stdout",
          "output_type": "stream",
          "text": [
            "enter your number:5\n",
            "     * \n",
            "     * * \n",
            "     * * * \n",
            "     * * * * \n",
            "     * * * * * \n"
          ]
        }
      ],
      "source": [
        "n=int(input(\"enter your number:\"))\n",
        "for j in range(1,n+1):\n",
        "    print(\" \"*(n-1),end=\" \")\n",
        "    x=1\n",
        "    for i in range(1,j+1):\n",
        "       print(\"*\", end=\" \")\n",
        "       x=x*(j-i)//i\n",
        "    print()"
      ]
    },
    {
      "cell_type": "code",
      "execution_count": null,
      "metadata": {
        "colab": {
          "base_uri": "https://localhost:8080/",
          "height": 402
        },
        "id": "iUrGJvnP3CtZ",
        "outputId": "2ad33811-b318-4b14-8712-a852ca907712"
      },
      "outputs": [
        {
          "name": "stdout",
          "output_type": "stream",
          "text": [
            "enter your number:153\n",
            "1\n",
            "5\n",
            "3\n",
            "None\n"
          ]
        },
        {
          "ename": "TypeError",
          "evalue": "unsupported operand type(s) for ** or pow(): 'str' and 'int'",
          "output_type": "error",
          "traceback": [
            "\u001b[0;31m---------------------------------------------------------------------------\u001b[0m",
            "\u001b[0;31mTypeError\u001b[0m                                 Traceback (most recent call last)",
            "\u001b[0;32m<ipython-input-30-4951f0d78d63>\u001b[0m in \u001b[0;36m<cell line: 7>\u001b[0;34m()\u001b[0m\n\u001b[1;32m      6\u001b[0m \u001b[0mprint\u001b[0m\u001b[0;34m(\u001b[0m\u001b[0mx\u001b[0m\u001b[0;34m.\u001b[0m\u001b[0minsert\u001b[0m\u001b[0;34m(\u001b[0m\u001b[0;36m0\u001b[0m\u001b[0;34m,\u001b[0m\u001b[0mi\u001b[0m\u001b[0;34m)\u001b[0m\u001b[0;34m)\u001b[0m\u001b[0;34m\u001b[0m\u001b[0;34m\u001b[0m\u001b[0m\n\u001b[1;32m      7\u001b[0m \u001b[0;32mif\u001b[0m \u001b[0mi\u001b[0m \u001b[0;32min\u001b[0m \u001b[0mx\u001b[0m\u001b[0;34m:\u001b[0m\u001b[0;34m\u001b[0m\u001b[0;34m\u001b[0m\u001b[0m\n\u001b[0;32m----> 8\u001b[0;31m    \u001b[0my\u001b[0m\u001b[0;34m=\u001b[0m\u001b[0mi\u001b[0m\u001b[0;34m**\u001b[0m\u001b[0;36m2\u001b[0m\u001b[0;34m\u001b[0m\u001b[0;34m\u001b[0m\u001b[0m\n\u001b[0m\u001b[1;32m      9\u001b[0m    \u001b[0mprint\u001b[0m \u001b[0;34m(\u001b[0m\u001b[0my\u001b[0m\u001b[0;34m)\u001b[0m\u001b[0;34m\u001b[0m\u001b[0;34m\u001b[0m\u001b[0m\n",
            "\u001b[0;31mTypeError\u001b[0m: unsupported operand type(s) for ** or pow(): 'str' and 'int'"
          ]
        }
      ],
      "source": [
        "n= input(\"enter your number:\")\n",
        "x=[]\n",
        "import math\n",
        "for i in (n) :\n",
        "   print(i)\n",
        "print(x.insert(0,i))\n",
        "if i in x:\n",
        "   y=i**2\n",
        "   print (y)"
      ]
    },
    {
      "cell_type": "code",
      "execution_count": null,
      "metadata": {
        "colab": {
          "base_uri": "https://localhost:8080/"
        },
        "id": "WpuNygtLIqw7",
        "outputId": "894ffd30-4b1a-49cb-8a62-17dde2f78d0d"
      },
      "outputs": [
        {
          "name": "stdout",
          "output_type": "stream",
          "text": [
            "enter your number:5\n",
            "2\n"
          ]
        }
      ],
      "source": [
        "n=int(input(\"enter your number:\"))\n",
        "import math\n",
        "x=math.sqrt(n)\n",
        "y=int(x)\n",
        "print (y)"
      ]
    },
    {
      "cell_type": "code",
      "execution_count": null,
      "metadata": {
        "colab": {
          "background_save": true
        },
        "id": "CT88rx3ITH91",
        "outputId": "6372476e-d77d-4007-bdb9-2616e0299d83"
      },
      "outputs": [
        {
          "name": "stdout",
          "output_type": "stream",
          "text": [
            "        \n",
            "        * \n",
            "        * * \n",
            "        * * * \n",
            "        * * * * \n"
          ]
        }
      ],
      "source": [
        "n=int(input(\"enter your number:\"))\n",
        "for i in range(n):\n",
        "  for j in range(n-1):\n",
        "     print(\" \", end=\" \")\n",
        "  for k in range(i):\n",
        "     print(\"*\",end=\" \")\n",
        "  print()"
      ]
    },
    {
      "cell_type": "code",
      "source": [
        "n= input(\"enter your number:\")\n",
        "x=[]\n",
        "for i in n:\n",
        "  print(i)\n",
        "  x.append(i)\n",
        "  print(x)\n",
        "  for element in x:\n",
        "     y=int(element)\n",
        "     print(y**3)\n",
        "\n",
        "\n",
        "\n",
        "\n"
      ],
      "metadata": {
        "id": "TWH1elkdpJ31",
        "colab": {
          "base_uri": "https://localhost:8080/"
        },
        "outputId": "f41e1de4-2118-4b82-b60b-dfd3d55568f3"
      },
      "execution_count": null,
      "outputs": [
        {
          "output_type": "stream",
          "name": "stdout",
          "text": [
            "enter your number:153\n",
            "1\n",
            "['1']\n",
            "1\n",
            "5\n",
            "['1', '5']\n",
            "1\n",
            "125\n",
            "3\n",
            "['1', '5', '3']\n",
            "1\n",
            "125\n",
            "27\n"
          ]
        }
      ]
    }
  ],
  "metadata": {
    "colab": {
      "provenance": [],
      "authorship_tag": "ABX9TyPtIyBNAIVfcjb5JJP//oGl",
      "include_colab_link": true
    },
    "kernelspec": {
      "display_name": "Python 3",
      "name": "python3"
    },
    "language_info": {
      "name": "python"
    }
  },
  "nbformat": 4,
  "nbformat_minor": 0
}