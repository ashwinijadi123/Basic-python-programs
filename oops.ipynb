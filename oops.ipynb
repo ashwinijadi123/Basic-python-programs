{
  "nbformat": 4,
  "nbformat_minor": 0,
  "metadata": {
    "colab": {
      "provenance": [],
      "authorship_tag": "ABX9TyOWTI/+M+5huLpV/h82XPra",
      "include_colab_link": true
    },
    "kernelspec": {
      "name": "python3",
      "display_name": "Python 3"
    },
    "language_info": {
      "name": "python"
    }
  },
  "cells": [
    {
      "cell_type": "markdown",
      "metadata": {
        "id": "view-in-github",
        "colab_type": "text"
      },
      "source": [
        "<a href=\"https://colab.research.google.com/github/ashwinijadi123/Basic-python-programs/blob/main/oops.ipynb\" target=\"_parent\"><img src=\"https://colab.research.google.com/assets/colab-badge.svg\" alt=\"Open In Colab\"/></a>"
      ]
    },
    {
      "cell_type": "markdown",
      "source": [
        "1. A start-up employees interns. The following details of interns are stored by the company.\n",
        " first_name\n",
        " list_name\n",
        " address\n",
        " mobile_number\n",
        " e_mail`123\n",
        "Create a class called Intern, which stores the above details. Create __init__, which takes 6\n",
        "parameters, first being ‘self’ and the rest the values of variables stated above. Craft two\n",
        "methods getdata(), which asks the user to enter data and putdata() to display the data."
      ],
      "metadata": {
        "id": "aLuRvwuarz-j"
      }
    },
    {
      "cell_type": "code",
      "source": [
        "class company():\n",
        "   def __init__(self,first_name,last_name):\n",
        "       self.first_name=first_name\n",
        "       self.last_name=last_name\n",
        "   def display(self):\n",
        "       print(self.last_name)\n",
        "       print(self.first_name)\n",
        "class intern(company):\n",
        "   def __init__(self,first_name,last_name,address,mobile_no,email):\n",
        "        self.first_name=first_name\n",
        "        self.last_name=last_name\n",
        "        self.address=address\n",
        "        self.mobile_no=mobile_no\n",
        "        self.email=email\n",
        "   def display(self):\n",
        "       print(self.last_name)\n",
        "       print(self.first_name)\n",
        "       print(self.address)\n",
        "       print(self.mobile_no)\n",
        "       print(self.email)\n",
        "ob=intern(\"ashwini\",\"jadi\",\"telangana\",9550735145,\"jadi123\")\n",
        "ob.display()"
      ],
      "metadata": {
        "colab": {
          "base_uri": "https://localhost:8080/"
        },
        "id": "afOOLZqDr2_y",
        "outputId": "e63b6b93-ffa1-4175-8fbe-44e462c39cb1"
      },
      "execution_count": null,
      "outputs": [
        {
          "output_type": "stream",
          "name": "stdout",
          "text": [
            "jadi\n",
            "ashwini\n",
            "telangana\n",
            "9550735145\n",
            "jadi123\n"
          ]
        }
      ]
    },
    {
      "cell_type": "code",
      "source": [
        "class intern():\n",
        "   def __init__(self,first_name,last_name,address,mobile_no,email):\n",
        "       self.first_name=first_name\n",
        "       self.last_name=last_name\n",
        "       self.address=address\n",
        "       self.mobile_no=mobile_no\n",
        "       self.email=email\n",
        "   def getdata(self):\n",
        "       self.first_name=input(\"enter your first_name:\")\n",
        "       self.last_name=input(\"enter your last_name:\")\n",
        "       self.address=input(\"enter your address:\")\n",
        "       self.mobile_no=input(\"enter your mobile_no:\")\n",
        "       self.email=input(\"enter your email:\")\n",
        "   def putdata(self):\n",
        "       print(self.first_name)\n",
        "       print(self.last_name)\n",
        "       print(self.address)\n",
        "       print(self.mobile_no)\n",
        "       print(self.email)\n",
        "ob=intern(\"\",\"\",\"\",\"\",\"\")\n",
        "ob.getdata()\n",
        "ob.putdata()"
      ],
      "metadata": {
        "colab": {
          "base_uri": "https://localhost:8080/"
        },
        "id": "bokleH2JxB5_",
        "outputId": "bd585678-51fb-402e-dbdb-5ad73b2fc9fe"
      },
      "execution_count": null,
      "outputs": [
        {
          "output_type": "stream",
          "name": "stdout",
          "text": [
            "enter your first_name:ashwini\n",
            "enter your last_name:jadi\n",
            "enter your address:telangana\n",
            "enter your mobile_no:9550735146\n",
            "enter your email:jadiashwini2004@gmail.com\n",
            "ashwini\n",
            "jadi\n",
            "telangana\n",
            "9550735146\n",
            "jadiashwini2004@gmail.com\n"
          ]
        }
      ]
    },
    {
      "cell_type": "markdown",
      "source": [
        "2. A library management system is to be created, in which the following details of a ‘Book’\n",
        "are to be stored.\n",
        " Name\n",
        " Publisher\n",
        " Year\n",
        " ISBN\n",
        " Authors\n",
        "The authors, above is a list consisting of all the authors of that book. Create a class called\n",
        "Book, which stores the above details. Develop two methods getdata(), which reads the\n",
        "user to enter the data and putdata() to display the data."
      ],
      "metadata": {
        "id": "LAl1ygdTr6Si"
      }
    },
    {
      "cell_type": "code",
      "source": [
        "class book():\n",
        "   def __init__(self,name,publisher,year,ISBN,author):\n",
        "       self.name=name\n",
        "       self.publisher=publisher\n",
        "       self.year=year\n",
        "       self.ISBN=ISBN\n",
        "       self.author=author\n",
        "   def getdata(self):\n",
        "       self.name=input(\"enter your name:\")\n",
        "       self.publisher=input(\"enter your publisher:\")\n",
        "       self.year=input(\"enter your year:\")\n",
        "       self.ISBN=input(\"enter your ISBN:\")\n",
        "       self.author=input(\"enter your author:\")\n",
        "   def putdata(self):\n",
        "       print(self.name)\n",
        "       print(self.publisher)\n",
        "       print(self.year)\n",
        "       print(self.ISBN)\n",
        "       print(self.author)\n",
        "ob=book(\"\",\"\",\"\",\"\",\"\")\n",
        "ob.getdata()\n",
        "ob.putdata()\n",
        "\n"
      ],
      "metadata": {
        "colab": {
          "base_uri": "https://localhost:8080/"
        },
        "id": "BMPNjrqSr7Ra",
        "outputId": "dfc9c053-8db6-4f3f-ef05-4654418821ad"
      },
      "execution_count": null,
      "outputs": [
        {
          "output_type": "stream",
          "name": "stdout",
          "text": [
            "enter your name:python programming\n",
            "enter your publisher:TEREJA\n",
            "enter your year:2023\n",
            "enter your ISBN:123\n",
            "enter your author:REMA\n",
            "python programming\n",
            "TEREJA\n",
            "2023\n",
            "123\n",
            "REMA\n"
          ]
        }
      ]
    },
    {
      "cell_type": "markdown",
      "source": [
        "3. Create a class called comples, have real_part and ima_part as its two data members and\n",
        "getdata(), putdata(), add(), sub(), multiply() and div() methods.\n",
        "getdata()- asks the data from user and stores in data members\n",
        "putdata()-display the complex number in complex number format\n",
        "add()-takes two complex numbers as its parameters and returns the sum of the two complex\n",
        "numbers\n",
        "sub()- takes two complex numbers as its parameters and returns the difference of the two\n",
        "complex numbers\n",
        "multiply()- takes two complex numbers as its parameters and returns the product of the two\n",
        "complex numbers\n",
        "div()- takes two complex numbers as its parameters and returns the results of division of\n",
        "the two complex numbers"
      ],
      "metadata": {
        "id": "c0svZNJ3r_u4"
      }
    },
    {
      "cell_type": "code",
      "source": [
        "class comples():\n",
        "   def __init__(self,real_part,ima_part):\n",
        "      self.real_part=real_part\n",
        "      self.ima_part=ima_part\n",
        "   def getdata(self):\n",
        "      self.real_part=int(input(\"enter your real part:\"))\n",
        "      self.ima_part=int(input(\"enter your ima part:\"))\n",
        "   def putdata(self):\n",
        "       print(self.real_part)\n",
        "       print(self.ima_part)\n",
        "   def add(self):\n",
        "      print(\"the addition of two numbers is\",self.real_part+self.ima_part)\n",
        "   def sub(self):\n",
        "      print(\"the subtraction of two numbers is\",self.real_part-self.ima_part)\n",
        "   def multiply(self):\n",
        "      print(\"multiplication of two numbers is\",self.real_part*self.ima_part)\n",
        "   def div(self):\n",
        "      print(\"the division of two numbers is\",self.real_part/self.ima_part)\n",
        "a=comples(\"\",\"\")\n",
        "a.getdata()\n",
        "a.putdata()\n",
        "a.add()\n",
        "a.sub()\n",
        "a.multiply()\n",
        "a.div()\n",
        ""
      ],
      "metadata": {
        "id": "8p2OerYksAso",
        "colab": {
          "base_uri": "https://localhost:8080/"
        },
        "outputId": "d63493e4-6d23-44c9-fb9b-4feb73167140"
      },
      "execution_count": 7,
      "outputs": [
        {
          "output_type": "stream",
          "name": "stdout",
          "text": [
            "enter your real part:5\n",
            "enter your ima part:3\n",
            "5\n",
            "3\n",
            "the addition of two numbers is 8\n",
            "the subtraction of two numbers is 2\n",
            "multiplication of two numbers is 15\n",
            "the division of two numbers is 1.6666666666666667\n"
          ]
        }
      ]
    },
    {
      "cell_type": "markdown",
      "source": [
        "4. Implement the following multiple inheritance\n",
        "Class Person: A base class that holds the basic information (e.g., name and age). Craft the\n",
        "__init__, and get_details() methods\n",
        "Class Employee: A class that represents the employee role. This class will add the\n",
        "employee_id attribute to identify employees uniquely. Craft the __init__(), and\n",
        "get_employee_details() methods\n",
        "Class Manager: A specialized class for managerial roles. Since Manager is both a Person\n",
        "and an Employee, it will inherit from both classes. Additionally, it will contain a\n",
        "department attribute and can have methods to manage employees under its supervision.\n",
        "Craft the __init__(), and get_full_details() methods."
      ],
      "metadata": {
        "id": "WMA4FkECsDMQ"
      }
    },
    {
      "cell_type": "code",
      "source": [
        "class person():\n",
        "   def __init__(self,name,age):\n",
        "        self.name=name\n",
        "        self.age=age\n",
        "class employee():\n",
        "    def __init__(self,name,age,e_id):\n",
        "        self.name=name\n",
        "        self.age=age\n",
        "        self.e_id=e_id\n",
        "class manager(person,employee):\n",
        "    def __init__(self,name,age,e_id,department):\n",
        "        self.name=name\n",
        "        self.age=age\n",
        "        self.e_id=e_id\n",
        "        self.department=department\n",
        "    def display(self):\n",
        "         print(self.name)\n",
        "         print(self.age)\n",
        "         print(self.e_id)\n",
        "         print(self.department)\n",
        "ob=manager(\"hari\",45,1234,\"cs\")\n",
        "ob.display()"
      ],
      "metadata": {
        "colab": {
          "base_uri": "https://localhost:8080/"
        },
        "id": "hMRXMo5TsEEI",
        "outputId": "961f2ba7-0d1f-4ef1-b1c0-677aff835881"
      },
      "execution_count": 5,
      "outputs": [
        {
          "output_type": "stream",
          "name": "stdout",
          "text": [
            "hari\n",
            "45\n",
            "1234\n",
            "cs\n"
          ]
        }
      ]
    },
    {
      "cell_type": "markdown",
      "source": [
        "5. Create a class called Employee, having name, email, age and phone_number as data\n",
        "members. The methods getdata() assign values to the variables. The putdata() method\n",
        "should display the data. The class must have an __init__. Programmer is a derived class\n",
        "of Employee class, which has another data member called language. Override the getdata()\n",
        "and putdata() methods. The Manager is another derived class of the Employee class. The\n",
        "Manger class should also have a list of Employees that work under him. The class has the\n",
        "usual getdata() and putdata() methods and also has special methods to add or remove\n",
        "employees."
      ],
      "metadata": {
        "id": "Ogf2DmJXsHPA"
      }
    },
    {
      "cell_type": "code",
      "source": [
        "class employee():\n",
        "   def __init__(self,name,age,email,phone_no):\n",
        "        self.name=name\n",
        "        self.age=age\n",
        "        self.email=email\n",
        "        self.phone_no=phone_no\n",
        "   def getdata(self):\n",
        "       self.name=input(\"enter your name:\")\n",
        "       self.age=input(\"enter your age:\")\n",
        "       self.email=input(\"enter your email:\")\n",
        "       self.phone_no=input(\"enter your phone_no\")\n",
        "class programmer(employee):\n",
        "      def __init__(self,name,age,email,phone_no,language):\n",
        "        self.name=name\n",
        "        self.age=age\n",
        "        self.email=email\n",
        "        self.phone_no=phone_no\n",
        "        self.language=language\n",
        "      def getdata(self):\n",
        "       self.name=input(\"enter your name:\")\n",
        "       self.age=input(\"enter your age:\")\n",
        "       self.email=input(\"enter your email:\")\n",
        "       self.phone_no=input(\"enter your phone_no\")\n",
        "       self.lanuage=input(\"enter your language:\")\n",
        "      def putdata(self):\n",
        "       print(self.name)\n",
        "       print(self.age)\n",
        "       print(self.email)\n",
        "       print(self.phone_no)\n",
        "       print(self.language)\n",
        "class manager(employee):\n",
        "      def __init__(self,name,age,email,phone_no,language,):\n",
        "        self.name=name\n",
        "        self.age=age\n",
        "        self.email=email\n",
        "        self.phone_no=phone_no\n",
        "        self.language=language\n",
        "      def getdata(self):\n",
        "        self.name=input(\"enter your name:\")\n",
        "        self.age=input(\"enter your age:\")\n",
        "        self.email=input(\"enter your email:\")\n",
        "        self.phone_no=input(\"enter your phone_no\")\n",
        "        self.lanuage=input(\"enter your language:\")\n",
        "      def putdata(self):\n",
        "       print(self.name)\n",
        "       print(self.age)\n",
        "       print(self.email)\n",
        "       print(self.phone_no)\n",
        "       print(self.language)\n",
        "ob1=programmer(\"\",\"\",\"\",\"\",\"\")\n",
        "ob1.getdata()\n",
        "ob1.putdata()\n",
        "ob=manager(\"\",\"\",\"\",\"\",\"\")\n",
        "ob.getdata()\n",
        "ob.putdata()"
      ],
      "metadata": {
        "colab": {
          "base_uri": "https://localhost:8080/"
        },
        "id": "r5dqOiGBsINg",
        "outputId": "f7df9682-f1e9-4176-b71d-533c50af7ef6"
      },
      "execution_count": null,
      "outputs": [
        {
          "output_type": "stream",
          "name": "stdout",
          "text": [
            "enter your name:ashwini\n",
            "enter your age:20\n",
            "enter your email:jad123\n",
            "enter your phone_no680976544\n",
            "enter your language:python\n",
            "ashwini\n",
            "20\n",
            "jad123\n",
            "680976544\n",
            "\n",
            "enter your name:anu\n",
            "enter your age:23\n",
            "enter your email:jadianu123\n",
            "enter your phone_no992345678\n",
            "enter your language:c\n",
            "anu\n",
            "23\n",
            "jadianu123\n",
            "992345678\n",
            "\n"
          ]
        }
      ]
    },
    {
      "cell_type": "code",
      "source": [
        "class employee():\n",
        "   def __init__(self,name,age,email,phone_no):\n",
        "        self.name=name\n",
        "        self.age=age\n",
        "        self.email=email\n",
        "        self.phone_no=phone_no\n",
        "   def getdata(self):\n",
        "       self.name=input(\"enter your name:\")\n",
        "       self.age=input(\"enter your age:\")\n",
        "       self.email=input(\"enter your email:\")\n",
        "       self.phone_no=input(\"enter your phone_no:\")\n",
        "   def putdata(self):\n",
        "       print(self.name)\n",
        "       print(self.age)\n",
        "       print(self.email)\n",
        "       print(self.phone_no)\n",
        "class programmer(employee):\n",
        "      def __init__(self,name,age,email,phone_no,language):\n",
        "        super().__init__(name,age,email,phone_no)\n",
        "        self.language=language\n",
        "      def getdata(self):\n",
        "        super().getdata()\n",
        "        self.lanuage=input(\"enter your language:\")\n",
        "      def putdata(self):\n",
        "        super().putdata()\n",
        "        print(self.language)\n",
        "class manager(employee):\n",
        "      def __init__(self,name,age,email,phone_no):\n",
        "        super().__init__(name,age,email,phone_no)\n",
        "        self.emps=[]\n",
        "      def getdata(self):\n",
        "        super().getdata()\n",
        "        self.emp_no=int(input(\"enter your no of employee:\"))\n",
        "        for i in range(self.emp_no):\n",
        "          emp=employee(\"\",\"\",\"\",\"\")\n",
        "          emp.getdata()\n",
        "          self.emps.append(emp)\n",
        "        super().getdata()\n",
        "      def putdata(self):\n",
        "        super().putdata()\n",
        "        print(\"Employees under this manager:\")\n",
        "        for emp in self.emps:\n",
        "            emp.putdata()\n",
        "      def add_employee(self, employee):\n",
        "        self.employees.append(employee)\n",
        "      def remove_employee(self, name):\n",
        "        self.employees = [emp for emp in self.employees if emp.name != name]\n",
        "\n",
        "ob1=programmer(\"\",\"\",\"\",\"\",\"\")\n",
        "ob1.getdata()\n",
        "ob1.putdata()\n",
        "ob=manager(\"\",\"\",\"\",\"\")\n",
        "ob.getdata()\n",
        "ob.putdata()"
      ],
      "metadata": {
        "colab": {
          "base_uri": "https://localhost:8080/"
        },
        "id": "OMH2q0P-CGMD",
        "outputId": "af5a1319-39ab-42d1-d6a4-07b6cb8940c3"
      },
      "execution_count": 4,
      "outputs": [
        {
          "output_type": "stream",
          "name": "stdout",
          "text": [
            "enter your name:jadi ashwini\n",
            "enter your age:20\n",
            "enter your email:jadi123\n",
            "enter your phone_no:765432189\n",
            "enter your language:python\n",
            "jadi ashwini\n",
            "20\n",
            "jadi123\n",
            "765432189\n",
            "\n",
            "enter your name:praveen\n",
            "enter your age:27\n",
            "enter your email:praveen24\n",
            "enter your phone_no:7654432119\n",
            "enter your no of employee:3\n",
            "enter your name:ashwini\n",
            "enter your age:20\n",
            "enter your email:jadi123\n",
            "enter your phone_no:987654321\n",
            "enter your name:praveen\n",
            "enter your age:27\n",
            "enter your email:praveen24\n",
            "enter your phone_no:7890654332\n",
            "enter your name:jadi anusha\n",
            "enter your age:19\n",
            "enter your email:anu26\n",
            "enter your phone_no:9876554322\n",
            "enter your name:vana\n",
            "enter your age:20\n",
            "enter your email:vana17\n",
            "enter your phone_no:643256789\n",
            "vana\n",
            "20\n",
            "vana17\n",
            "643256789\n",
            "Employees under this manager:\n",
            "ashwini\n",
            "20\n",
            "jadi123\n",
            "987654321\n",
            "praveen\n",
            "27\n",
            "praveen24\n",
            "7890654332\n",
            "jadi anusha\n",
            "19\n",
            "anu26\n",
            "9876554322\n"
          ]
        }
      ]
    },
    {
      "cell_type": "code",
      "source": [],
      "metadata": {
        "id": "RU_pHvSjTIeS"
      },
      "execution_count": null,
      "outputs": []
    }
  ]
}