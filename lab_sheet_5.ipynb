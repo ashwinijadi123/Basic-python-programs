{
  "nbformat": 4,
  "nbformat_minor": 0,
  "metadata": {
    "colab": {
      "provenance": [],
      "authorship_tag": "ABX9TyPRcV1Q6uYOD4R1zfuuBnNE",
      "include_colab_link": true
    },
    "kernelspec": {
      "name": "python3",
      "display_name": "Python 3"
    },
    "language_info": {
      "name": "python"
    }
  },
  "cells": [
    {
      "cell_type": "markdown",
      "metadata": {
        "id": "view-in-github",
        "colab_type": "text"
      },
      "source": [
        "<a href=\"https://colab.research.google.com/github/ashwinijadi123/Basic-python-programs/blob/main/lab_sheet_5.ipynb\" target=\"_parent\"><img src=\"https://colab.research.google.com/assets/colab-badge.svg\" alt=\"Open In Colab\"/></a>"
      ]
    },
    {
      "cell_type": "code",
      "execution_count": null,
      "metadata": {
        "colab": {
          "base_uri": "https://localhost:8080/"
        },
        "id": "RVt2UJt7MMG6",
        "outputId": "76bcd5de-19a5-463f-8815-5ad3223a2a8d"
      },
      "outputs": [
        {
          "output_type": "stream",
          "name": "stdout",
          "text": [
            "enter your num:6\n",
            "enter your num:6\n",
            "*\n",
            "**\n",
            "***\n",
            "****\n",
            "*****\n"
          ]
        }
      ],
      "source": [
        "n=int(input(\"enter your num:\"))\n",
        "m=int(input(\"enter your num:\"))\n",
        "for i in range(1,n):\n",
        "   for j in range(i):\n",
        "       print(\"*\",end=\"\")\n",
        "   print()"
      ]
    },
    {
      "cell_type": "code",
      "source": [
        "n=int(input(\"enter your num:\"))\n",
        "m=int(input(\"enter your num:\"))\n",
        "for i in range(1,n):\n",
        "   for j in range(i):\n",
        "       print(i,end=\"\")\n",
        "   print()"
      ],
      "metadata": {
        "colab": {
          "base_uri": "https://localhost:8080/"
        },
        "id": "1MzoS5O-N-v2",
        "outputId": "f90acb36-f3b1-4374-8562-ff43bbcbf284"
      },
      "execution_count": null,
      "outputs": [
        {
          "output_type": "stream",
          "name": "stdout",
          "text": [
            "enter your num:6\n",
            "enter your num:6\n",
            "1\n",
            "22\n",
            "333\n",
            "4444\n",
            "55555\n"
          ]
        }
      ]
    },
    {
      "cell_type": "code",
      "source": [
        "n=int(input(\"enter your num:\"))\n",
        "m=int(input(\"enter your num:\"))\n",
        "for i in range(1,n):\n",
        "  for j in range(n-i):\n",
        "       print(\" \",end=\" \")\n",
        "  for k in range(i):\n",
        "       print(i,end=\" \")\n",
        "  print()"
      ],
      "metadata": {
        "colab": {
          "base_uri": "https://localhost:8080/"
        },
        "id": "TOi8G0mD33OH",
        "outputId": "53a5668b-8426-480d-c28c-482948e79eb4"
      },
      "execution_count": null,
      "outputs": [
        {
          "output_type": "stream",
          "name": "stdout",
          "text": [
            "enter your num:6\n",
            "enter your num:6\n",
            "          1 \n",
            "        2 2 \n",
            "      3 3 3 \n",
            "    4 4 4 4 \n",
            "  5 5 5 5 5 \n"
          ]
        }
      ]
    },
    {
      "cell_type": "code",
      "source": [
        "n=int(input(\"enter your num:\"))\n",
        "m=int(input(\"enter your num:\"))\n",
        "for i in range(1,n):\n",
        "  for j in range(n-i):\n",
        "       print(\" \",end=\" \")\n",
        "  for k in range(i):\n",
        "       print(\"*\",end=\" \")\n",
        "  print()"
      ],
      "metadata": {
        "colab": {
          "base_uri": "https://localhost:8080/"
        },
        "id": "-v1KmzGR_8pZ",
        "outputId": "3afb4323-8727-44cc-c2f2-26b901e234ef"
      },
      "execution_count": null,
      "outputs": [
        {
          "output_type": "stream",
          "name": "stdout",
          "text": [
            "enter your num:6\n",
            "enter your num:6\n",
            "          * \n",
            "        * * \n",
            "      * * * \n",
            "    * * * * \n",
            "  * * * * * \n"
          ]
        }
      ]
    },
    {
      "cell_type": "code",
      "source": [
        "n=int(input(\"enter your num:\"))\n",
        "m=int(input(\"enter your num:\"))\n",
        "for i in range(1,n):\n",
        "   for j in range(1,i):\n",
        "       print(j,end=\"\")\n",
        "   print()"
      ],
      "metadata": {
        "colab": {
          "base_uri": "https://localhost:8080/"
        },
        "id": "_iZOVKueRl1L",
        "outputId": "5c93b713-c883-4268-a6ba-8b04bba4d62a"
      },
      "execution_count": null,
      "outputs": [
        {
          "output_type": "stream",
          "name": "stdout",
          "text": [
            "enter your num:7\n",
            "enter your num:7\n",
            "\n",
            "1\n",
            "12\n",
            "123\n",
            "1234\n",
            "12345\n"
          ]
        }
      ]
    },
    {
      "cell_type": "code",
      "source": [
        "n=int(input(\"enter your num:\"))\n",
        "m=int(input(\"enter your num:\"))\n",
        "for i in range(1,n):\n",
        "   for j in range(1,n-i):\n",
        "       print (\" \",end=\"\")\n",
        "   for k in range(1,i):\n",
        "       print(k,end=\" \")\n",
        "   print()"
      ],
      "metadata": {
        "colab": {
          "base_uri": "https://localhost:8080/"
        },
        "id": "syOlC2Na6RiT",
        "outputId": "82bc712c-7d0d-4490-938d-e251ce70f95d"
      },
      "execution_count": null,
      "outputs": [
        {
          "output_type": "stream",
          "name": "stdout",
          "text": [
            "enter your num:7\n",
            "enter your num:7\n",
            "     \n",
            "    1 \n",
            "   1 2 \n",
            "  1 2 3 \n",
            " 1 2 3 4 \n",
            "1 2 3 4 5 \n"
          ]
        }
      ]
    },
    {
      "cell_type": "code",
      "source": [
        "\n",
        "n=int(input(\"enter your num:\"))\n",
        "m=int(input(\"enter your num:\"))\n",
        "for i in range(1,n):\n",
        "   for j in range(n-i):\n",
        "       print (\" \",end=\" \")\n",
        "   for k in range(1,i):\n",
        "       print(k,end=\" \")\n",
        "   print()"
      ],
      "metadata": {
        "colab": {
          "base_uri": "https://localhost:8080/"
        },
        "id": "F9JZS-7x_eXu",
        "outputId": "6290455b-eebf-44ef-906e-748727d6d5e2"
      },
      "execution_count": null,
      "outputs": [
        {
          "output_type": "stream",
          "name": "stdout",
          "text": [
            "enter your num:7\n",
            "enter your num:7\n",
            "            \n",
            "          1 \n",
            "        1 2 \n",
            "      1 2 3 \n",
            "    1 2 3 4 \n",
            "  1 2 3 4 5 \n"
          ]
        }
      ]
    },
    {
      "cell_type": "code",
      "source": [
        "n=int(input(\"enter your num:\"))\n",
        "m=int(input(\"enter your num:\"))\n",
        "for i in range(n+1):\n",
        "   for j in range(n-i):\n",
        "       print(\" \",end=\" \")\n",
        "   for j in range(n,n-i,-1):\n",
        "       print(j,end=\" \")\n",
        "   print()"
      ],
      "metadata": {
        "colab": {
          "base_uri": "https://localhost:8080/"
        },
        "id": "UZgtQpr_lG-5",
        "outputId": "23a33075-08e7-4784-b233-f830f9e672ad"
      },
      "execution_count": null,
      "outputs": [
        {
          "output_type": "stream",
          "name": "stdout",
          "text": [
            "enter your num:5\n",
            "enter your num:5\n",
            "          \n",
            "        5 \n",
            "      5 4 \n",
            "    5 4 3 \n",
            "  5 4 3 2 \n",
            "5 4 3 2 1 \n"
          ]
        }
      ]
    },
    {
      "cell_type": "code",
      "source": [
        "n=int(input(\"enter your num:\"))\n",
        "m=int(input(\"enter your num:\"))\n",
        "for i in range(1,n, 1):\n",
        "  for j in range(1,n-i+1, 1):\n",
        "       print(\" \",end=\"\")\n",
        "  for k in range(i):\n",
        "       print(j,end=\" \")\n",
        "  print()"
      ],
      "metadata": {
        "colab": {
          "base_uri": "https://localhost:8080/"
        },
        "id": "UAK4RXnPCcYQ",
        "outputId": "74663f37-5fec-4dba-9e74-97af4e6318e5"
      },
      "execution_count": null,
      "outputs": [
        {
          "output_type": "stream",
          "name": "stdout",
          "text": [
            "enter your num:6\n",
            "enter your num:6\n",
            "     5 \n",
            "    4 4 \n",
            "   3 3 3 \n",
            "  2 2 2 2 \n",
            " 1 1 1 1 1 \n"
          ]
        }
      ]
    },
    {
      "cell_type": "code",
      "source": [
        "n=int(input(\"enter your num:\"))\n",
        "m=int(input(\"enter your num:\"))\n",
        "for i in range(1,n):\n",
        "  for j in range(n-i+1):\n",
        "       print(\" \",end=\" \")\n",
        "  for k in range(i):\n",
        "       print(j,end=\" \")\n",
        "  print()"
      ],
      "metadata": {
        "colab": {
          "base_uri": "https://localhost:8080/"
        },
        "id": "szOC60doHnUa",
        "outputId": "313a5fb5-a262-4b4e-c775-3514cdf3900b"
      },
      "execution_count": null,
      "outputs": [
        {
          "output_type": "stream",
          "name": "stdout",
          "text": [
            "enter your num:6\n",
            "enter your num:6\n",
            "            5 \n",
            "          4 4 \n",
            "        3 3 3 \n",
            "      2 2 2 2 \n",
            "    1 1 1 1 1 \n"
          ]
        }
      ]
    },
    {
      "cell_type": "code",
      "source": [
        "n=int(input(\"enter your num:\"))\n",
        "m=int(input(\"enter your num:\"))\n",
        "print(\"@\"*n)\n",
        "for i in range(1,n):\n",
        "    print(\"@\"+\" \"*(n-2)+\"@\")\n",
        "print(\"@\"*n)\n"
      ],
      "metadata": {
        "colab": {
          "base_uri": "https://localhost:8080/"
        },
        "id": "crmhWx0OSlHT",
        "outputId": "7b35cbb4-79e7-48b0-c4e2-d854d2bfa462"
      },
      "execution_count": null,
      "outputs": [
        {
          "output_type": "stream",
          "name": "stdout",
          "text": [
            "enter your num:7\n",
            "enter your num:7\n",
            "@@@@@@@\n",
            "@     @\n",
            "@     @\n",
            "@     @\n",
            "@     @\n",
            "@     @\n",
            "@     @\n",
            "@@@@@@@\n"
          ]
        }
      ]
    },
    {
      "cell_type": "code",
      "source": [
        "for i in range(6):\n",
        "   for j in range(5-i):\n",
        "      print(\" \",end=\"\")\n",
        "   for k in range(i):\n",
        "      print(i,end=\" \")\n",
        "   print()\n"
      ],
      "metadata": {
        "colab": {
          "base_uri": "https://localhost:8080/"
        },
        "id": "APv4TcD9dLzw",
        "outputId": "b70fdc28-f352-42c4-add5-6b02f8cc949b"
      },
      "execution_count": null,
      "outputs": [
        {
          "output_type": "stream",
          "name": "stdout",
          "text": [
            "     \n",
            "    1 \n",
            "   2 2 \n",
            "  3 3 3 \n",
            " 4 4 4 4 \n",
            "5 5 5 5 5 \n"
          ]
        }
      ]
    },
    {
      "cell_type": "code",
      "source": [
        "for i in range(7):\n",
        "   for j in range(1,6-i):\n",
        "          print(j,end=\"\")\n",
        "   for k in range(j):\n",
        "          print(\" \",end=\"\")\n",
        "   print()\n",
        "   #print()"
      ],
      "metadata": {
        "colab": {
          "base_uri": "https://localhost:8080/"
        },
        "id": "aRVqX4k0rwo7",
        "outputId": "374c730b-b0de-4c00-a49f-8c4ec8d98178"
      },
      "execution_count": null,
      "outputs": [
        {
          "output_type": "stream",
          "name": "stdout",
          "text": [
            "12345     \n",
            "1234    \n",
            "123   \n",
            "12  \n",
            "1 \n",
            " \n",
            " \n"
          ]
        }
      ]
    },
    {
      "cell_type": "code",
      "source": [
        "for i in range(5,0,-1):\n",
        "   print(\" \",str(i)*i)"
      ],
      "metadata": {
        "colab": {
          "base_uri": "https://localhost:8080/"
        },
        "id": "A8jh2B6vyc1r",
        "outputId": "9b0beddc-454d-40dc-f775-19824dbfa7cf"
      },
      "execution_count": 164,
      "outputs": [
        {
          "output_type": "stream",
          "name": "stdout",
          "text": [
            "  55555\n",
            "  4444\n",
            "  333\n",
            "  22\n",
            "  1\n"
          ]
        }
      ]
    },
    {
      "cell_type": "code",
      "source": [
        "for i in range(5):\n",
        "  for j in range(1,6):\n",
        "    print(\"*\",end=\" \")\n",
        "  print()"
      ],
      "metadata": {
        "colab": {
          "base_uri": "https://localhost:8080/"
        },
        "id": "E7d9hOGDf_Mk",
        "outputId": "f0e75bdf-dc92-4b4d-ad77-9bb63c606ee9"
      },
      "execution_count": null,
      "outputs": [
        {
          "output_type": "stream",
          "name": "stdout",
          "text": [
            "* * * * * \n",
            "* * * * * \n",
            "* * * * * \n",
            "* * * * * \n",
            "* * * * * \n"
          ]
        }
      ]
    },
    {
      "cell_type": "code",
      "source": [
        "for i in range(1):\n",
        "  for j in range(1,6):\n",
        "    print(\"ABCDE\")\n",
        "  print()"
      ],
      "metadata": {
        "colab": {
          "base_uri": "https://localhost:8080/"
        },
        "id": "J9eenwFiDStG",
        "outputId": "20e9603e-7ff9-40c8-fde4-29f49b8fa4df"
      },
      "execution_count": null,
      "outputs": [
        {
          "output_type": "stream",
          "name": "stdout",
          "text": [
            "ABCDE\n",
            "ABCDE\n",
            "ABCDE\n",
            "ABCDE\n",
            "ABCDE\n",
            "\n"
          ]
        }
      ]
    },
    {
      "cell_type": "code",
      "source": [
        "for i in range(1):\n",
        "  for j in range(1,6):\n",
        "    print(\"A2C4E\")\n",
        "  print()"
      ],
      "metadata": {
        "colab": {
          "base_uri": "https://localhost:8080/"
        },
        "id": "9lKnepCYkqpP",
        "outputId": "66670ed6-3b9b-456a-9535-94e9cdfe85c2"
      },
      "execution_count": null,
      "outputs": [
        {
          "output_type": "stream",
          "name": "stdout",
          "text": [
            "A2C4E\n",
            "A2C4E\n",
            "A2C4E\n",
            "A2C4E\n",
            "A2C4E\n",
            "\n"
          ]
        }
      ]
    },
    {
      "cell_type": "code",
      "source": [
        "for i in range(5):\n",
        "  for j in range(1,6):\n",
        "    print(j,end=\" \")\n",
        "  print()"
      ],
      "metadata": {
        "colab": {
          "base_uri": "https://localhost:8080/"
        },
        "id": "YRWh574fhf34",
        "outputId": "a8bf046b-2220-4456-bee7-634fbbb274de"
      },
      "execution_count": null,
      "outputs": [
        {
          "output_type": "stream",
          "name": "stdout",
          "text": [
            "1 2 3 4 5 \n",
            "1 2 3 4 5 \n",
            "1 2 3 4 5 \n",
            "1 2 3 4 5 \n",
            "1 2 3 4 5 \n"
          ]
        }
      ]
    },
    {
      "cell_type": "code",
      "source": [
        "for i in range(1,6):\n",
        "  for j in range(1,6):\n",
        "    print(i,end=\" \")\n",
        "  print()"
      ],
      "metadata": {
        "colab": {
          "base_uri": "https://localhost:8080/"
        },
        "id": "MhyTPahvhrAa",
        "outputId": "40dd7c30-9c49-4f8f-c4ac-f613bedc00d5"
      },
      "execution_count": null,
      "outputs": [
        {
          "output_type": "stream",
          "name": "stdout",
          "text": [
            "1 1 1 1 1 \n",
            "2 2 2 2 2 \n",
            "3 3 3 3 3 \n",
            "4 4 4 4 4 \n",
            "5 5 5 5 5 \n"
          ]
        }
      ]
    },
    {
      "cell_type": "code",
      "source": [
        "for i in range(2,11,2):\n",
        "    for j in range(2,11,2):\n",
        "        print(j,end=\" \")\n",
        "    print()"
      ],
      "metadata": {
        "colab": {
          "base_uri": "https://localhost:8080/"
        },
        "id": "ADo9dKfHh6g8",
        "outputId": "76697486-f2d4-4e96-ed2c-e9a1e29cd4dc"
      },
      "execution_count": null,
      "outputs": [
        {
          "output_type": "stream",
          "name": "stdout",
          "text": [
            "2 4 6 8 10 \n",
            "2 4 6 8 10 \n",
            "2 4 6 8 10 \n",
            "2 4 6 8 10 \n",
            "2 4 6 8 10 \n"
          ]
        }
      ]
    },
    {
      "cell_type": "code",
      "source": [
        "for i in range(1,6,2):\n",
        "    for j in range(1,10,2):\n",
        "         print(j,end=\" \")\n",
        "    print()"
      ],
      "metadata": {
        "colab": {
          "base_uri": "https://localhost:8080/"
        },
        "id": "qa59zGA3jIpP",
        "outputId": "89055d20-d798-4ffe-c003-2d5b864d723a"
      },
      "execution_count": null,
      "outputs": [
        {
          "output_type": "stream",
          "name": "stdout",
          "text": [
            "1 3 5 7 9 \n",
            "1 3 5 7 9 \n",
            "1 3 5 7 9 \n"
          ]
        }
      ]
    },
    {
      "cell_type": "code",
      "source": [
        "for i in range(1,10):\n",
        "     if i==3:\n",
        "        print(\"123\")\n",
        "     elif i==6:\n",
        "        print ( \"456\")\n",
        "     elif i==9:\n",
        "        print (\"789\" )"
      ],
      "metadata": {
        "colab": {
          "base_uri": "https://localhost:8080/"
        },
        "id": "cnxL2gS0lP5L",
        "outputId": "e67f9fa2-9ab4-402a-c71f-9585153d1651"
      },
      "execution_count": null,
      "outputs": [
        {
          "output_type": "stream",
          "name": "stdout",
          "text": [
            "123\n",
            "456\n",
            "789\n"
          ]
        }
      ]
    },
    {
      "cell_type": "code",
      "source": [
        "print(\"@@@@@\")\n",
        "for i in range(3):\n",
        "  print(\"@***@\")\n",
        "print(\"@@@@@\")"
      ],
      "metadata": {
        "colab": {
          "base_uri": "https://localhost:8080/"
        },
        "id": "mWzyiQZGofhF",
        "outputId": "b473f992-7600-4baf-93ab-bbda4a53d396"
      },
      "execution_count": null,
      "outputs": [
        {
          "output_type": "stream",
          "name": "stdout",
          "text": [
            "@@@@@\n",
            "@***@\n",
            "@***@\n",
            "@***@\n",
            "@@@@@\n"
          ]
        }
      ]
    },
    {
      "cell_type": "code",
      "source": [
        "print(\"@@@@@\")\n",
        "for i in range(3):\n",
        "  print(\"@   @\")\n",
        "print(\"@@@@@\")"
      ],
      "metadata": {
        "colab": {
          "base_uri": "https://localhost:8080/"
        },
        "id": "-idZi_1loz0i",
        "outputId": "d3a38294-a2c5-4a58-87f9-bc07a71b422b"
      },
      "execution_count": null,
      "outputs": [
        {
          "output_type": "stream",
          "name": "stdout",
          "text": [
            "@@@@@\n",
            "@   @\n",
            "@   @\n",
            "@   @\n",
            "@@@@@\n"
          ]
        }
      ]
    },
    {
      "cell_type": "code",
      "source": [
        "for i in range(6):\n",
        "   for j in range(5-i):\n",
        "      print(\" \",end=\"\")\n",
        "   for k in range(i):\n",
        "      print(\"*\",end=\" \")\n",
        "   print()"
      ],
      "metadata": {
        "colab": {
          "base_uri": "https://localhost:8080/"
        },
        "id": "HmUiu-5hpDty",
        "outputId": "89a33939-4564-4824-bc01-c54921f7576c"
      },
      "execution_count": null,
      "outputs": [
        {
          "output_type": "stream",
          "name": "stdout",
          "text": [
            "     \n",
            "    * \n",
            "   * * \n",
            "  * * * \n",
            " * * * * \n",
            "* * * * * \n"
          ]
        }
      ]
    },
    {
      "cell_type": "code",
      "source": [
        "n=int(input(\"enter your num:\"))\n",
        "s=1\n",
        "for i in range(1,n+1):\n",
        "  for j in range(1,i):\n",
        "      print(s,end=\" \")\n",
        "      s=s+1\n",
        "  print()"
      ],
      "metadata": {
        "colab": {
          "base_uri": "https://localhost:8080/"
        },
        "id": "d2DfKcO6YPUP",
        "outputId": "db7bd87f-5347-4ce7-c723-ce81a9e78c43"
      },
      "execution_count": null,
      "outputs": [
        {
          "output_type": "stream",
          "name": "stdout",
          "text": [
            "enter your num:5\n",
            "\n",
            "1 \n",
            "2 3 \n",
            "4 5 6 \n",
            "7 8 9 10 \n"
          ]
        }
      ]
    },
    {
      "cell_type": "code",
      "source": [
        "n=int(input(\"enter your num:\"))\n",
        "s=10\n",
        "for i in range(1,n+1):\n",
        "  for j in range(1,i):\n",
        "      print(s,end=\" \")\n",
        "      s=s-1\n",
        "  print()"
      ],
      "metadata": {
        "colab": {
          "base_uri": "https://localhost:8080/"
        },
        "id": "yP5DMvbnkP0H",
        "outputId": "21333e8e-b3d6-4ab5-91d0-cc05bfb53430"
      },
      "execution_count": null,
      "outputs": [
        {
          "output_type": "stream",
          "name": "stdout",
          "text": [
            "enter your num:5\n",
            "\n",
            "10 \n",
            "9 8 \n",
            "7 6 5 \n",
            "4 3 2 1 \n"
          ]
        }
      ]
    },
    {
      "cell_type": "code",
      "source": [
        "n=int(input(\"enter your num:\"))\n",
        "s=1\n",
        "for i in range(1,n+1):\n",
        "  for j in range(n-i):\n",
        "      print(\" \",end=\"\")\n",
        "  for k in range(i):\n",
        "      print(s,end=\" \")\n",
        "      s=s+1\n",
        "  print()"
      ],
      "metadata": {
        "colab": {
          "base_uri": "https://localhost:8080/"
        },
        "id": "EMqiDxRkpmsl",
        "outputId": "97ed3cb9-1064-4e1d-b2a8-8f4e599cf327"
      },
      "execution_count": null,
      "outputs": [
        {
          "output_type": "stream",
          "name": "stdout",
          "text": [
            "enter your num:4\n",
            "   1 \n",
            "  2 3 \n",
            " 4 5 6 \n",
            "7 8 9 10 \n"
          ]
        }
      ]
    },
    {
      "cell_type": "code",
      "source": [
        "n=int(input(\"enter your num:\"))\n",
        "s=25\n",
        "for i in range(1,n+1):\n",
        "  for j in range(n-i):\n",
        "      print(\" \",end=\"\")\n",
        "  for k in range(i):\n",
        "      print(s,end=\" \")\n",
        "      s=s-1\n",
        "  print()"
      ],
      "metadata": {
        "colab": {
          "base_uri": "https://localhost:8080/"
        },
        "id": "lejO2ISTZS-U",
        "outputId": "e346c346-abfe-415d-ab62-8e091fa3f2f9"
      },
      "execution_count": 39,
      "outputs": [
        {
          "output_type": "stream",
          "name": "stdout",
          "text": [
            "enter your num:5\n",
            "    25 \n",
            "   24 23 \n",
            "  22 21 20 \n",
            " 19 18 17 16 \n",
            "15 14 13 12 11 \n"
          ]
        }
      ]
    },
    {
      "cell_type": "code",
      "source": [
        "print(\"@@@@@\")\n",
        "for i in range(3):\n",
        "   if i==0:\n",
        "      print(\"@***@\")\n",
        "   elif i==1:\n",
        "      print (\"@*0*@\")\n",
        "   else:\n",
        "      print(\"@***@\")\n",
        "print(\"@@@@@\")"
      ],
      "metadata": {
        "colab": {
          "base_uri": "https://localhost:8080/"
        },
        "id": "7nSQ5ot_cKe4",
        "outputId": "a42207c5-fe1e-4f0c-f31c-4dd87410d504"
      },
      "execution_count": null,
      "outputs": [
        {
          "output_type": "stream",
          "name": "stdout",
          "text": [
            "@@@@@\n",
            "@***@\n",
            "@*0*@\n",
            "@***@\n",
            "@@@@@\n"
          ]
        }
      ]
    },
    {
      "cell_type": "code",
      "source": [
        "for i in range(1,10):\n",
        "     if i==3:\n",
        "        print(\"000\")\n",
        "     elif i==6:\n",
        "        print ( \"111\")\n",
        "     elif i==9:\n",
        "        print (\"000\" )"
      ],
      "metadata": {
        "colab": {
          "base_uri": "https://localhost:8080/"
        },
        "id": "KUcsZlcG1gJC",
        "outputId": "c5a4fbed-4770-4743-fcff-134df8e7fb65"
      },
      "execution_count": null,
      "outputs": [
        {
          "output_type": "stream",
          "name": "stdout",
          "text": [
            "000\n",
            "111\n",
            "000\n"
          ]
        }
      ]
    },
    {
      "cell_type": "code",
      "source": [
        "for i in range(1,10):\n",
        "     if i==3:\n",
        "        print(\"010\")\n",
        "     elif i==6:\n",
        "        print ( \"010\")\n",
        "     elif i==9:\n",
        "        print (\"010\" )"
      ],
      "metadata": {
        "colab": {
          "base_uri": "https://localhost:8080/"
        },
        "id": "MpvU2w-K1ut-",
        "outputId": "5f13d8f5-b72a-407b-afc9-5635ee5a9e53"
      },
      "execution_count": null,
      "outputs": [
        {
          "output_type": "stream",
          "name": "stdout",
          "text": [
            "010\n",
            "010\n",
            "010\n"
          ]
        }
      ]
    },
    {
      "cell_type": "code",
      "source": [
        "for i in range(1,10):\n",
        "     if i==3:\n",
        "        print(\"010\")\n",
        "     elif i==6:\n",
        "        print ( \"101\")\n",
        "     elif i==9:\n",
        "        print (\"010\" )"
      ],
      "metadata": {
        "colab": {
          "base_uri": "https://localhost:8080/"
        },
        "id": "RCCeAfkq16No",
        "outputId": "54f5692e-8dd0-4bff-8244-78ad300d7d18"
      },
      "execution_count": null,
      "outputs": [
        {
          "output_type": "stream",
          "name": "stdout",
          "text": [
            "010\n",
            "101\n",
            "010\n"
          ]
        }
      ]
    },
    {
      "cell_type": "code",
      "source": [
        "for i in range(1,10):\n",
        "     if i==3:\n",
        "        print(\"987\")\n",
        "     elif i==6:\n",
        "        print (\"654\")\n",
        "     elif i==9:\n",
        "        print (\"321\")"
      ],
      "metadata": {
        "colab": {
          "base_uri": "https://localhost:8080/"
        },
        "id": "vnQnn87w4OKQ",
        "outputId": "c6d6e078-c9fc-41a4-c752-00cb3ac3eb02"
      },
      "execution_count": null,
      "outputs": [
        {
          "output_type": "stream",
          "name": "stdout",
          "text": [
            "987\n",
            "654\n",
            "321\n"
          ]
        }
      ]
    },
    {
      "cell_type": "code",
      "source": [
        "for i in range(1,10):\n",
        "     if i==3:\n",
        "        print(\"147\")\n",
        "     elif i==6:\n",
        "        print ( \"258\")\n",
        "     elif i==9:\n",
        "        print (\"369\" )"
      ],
      "metadata": {
        "colab": {
          "base_uri": "https://localhost:8080/"
        },
        "id": "doyRGhxv5dZr",
        "outputId": "e0aff32c-0af7-4cbf-a092-30a09e6f6bc7"
      },
      "execution_count": null,
      "outputs": [
        {
          "output_type": "stream",
          "name": "stdout",
          "text": [
            "147\n",
            "258\n",
            "369\n"
          ]
        }
      ]
    },
    {
      "cell_type": "code",
      "source": [
        "for i in range(5):\n",
        "  for j in range(5):\n",
        "    if i==j:\n",
        "      print(\"1\",end=\"\")\n",
        "    else:\n",
        "      print(\"0\",end=\"\")\n",
        "  print()"
      ],
      "metadata": {
        "colab": {
          "base_uri": "https://localhost:8080/"
        },
        "id": "_iWX66r58Uof",
        "outputId": "c927ef61-d9a8-4834-fadd-657801e82786"
      },
      "execution_count": null,
      "outputs": [
        {
          "output_type": "stream",
          "name": "stdout",
          "text": [
            "10000\n",
            "01000\n",
            "00100\n",
            "00010\n",
            "00001\n"
          ]
        }
      ]
    },
    {
      "cell_type": "code",
      "source": [
        "for i in range(5):\n",
        "  for j in range(5):\n",
        "    if i>j:\n",
        "      print(\"1\",end=\"\")\n",
        "    elif i==j:\n",
        "      print(\"\\\\\",end=\"\")\n",
        "    else:\n",
        "      print(\"0\",end=\"\")\n",
        "  print()"
      ],
      "metadata": {
        "colab": {
          "base_uri": "https://localhost:8080/"
        },
        "id": "1CWxPJjtvOxD",
        "outputId": "96e16ba6-30b2-4c3f-aa03-8fa9618ae10c"
      },
      "execution_count": null,
      "outputs": [
        {
          "output_type": "stream",
          "name": "stdout",
          "text": [
            "\\0000\n",
            "1\\000\n",
            "11\\00\n",
            "111\\0\n",
            "1111\\\n"
          ]
        }
      ]
    },
    {
      "cell_type": "code",
      "source": [
        "print(\"12345\")\n",
        "for i in range(3):\n",
        "   if i==0:\n",
        "      print(\"12344\")\n",
        "   elif i==1:\n",
        "      print (\"12333\")\n",
        "   else:\n",
        "      print(\"12222\")\n",
        "print(\"11111\")"
      ],
      "metadata": {
        "colab": {
          "base_uri": "https://localhost:8080/"
        },
        "id": "zkrDVR8jyys9",
        "outputId": "7b429a4e-285b-4684-a6e6-8183eebcd89a"
      },
      "execution_count": null,
      "outputs": [
        {
          "output_type": "stream",
          "name": "stdout",
          "text": [
            "12345\n",
            "12344\n",
            "12333\n",
            "12222\n",
            "11111\n"
          ]
        }
      ]
    },
    {
      "cell_type": "code",
      "source": [
        "print(\"12345\")\n",
        "for i in range(3):\n",
        "   if i==0:\n",
        "      print(\"23451\")\n",
        "   elif i==1:\n",
        "      print (\"34512\")\n",
        "   else:\n",
        "      print(\"45123\")\n",
        "print(\"51234\")"
      ],
      "metadata": {
        "colab": {
          "base_uri": "https://localhost:8080/"
        },
        "id": "8dmXu_RDzSwo",
        "outputId": "ffab4ad5-4b97-449a-de88-3529a67664bf"
      },
      "execution_count": null,
      "outputs": [
        {
          "output_type": "stream",
          "name": "stdout",
          "text": [
            "12345\n",
            "23451\n",
            "34512\n",
            "45123\n",
            "51234\n"
          ]
        }
      ]
    },
    {
      "cell_type": "code",
      "source": [
        "print(\"AAAAA\")\n",
        "for i in range(3):\n",
        "   if i==0:\n",
        "      print(\"BBBBB\")\n",
        "   elif i==1:\n",
        "      print (\"CCCCC\")\n",
        "   else:\n",
        "      print(\"DDDDD\")\n",
        "print(\"EEEEE\")"
      ],
      "metadata": {
        "colab": {
          "base_uri": "https://localhost:8080/"
        },
        "id": "sl7GuTLM0JFd",
        "outputId": "852a5aa3-55e8-4e95-a6f0-c411b4562c3b"
      },
      "execution_count": null,
      "outputs": [
        {
          "output_type": "stream",
          "name": "stdout",
          "text": [
            "AAAAA\n",
            "BBBBB\n",
            "CCCCC\n",
            "DDDDD\n",
            "EEEEE\n"
          ]
        }
      ]
    },
    {
      "cell_type": "code",
      "source": [
        "for i in range(5):\n",
        "  for j in range(5):\n",
        "     if i==j:\n",
        "       print(\"*\",end=\" \")\n",
        "     elif j==5-i-1:\n",
        "       print(\"*\",end=\" \")\n",
        "     else:\n",
        "        print(\" \",end=\" \")\n",
        "  print()"
      ],
      "metadata": {
        "colab": {
          "base_uri": "https://localhost:8080/"
        },
        "id": "p1arJyE71doU",
        "outputId": "dc3c6963-26e3-42e3-b03f-27ba7d0e1a5f"
      },
      "execution_count": 32,
      "outputs": [
        {
          "output_type": "stream",
          "name": "stdout",
          "text": [
            "*       * \n",
            "  *   *   \n",
            "    *     \n",
            "  *   *   \n",
            "*       * \n"
          ]
        }
      ]
    },
    {
      "cell_type": "code",
      "source": [
        "for i in range(1,6):\n",
        "  for j in range(1,6):\n",
        "     if i==j:\n",
        "       print(i,end=\" \")\n",
        "     elif j==5-i+1:\n",
        "       print(j,end=\" \")\n",
        "     else:\n",
        "        print(\" \",end=\" \")\n",
        "  print()"
      ],
      "metadata": {
        "colab": {
          "base_uri": "https://localhost:8080/"
        },
        "id": "KedRYNiW3F37",
        "outputId": "64892c18-2054-4c49-b63a-1c4df5ac7828"
      },
      "execution_count": 22,
      "outputs": [
        {
          "output_type": "stream",
          "name": "stdout",
          "text": [
            "1       5 \n",
            "  2   4   \n",
            "    3     \n",
            "  2   4   \n",
            "1       5 \n"
          ]
        }
      ]
    },
    {
      "cell_type": "code",
      "source": [
        "for i in range(1,6):\n",
        "  for j in range(1,4):\n",
        "     if i==j:\n",
        "       print(i,end=\" \")\n",
        "     elif j==5-i+1:\n",
        "       print(j,end=\" \")\n",
        "     else:\n",
        "        print(\" \",end=\" \")\n",
        "  print()"
      ],
      "metadata": {
        "colab": {
          "base_uri": "https://localhost:8080/"
        },
        "id": "H6A2coYB50vM",
        "outputId": "48ca5610-b890-458a-9c8d-6e3df9bedeae"
      },
      "execution_count": 38,
      "outputs": [
        {
          "output_type": "stream",
          "name": "stdout",
          "text": [
            "1     \n",
            "  2   \n",
            "    3 \n",
            "  2   \n",
            "1     \n"
          ]
        }
      ]
    }
  ]
}