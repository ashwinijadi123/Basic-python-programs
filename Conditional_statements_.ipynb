{
  "nbformat": 4,
  "nbformat_minor": 0,
  "metadata": {
    "colab": {
      "provenance": [],
      "authorship_tag": "ABX9TyM4GcRLB+Fbik6oPPFmjql9",
      "include_colab_link": true
    },
    "kernelspec": {
      "name": "python3",
      "display_name": "Python 3"
    },
    "language_info": {
      "name": "python"
    }
  },
  "cells": [
    {
      "cell_type": "markdown",
      "metadata": {
        "id": "view-in-github",
        "colab_type": "text"
      },
      "source": [
        "<a href=\"https://colab.research.google.com/github/ashwinijadi123/Basic-python-programs/blob/main/Conditional_statements_.ipynb\" target=\"_parent\"><img src=\"https://colab.research.google.com/assets/colab-badge.svg\" alt=\"Open In Colab\"/></a>"
      ]
    },
    {
      "cell_type": "code",
      "execution_count": null,
      "metadata": {
        "colab": {
          "base_uri": "https://localhost:8080/"
        },
        "id": "57SxYwEQq9xI",
        "outputId": "43dc9b03-e263-4bfa-c9a0-574902715a1c"
      },
      "outputs": [
        {
          "output_type": "stream",
          "name": "stdout",
          "text": [
            "enter a value:23\n",
            "it is a odd integer\n"
          ]
        }
      ],
      "source": [
        "x= int(input(\"enter a value:\"))\n",
        "if x%2==1:\n",
        "    print (\"it is a odd integer\")"
      ]
    },
    {
      "cell_type": "code",
      "source": [
        "#if else statement\n",
        "y=int(input (\"enter the value:\"))\n",
        "if y>=13 and y<=19:\n",
        "    print(\"you are teenager\")\n",
        "else:\n",
        "    print(\"*******\")"
      ],
      "metadata": {
        "id": "oQKRo55fux4_",
        "colab": {
          "base_uri": "https://localhost:8080/"
        },
        "outputId": "1580958c-3719-4a7d-a79f-032950251f04"
      },
      "execution_count": null,
      "outputs": [
        {
          "output_type": "stream",
          "name": "stdout",
          "text": [
            "enter the value:10 \n",
            "*******\n"
          ]
        }
      ]
    },
    {
      "cell_type": "code",
      "source": [
        "#if else statement\n",
        "y=int(input (\"enter the value:\"))\n",
        "if y>=13 and y<=19:\n",
        "    print(\"you are teenager\")\n",
        "else:\n",
        "    print(\"*******\")"
      ],
      "metadata": {
        "colab": {
          "base_uri": "https://localhost:8080/"
        },
        "id": "m6HAc2g3gTKE",
        "outputId": "3b2d4a88-fbf0-437b-ae87-dac1ed4013ac"
      },
      "execution_count": null,
      "outputs": [
        {
          "output_type": "stream",
          "name": "stdout",
          "text": [
            "enter the value:14\n",
            "you are teenager\n"
          ]
        }
      ]
    },
    {
      "cell_type": "code",
      "source": [
        "# greatest of three numbers\n",
        "x=int (input(\"enter a value:\"))\n",
        "y= int(input (\"enter a value:\"))\n",
        "z=int(input (\"enter a value:\"))"
      ],
      "metadata": {
        "colab": {
          "base_uri": "https://localhost:8080/"
        },
        "id": "gTUe9vI0gfGa",
        "outputId": "649fb8bf-2dad-4054-c2be-d2a594443f63"
      },
      "execution_count": null,
      "outputs": [
        {
          "name": "stdout",
          "output_type": "stream",
          "text": [
            "enter a value:20\n",
            "enter a value:25\n",
            "enter a value:34\n"
          ]
        }
      ]
    },
    {
      "cell_type": "code",
      "source": [
        "if x>y and x>z:\n",
        "   print (\"x is greater number\")\n",
        "elif y>x and y>z:\n",
        "   print (\"y is greater\")\n",
        "else:\n",
        "   print (\"z is greater \")"
      ],
      "metadata": {
        "colab": {
          "base_uri": "https://localhost:8080/"
        },
        "id": "feGcMITNkcrF",
        "outputId": "b25d8442-3487-4bc6-fa1f-a468d4fedba7"
      },
      "execution_count": null,
      "outputs": [
        {
          "output_type": "stream",
          "name": "stdout",
          "text": [
            "z is greater \n"
          ]
        }
      ]
    },
    {
      "cell_type": "code",
      "source": [
        "# greatest of three numbers\n",
        "x=int (input(\"enter a value:\"))\n",
        "y= int(input (\"enter a value:\"))\n",
        "z=int(input (\"enter a value:\"))"
      ],
      "metadata": {
        "colab": {
          "base_uri": "https://localhost:8080/"
        },
        "id": "hEqqkXBklenF",
        "outputId": "e2b540fa-9156-4cbf-d668-e4be7a13a093"
      },
      "execution_count": null,
      "outputs": [
        {
          "name": "stdout",
          "output_type": "stream",
          "text": [
            "enter a value:32\n",
            "enter a value:22\n",
            "enter a value:20\n"
          ]
        }
      ]
    },
    {
      "cell_type": "code",
      "source": [
        "if x>y and x>z:\n",
        "   print (\"x is greater number\")\n",
        "elif y>x and y>z:\n",
        "   print (\"y is greater\")\n",
        "else:\n",
        "   print (\"z is greater \")"
      ],
      "metadata": {
        "colab": {
          "base_uri": "https://localhost:8080/"
        },
        "id": "amm-kKrOlyaE",
        "outputId": "75e15567-a1d0-4780-939e-a914e9ca59ae"
      },
      "execution_count": null,
      "outputs": [
        {
          "output_type": "stream",
          "name": "stdout",
          "text": [
            "x is greater number\n"
          ]
        }
      ]
    },
    {
      "cell_type": "code",
      "source": [
        "# greatest of three numbers\n",
        "x=int (input(\"enter a value:\"))\n",
        "y= int(input (\"enter a value:\"))\n",
        "z=int(input (\"enter a value:\"))"
      ],
      "metadata": {
        "colab": {
          "base_uri": "https://localhost:8080/"
        },
        "id": "PYWSXZbxmDX1",
        "outputId": "1ebd3638-419e-458e-988a-93168084f3e0"
      },
      "execution_count": null,
      "outputs": [
        {
          "name": "stdout",
          "output_type": "stream",
          "text": [
            "enter a value:24\n",
            "enter a value:45\n",
            "enter a value:12\n"
          ]
        }
      ]
    },
    {
      "cell_type": "code",
      "source": [
        "if x>y and x>z:\n",
        "   print (\"x is greater number\")\n",
        "elif y>x and y>z:\n",
        "   print (\"y is greater\")\n",
        "else:\n",
        "   print (\"z is greater \")"
      ],
      "metadata": {
        "colab": {
          "base_uri": "https://localhost:8080/"
        },
        "id": "ixHURI44mSap",
        "outputId": "52851367-58ea-460f-9f45-7b3d40bd2ab3"
      },
      "execution_count": null,
      "outputs": [
        {
          "output_type": "stream",
          "name": "stdout",
          "text": [
            "y is greater\n"
          ]
        }
      ]
    }
  ]
}