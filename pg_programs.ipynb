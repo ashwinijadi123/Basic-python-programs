{
  "nbformat": 4,
  "nbformat_minor": 0,
  "metadata": {
    "colab": {
      "provenance": [],
      "authorship_tag": "ABX9TyPB839GDf+SEFZBKVlBKHAU",
      "include_colab_link": true
    },
    "kernelspec": {
      "name": "python3",
      "display_name": "Python 3"
    },
    "language_info": {
      "name": "python"
    }
  },
  "cells": [
    {
      "cell_type": "markdown",
      "metadata": {
        "id": "view-in-github",
        "colab_type": "text"
      },
      "source": [
        "<a href=\"https://colab.research.google.com/github/ashwinijadi123/Basic-python-programs/blob/main/pg_programs.ipynb\" target=\"_parent\"><img src=\"https://colab.research.google.com/assets/colab-badge.svg\" alt=\"Open In Colab\"/></a>"
      ]
    },
    {
      "cell_type": "code",
      "execution_count": null,
      "metadata": {
        "colab": {
          "base_uri": "https://localhost:8080/"
        },
        "id": "N0lbnEQ7wpYJ",
        "outputId": "4b555218-8445-4665-eb27-b6458372576f"
      },
      "outputs": [
        {
          "output_type": "stream",
          "name": "stdout",
          "text": [
            "enter the value:6\n",
            "enter the value:5\n",
            "enter the value:3\n",
            "x is greater\n"
          ]
        }
      ],
      "source": [
        "#greatest of three numbers\n",
        "x=int(input(\"enter the value:\"))\n",
        "y=int(input(\"enter the value:\"))\n",
        "z=int(input(\"enter the value:\"))\n",
        "if x>y and x>z:\n",
        "  print(\"x is greater\")\n",
        "elif y>x and y>z:\n",
        "  print(\"y is greater\")\n",
        "else:\n",
        "  print(\"z is greater\")"
      ]
    },
    {
      "cell_type": "code",
      "source": [
        "x=float(input(\"enter the value:\"))\n",
        "y=float(input(\"enter the value:\"))\n",
        "z=float(input(\"enter the value:\"))\n",
        "if x>y and x>z:\n",
        "  print(\"x is greater\")\n",
        "elif y>x and y>z:\n",
        "  print(\"y is greater\")\n",
        "else:\n",
        "  print(\"z is greater\")"
      ],
      "metadata": {
        "colab": {
          "base_uri": "https://localhost:8080/"
        },
        "id": "kAQXFVSd3tmo",
        "outputId": "4282e73c-c7a9-4e74-8673-b6501a68f9c0"
      },
      "execution_count": null,
      "outputs": [
        {
          "output_type": "stream",
          "name": "stdout",
          "text": [
            "enter the value:2.0\n",
            "enter the value:6.8\n",
            "enter the value:7.8\n",
            "z is greater\n"
          ]
        }
      ]
    },
    {
      "cell_type": "code",
      "source": [
        "\n",
        "x=int(input(\"enter your number:\"))\n",
        "i=0\n",
        "if x>0 and x<=999:\n",
        "  if x>=100:\n",
        "    i=i+x//100\n",
        "    x=x%100\n",
        "  if x>=100:\n",
        "    i=i+x//10\n",
        "    x=x%10\n",
        "  if x>=10:\n",
        "    i=i+x//10\n",
        "    x=x%10\n",
        "  i=i+x\n",
        "print(\"sum=\",i)\n",
        "\n",
        "\n"
      ],
      "metadata": {
        "colab": {
          "base_uri": "https://localhost:8080/"
        },
        "id": "LG4fv3zJ4mmf",
        "outputId": "90606577-b03b-4172-ee0f-3ea44a389df0"
      },
      "execution_count": null,
      "outputs": [
        {
          "output_type": "stream",
          "name": "stdout",
          "text": [
            "enter your number:123\n",
            "sum= 6\n"
          ]
        }
      ]
    },
    {
      "cell_type": "code",
      "source": [
        "x=int(input(\"enter your number:\"))\n",
        "i=0\n",
        "if x>0 and x<=9999:\n",
        "  if x>=1000:\n",
        "    i=i+x//1000\n",
        "    x=x%1000\n",
        "  if x>=100:\n",
        "    i=i+x//100\n",
        "    x=x%100\n",
        "  if x>=10:\n",
        "    i=i+x//10\n",
        "    x=x%10\n",
        "  if x>=1:\n",
        "    i=i+x//1\n",
        "    x=x%1\n",
        "  i=i+x\n",
        "print(\"sum=\",i)"
      ],
      "metadata": {
        "colab": {
          "base_uri": "https://localhost:8080/"
        },
        "id": "oNPjJnM_Ksc7",
        "outputId": "fed37773-f5ad-4d4d-a3fd-6748455f56a8"
      },
      "execution_count": null,
      "outputs": [
        {
          "output_type": "stream",
          "name": "stdout",
          "text": [
            "enter your number:1234\n",
            "sum= 10\n"
          ]
        }
      ]
    },
    {
      "cell_type": "code",
      "source": [
        "x=int(input(\"enter a number;\"))\n",
        "for i in range(x):\n",
        "  for j in range(i):\n",
        "    print(i)\n",
        "  print(j+i)"
      ],
      "metadata": {
        "colab": {
          "base_uri": "https://localhost:8080/"
        },
        "id": "cR-PTW8-QHJi",
        "outputId": "25cdd4de-aaa4-4184-fb83-8597ba48c13f"
      },
      "execution_count": null,
      "outputs": [
        {
          "output_type": "stream",
          "name": "stdout",
          "text": [
            "enter a number;2\n",
            "0\n",
            "1\n",
            "1\n"
          ]
        }
      ]
    },
    {
      "cell_type": "code",
      "source": [
        "a=input(\"enter your value:\")\n",
        "S=0\n",
        "for i in (a) :\n",
        "  S=S+int(i)\n",
        "  print (S)"
      ],
      "metadata": {
        "colab": {
          "base_uri": "https://localhost:8080/"
        },
        "id": "U5aEeaP0tNrU",
        "outputId": "19e7203c-1b2f-403f-9d30-cf577e9e602a"
      },
      "execution_count": 3,
      "outputs": [
        {
          "output_type": "stream",
          "name": "stdout",
          "text": [
            "enter your value:123\n",
            "1\n",
            "3\n",
            "6\n"
          ]
        }
      ]
    },
    {
      "cell_type": "code",
      "source": [
        "a=input(\"enter your value:\")\n",
        "S=0\n",
        "for i in (a) :\n",
        "  S=S+int(i)\n",
        "  print (S)"
      ],
      "metadata": {
        "colab": {
          "base_uri": "https://localhost:8080/"
        },
        "id": "J3iP22KYvckr",
        "outputId": "ef3a6a57-7dca-495a-b544-13ef3af8a51a"
      },
      "execution_count": 4,
      "outputs": [
        {
          "output_type": "stream",
          "name": "stdout",
          "text": [
            "enter your value:1234\n",
            "1\n",
            "3\n",
            "6\n",
            "10\n"
          ]
        }
      ]
    },
    {
      "cell_type": "code",
      "source": [
        "a=int(input(\"enter your value:\"))\n",
        "S=0\n",
        "for i in range(a) :\n",
        "  S=S+(i)\n",
        "  print (S)"
      ],
      "metadata": {
        "colab": {
          "base_uri": "https://localhost:8080/"
        },
        "id": "yTS8kEKrvyBE",
        "outputId": "9ee8587c-84fd-48d1-ca82-a5729146fbaa"
      },
      "execution_count": 7,
      "outputs": [
        {
          "output_type": "stream",
          "name": "stdout",
          "text": [
            "enter your value:123\n",
            "0\n",
            "1\n",
            "3\n",
            "6\n",
            "10\n",
            "15\n",
            "21\n",
            "28\n",
            "36\n",
            "45\n",
            "55\n",
            "66\n",
            "78\n",
            "91\n",
            "105\n",
            "120\n",
            "136\n",
            "153\n",
            "171\n",
            "190\n",
            "210\n",
            "231\n",
            "253\n",
            "276\n",
            "300\n",
            "325\n",
            "351\n",
            "378\n",
            "406\n",
            "435\n",
            "465\n",
            "496\n",
            "528\n",
            "561\n",
            "595\n",
            "630\n",
            "666\n",
            "703\n",
            "741\n",
            "780\n",
            "820\n",
            "861\n",
            "903\n",
            "946\n",
            "990\n",
            "1035\n",
            "1081\n",
            "1128\n",
            "1176\n",
            "1225\n",
            "1275\n",
            "1326\n",
            "1378\n",
            "1431\n",
            "1485\n",
            "1540\n",
            "1596\n",
            "1653\n",
            "1711\n",
            "1770\n",
            "1830\n",
            "1891\n",
            "1953\n",
            "2016\n",
            "2080\n",
            "2145\n",
            "2211\n",
            "2278\n",
            "2346\n",
            "2415\n",
            "2485\n",
            "2556\n",
            "2628\n",
            "2701\n",
            "2775\n",
            "2850\n",
            "2926\n",
            "3003\n",
            "3081\n",
            "3160\n",
            "3240\n",
            "3321\n",
            "3403\n",
            "3486\n",
            "3570\n",
            "3655\n",
            "3741\n",
            "3828\n",
            "3916\n",
            "4005\n",
            "4095\n",
            "4186\n",
            "4278\n",
            "4371\n",
            "4465\n",
            "4560\n",
            "4656\n",
            "4753\n",
            "4851\n",
            "4950\n",
            "5050\n",
            "5151\n",
            "5253\n",
            "5356\n",
            "5460\n",
            "5565\n",
            "5671\n",
            "5778\n",
            "5886\n",
            "5995\n",
            "6105\n",
            "6216\n",
            "6328\n",
            "6441\n",
            "6555\n",
            "6670\n",
            "6786\n",
            "6903\n",
            "7021\n",
            "7140\n",
            "7260\n",
            "7381\n",
            "7503\n"
          ]
        }
      ]
    }
  ]
}