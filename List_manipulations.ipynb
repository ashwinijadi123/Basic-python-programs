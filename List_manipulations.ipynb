{
  "nbformat": 4,
  "nbformat_minor": 0,
  "metadata": {
    "colab": {
      "provenance": [],
      "authorship_tag": "ABX9TyPlMqerIPP/42/I84M2Gixv",
      "include_colab_link": true
    },
    "kernelspec": {
      "name": "python3",
      "display_name": "Python 3"
    },
    "language_info": {
      "name": "python"
    }
  },
  "cells": [
    {
      "cell_type": "markdown",
      "metadata": {
        "id": "view-in-github",
        "colab_type": "text"
      },
      "source": [
        "<a href=\"https://colab.research.google.com/github/ashwinijadi123/Basic-python-programs/blob/main/List_manipulations.ipynb\" target=\"_parent\"><img src=\"https://colab.research.google.com/assets/colab-badge.svg\" alt=\"Open In Colab\"/></a>"
      ]
    },
    {
      "cell_type": "code",
      "execution_count": null,
      "metadata": {
        "id": "kYPQjObjmnrY",
        "colab": {
          "base_uri": "https://localhost:8080/"
        },
        "outputId": "4d810082-65bc-4d81-b733-efb527bd3a50"
      },
      "outputs": [
        {
          "output_type": "stream",
          "name": "stdout",
          "text": [
            "[]\n",
            "<class 'list'>\n",
            "136423692307968\n",
            "[1, 2, 3, 4, 5.6, 'ashu']\n",
            "<class 'list'>\n",
            "136423695023872\n",
            "[23, 2, 3, 4, 5.6, 'ashu']\n",
            "136423695023872\n"
          ]
        }
      ],
      "source": [
        "#list manipulations\n",
        "\"\"\"list are used to store multiple data types\n",
        "list are ordered\n",
        "lists are mutable\"\"\"\n",
        "#creating a list\n",
        "x=[]#empty list\n",
        "print(x)\n",
        "print(type(x))\n",
        "print(id(x))\n",
        "#list with multiple elements\n",
        "a=[1,2,3,4,5.6,\"ashu\"]\n",
        "print(a)\n",
        "print(type(a))\n",
        "print(id(a))\n",
        "a[0]=23\n",
        "print(a)\n",
        "print(id(a))"
      ]
    },
    {
      "cell_type": "code",
      "source": [
        "#slicing\n",
        "A=[1,2,3,5,6]\n",
        "print(A[2:3])\n",
        "print (A[::])\n",
        "print (A[::-1])"
      ],
      "metadata": {
        "id": "b8GThUee4_jf",
        "colab": {
          "base_uri": "https://localhost:8080/"
        },
        "outputId": "815a48e2-975c-4ab5-b5a7-bbac04787eb6"
      },
      "execution_count": null,
      "outputs": [
        {
          "output_type": "stream",
          "name": "stdout",
          "text": [
            "[3]\n",
            "[1, 2, 3, 5, 6]\n",
            "[6, 5, 3, 2, 1]\n"
          ]
        }
      ]
    },
    {
      "cell_type": "code",
      "source": [
        "#Traversing in list\n",
        "# Indexing and slicing\n",
        "for i in ([1,2,3,4,5]):\n",
        "    print(i)"
      ],
      "metadata": {
        "colab": {
          "base_uri": "https://localhost:8080/"
        },
        "id": "3NbxlQ1v-6jf",
        "outputId": "74e449e9-f872-4024-8b91-194d9ddb292c"
      },
      "execution_count": null,
      "outputs": [
        {
          "output_type": "stream",
          "name": "stdout",
          "text": [
            "1\n",
            "2\n",
            "3\n",
            "4\n",
            "5\n"
          ]
        }
      ]
    },
    {
      "cell_type": "code",
      "source": [
        "a=len(A)\n",
        "print (a)\n",
        "for i in (A):\n",
        "    print (i)"
      ],
      "metadata": {
        "colab": {
          "base_uri": "https://localhost:8080/"
        },
        "id": "GtKgjsfn_dPG",
        "outputId": "b514e941-f183-419d-d5e8-e7923990f26d"
      },
      "execution_count": null,
      "outputs": [
        {
          "output_type": "stream",
          "name": "stdout",
          "text": [
            "5\n",
            "1\n",
            "2\n",
            "3\n",
            "5\n",
            "6\n"
          ]
        }
      ]
    },
    {
      "cell_type": "code",
      "source": [
        "a=[1,2,3,4,5]\n",
        "b=len(a)\n",
        "print (b)\n",
        "for  index, element in enumerate(a):\n",
        "    print (\"forward index:\", index,\"position:\", element, \"backword index:\", index-b)"
      ],
      "metadata": {
        "colab": {
          "base_uri": "https://localhost:8080/"
        },
        "id": "M5AnNQORRb6G",
        "outputId": "ea73ecfa-01b1-4647-e05b-b54b9663c111"
      },
      "execution_count": null,
      "outputs": [
        {
          "output_type": "stream",
          "name": "stdout",
          "text": [
            "5\n",
            "forward index: 0 position: 1 backword index: -5\n",
            "forward index: 1 position: 2 backword index: -4\n",
            "forward index: 2 position: 3 backword index: -3\n",
            "forward index: 3 position: 4 backword index: -2\n",
            "forward index: 4 position: 5 backword index: -1\n"
          ]
        }
      ]
    },
    {
      "cell_type": "code",
      "source": [
        "#comparison operators(>,<,==,<=,>=)\n",
        "a=[34,56,78,90,23]\n",
        "b=[1,2,3,4,4,5]\n",
        "print(a>b)\n",
        "print (b<a)\n",
        "print (a>=b)\n",
        "print(a<=b)\n",
        "print (a==b)\n",
        "print (a!=b)"
      ],
      "metadata": {
        "id": "jsvlmHI2VCQ2",
        "colab": {
          "base_uri": "https://localhost:8080/"
        },
        "outputId": "de3ebb4d-823f-4a19-b82f-a7324efc8c5c"
      },
      "execution_count": null,
      "outputs": [
        {
          "output_type": "stream",
          "name": "stdout",
          "text": [
            "True\n",
            "True\n",
            "True\n",
            "False\n",
            "False\n",
            "True\n"
          ]
        }
      ]
    },
    {
      "cell_type": "code",
      "source": [
        "#list operations\n",
        "print (a+b)\n",
        "print (a*2)\n",
        "c=2\n",
        "s=\"as\"\n",
        "print (a+c)\n",
        "print (a+s)"
      ],
      "metadata": {
        "colab": {
          "base_uri": "https://localhost:8080/",
          "height": 352
        },
        "id": "kQAZDZyBsiIs",
        "outputId": "7fd8b33a-b87f-438c-8bf8-ad550cc80ffc"
      },
      "execution_count": null,
      "outputs": [
        {
          "output_type": "stream",
          "name": "stdout",
          "text": [
            "[34, 56, 78, 90, 23, 1, 2, 3, 4, 4, 5]\n",
            "[34, 56, 78, 90, 23, 34, 56, 78, 90, 23]\n"
          ]
        },
        {
          "output_type": "error",
          "ename": "TypeError",
          "evalue": "can only concatenate list (not \"int\") to list",
          "traceback": [
            "\u001b[0;31m---------------------------------------------------------------------------\u001b[0m",
            "\u001b[0;31mTypeError\u001b[0m                                 Traceback (most recent call last)",
            "\u001b[0;32m<ipython-input-3-df421c75ba55>\u001b[0m in \u001b[0;36m<cell line: 6>\u001b[0;34m()\u001b[0m\n\u001b[1;32m      4\u001b[0m \u001b[0mc\u001b[0m\u001b[0;34m=\u001b[0m\u001b[0;36m2\u001b[0m\u001b[0;34m\u001b[0m\u001b[0;34m\u001b[0m\u001b[0m\n\u001b[1;32m      5\u001b[0m \u001b[0ms\u001b[0m\u001b[0;34m=\u001b[0m\u001b[0;34m\"as\"\u001b[0m\u001b[0;34m\u001b[0m\u001b[0;34m\u001b[0m\u001b[0m\n\u001b[0;32m----> 6\u001b[0;31m \u001b[0mprint\u001b[0m \u001b[0;34m(\u001b[0m\u001b[0ma\u001b[0m\u001b[0;34m+\u001b[0m\u001b[0mc\u001b[0m\u001b[0;34m)\u001b[0m\u001b[0;34m\u001b[0m\u001b[0;34m\u001b[0m\u001b[0m\n\u001b[0m\u001b[1;32m      7\u001b[0m \u001b[0mprint\u001b[0m \u001b[0;34m(\u001b[0m\u001b[0ma\u001b[0m\u001b[0;34m+\u001b[0m\u001b[0ms\u001b[0m\u001b[0;34m)\u001b[0m\u001b[0;34m\u001b[0m\u001b[0;34m\u001b[0m\u001b[0m\n",
            "\u001b[0;31mTypeError\u001b[0m: can only concatenate list (not \"int\") to list"
          ]
        }
      ]
    },
    {
      "cell_type": "code",
      "source": [
        "print (a*b)"
      ],
      "metadata": {
        "id": "6Ai29G5CtaOL",
        "outputId": "d86782f9-fe06-4b2d-9b37-3c3c2b64293f",
        "colab": {
          "base_uri": "https://localhost:8080/",
          "height": 263
        }
      },
      "execution_count": null,
      "outputs": [
        {
          "output_type": "error",
          "ename": "TypeError",
          "evalue": "can't multiply sequence by non-int of type 'list'",
          "traceback": [
            "\u001b[0;31m---------------------------------------------------------------------------\u001b[0m",
            "\u001b[0;31mTypeError\u001b[0m                                 Traceback (most recent call last)",
            "\u001b[0;32m<ipython-input-4-85ed247fbf45>\u001b[0m in \u001b[0;36m<cell line: 1>\u001b[0;34m()\u001b[0m\n\u001b[0;32m----> 1\u001b[0;31m \u001b[0mprint\u001b[0m \u001b[0;34m(\u001b[0m\u001b[0ma\u001b[0m\u001b[0;34m*\u001b[0m\u001b[0mb\u001b[0m\u001b[0;34m)\u001b[0m\u001b[0;34m\u001b[0m\u001b[0;34m\u001b[0m\u001b[0m\n\u001b[0m",
            "\u001b[0;31mTypeError\u001b[0m: can't multiply sequence by non-int of type 'list'"
          ]
        }
      ]
    },
    {
      "cell_type": "code",
      "source": [
        "#list functions\n",
        "\"\"\" len() :it will gives the length list\n",
        "Means it will count the number of elements in the list\n",
        "The syntax is :len(variable) \"\"\"\n",
        "a=[1,2,3,4]\n",
        "print (len(a))\n",
        "b=[1,2,3,[3,4]]\n",
        "print (len(b))"
      ],
      "metadata": {
        "colab": {
          "base_uri": "https://localhost:8080/"
        },
        "id": "bcJQBPKUPHeV",
        "outputId": "3a75fd08-bbc0-47fd-b4e5-b12eec38edcb"
      },
      "execution_count": 3,
      "outputs": [
        {
          "output_type": "stream",
          "name": "stdout",
          "text": [
            "4\n",
            "4\n"
          ]
        }
      ]
    },
    {
      "cell_type": "code",
      "source": [
        "#append()\n",
        "\"\"\" append() :it is used to add new element at the end of the list\n",
        "The syntax is : variable.append (ele) \"\"\"\n",
        "c=[2,3,5,4]\n",
        "a=c.append(5)\n",
        "print (a)"
      ],
      "metadata": {
        "colab": {
          "base_uri": "https://localhost:8080/"
        },
        "id": "AZ9zvf2tQNbQ",
        "outputId": "56f3ef96-2e13-425a-a889-b8edf3b689db"
      },
      "execution_count": 15,
      "outputs": [
        {
          "output_type": "stream",
          "name": "stdout",
          "text": [
            "None\n"
          ]
        }
      ]
    },
    {
      "cell_type": "code",
      "source": [
        "#pop(): it is used to remove the last element from the list if we mention particular index it will remove that particular element\n",
        "#The syntax is : variable. Pop() #\n",
        "c=[1,2,3,4]\n",
        "print (c.pop())\n",
        "print (c.pop(1))"
      ],
      "metadata": {
        "colab": {
          "base_uri": "https://localhost:8080/"
        },
        "id": "9-AeksDVSG7J",
        "outputId": "7bb08652-c883-4d96-cf23-cbc955873fa1"
      },
      "execution_count": 14,
      "outputs": [
        {
          "output_type": "stream",
          "name": "stdout",
          "text": [
            "4\n",
            "2\n"
          ]
        }
      ]
    },
    {
      "cell_type": "code",
      "source": [
        "#remove() :it is used to remove particular element from the list\n",
        "\"\"\"It is applicable when we don't the index of a particular element the it will be applicable\n",
        "The syntax is:variable.remove(element)\"\"\"\n",
        "print (c.remove(3))"
      ],
      "metadata": {
        "colab": {
          "base_uri": "https://localhost:8080/"
        },
        "id": "6VWIAxgHUCsL",
        "outputId": "1a656e8a-b7d3-4d8f-d7f2-62e9b44d6d5f"
      },
      "execution_count": 16,
      "outputs": [
        {
          "output_type": "stream",
          "name": "stdout",
          "text": [
            "None\n"
          ]
        }
      ]
    },
    {
      "cell_type": "code",
      "source": [
        "print (c.reverse())"
      ],
      "metadata": {
        "colab": {
          "base_uri": "https://localhost:8080/"
        },
        "id": "ZD2HVFDjUeEC",
        "outputId": "826d9a59-ec6b-4980-e63e-cd3cda14a531"
      },
      "execution_count": 20,
      "outputs": [
        {
          "output_type": "stream",
          "name": "stdout",
          "text": [
            "None\n"
          ]
        }
      ]
    },
    {
      "cell_type": "code",
      "source": [
        "print ([9,8,7].extend([10,5,6]))"
      ],
      "metadata": {
        "colab": {
          "base_uri": "https://localhost:8080/"
        },
        "id": "avUjAjMzXO2a",
        "outputId": "9bf7bede-98a1-4642-e41e-5086cbf7d836"
      },
      "execution_count": 25,
      "outputs": [
        {
          "output_type": "stream",
          "name": "stdout",
          "text": [
            "None\n"
          ]
        }
      ]
    },
    {
      "cell_type": "code",
      "source": [
        "print (b.clear())"
      ],
      "metadata": {
        "colab": {
          "base_uri": "https://localhost:8080/"
        },
        "id": "yIAwe_14YJxU",
        "outputId": "1482b243-2757-4c0b-8333-2ff2e30e404a"
      },
      "execution_count": 27,
      "outputs": [
        {
          "output_type": "stream",
          "name": "stdout",
          "text": [
            "None\n"
          ]
        }
      ]
    }
  ]
}