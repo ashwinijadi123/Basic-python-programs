{
  "nbformat": 4,
  "nbformat_minor": 0,
  "metadata": {
    "colab": {
      "provenance": [],
      "authorship_tag": "ABX9TyPtUlMtRtiwNATWJxmuNSmG",
      "include_colab_link": true
    },
    "kernelspec": {
      "name": "python3",
      "display_name": "Python 3"
    },
    "language_info": {
      "name": "python"
    }
  },
  "cells": [
    {
      "cell_type": "markdown",
      "metadata": {
        "id": "view-in-github",
        "colab_type": "text"
      },
      "source": [
        "<a href=\"https://colab.research.google.com/github/ashwinijadi123/Basic-python-programs/blob/main/labsheet_5.ipynb\" target=\"_parent\"><img src=\"https://colab.research.google.com/assets/colab-badge.svg\" alt=\"Open In Colab\"/></a>"
      ]
    },
    {
      "cell_type": "code",
      "execution_count": null,
      "metadata": {
        "id": "7Jkdb0KFQePs",
        "colab": {
          "base_uri": "https://localhost:8080/"
        },
        "outputId": "0c4c9bcd-5ea3-4343-a916-226350ef327f"
      },
      "outputs": [
        {
          "output_type": "stream",
          "name": "stdout",
          "text": [
            "6\n",
            "24\n"
          ]
        }
      ],
      "source": [
        "#question-1 product of all digits init\n",
        "def multiply(*args,x):\n",
        "    p=1\n",
        "    for i in (str(x)):\n",
        "        p=p*int(i)\n",
        "    print(p)\n",
        "multiply(x=23)\n",
        "multiply(x=1234)"
      ]
    },
    {
      "cell_type": "code",
      "source": [
        "def count_numbers():\n",
        "   x=input(\"enter your number:\")\n",
        "   c=0\n",
        "   for i in x:\n",
        "      c=c+1\n",
        "   print(c)\n",
        "count_numbers()"
      ],
      "metadata": {
        "colab": {
          "base_uri": "https://localhost:8080/"
        },
        "id": "k3_6PdVJUe4t",
        "outputId": "486732d7-c673-4f8e-d68b-e8d01393ee56"
      },
      "execution_count": null,
      "outputs": [
        {
          "output_type": "stream",
          "name": "stdout",
          "text": [
            "enter your number:123\n",
            "3\n"
          ]
        }
      ]
    },
    {
      "cell_type": "code",
      "source": [
        "x=input(\"enter your number:\")\n",
        "if (1):\n",
        "   print(x[::-1])"
      ],
      "metadata": {
        "colab": {
          "base_uri": "https://localhost:8080/"
        },
        "id": "69zW9Re8WhZ8",
        "outputId": "4673626c-fac1-4886-8858-8d63678777dd"
      },
      "execution_count": null,
      "outputs": [
        {
          "output_type": "stream",
          "name": "stdout",
          "text": [
            "enter your number:ashwini\n",
            "iniwhsa\n"
          ]
        }
      ]
    },
    {
      "cell_type": "code",
      "source": [
        "def reverse_number():\n",
        "   number=23\n",
        "   i=1\n",
        "   reverse=0\n",
        "   while i<=number:\n",
        "      digit = number % 10\n",
        "      reverse = reverse * 10 + digit\n",
        "      number= number//10\n",
        "   print(reverse)\n",
        "reverse_number()"
      ],
      "metadata": {
        "colab": {
          "base_uri": "https://localhost:8080/"
        },
        "id": "Biq4yjg_ZOKj",
        "outputId": "d1a393b0-7b06-47d8-8afc-1c96328ac2cb"
      },
      "execution_count": null,
      "outputs": [
        {
          "output_type": "stream",
          "name": "stdout",
          "text": [
            "32\n"
          ]
        }
      ]
    },
    {
      "cell_type": "code",
      "source": [
        "#question-5 duck number program\n",
        "def duck_num():\n",
        "   x=input(\"enter your number:\")\n",
        "   z=x\n",
        "   if  z[0]==\"0\":\n",
        "      print(\"it is not a duck number\")\n",
        "   elif  \"0\" in x :\n",
        "      print(\"it is  a duck number\")\n",
        "   else:\n",
        "      print(\"*****the end*****\")\n",
        "duck_num()\n",
        "duck_num()"
      ],
      "metadata": {
        "colab": {
          "base_uri": "https://localhost:8080/"
        },
        "id": "j4BK4IEHb9aM",
        "outputId": "d6b79040-e702-4699-a200-e4130f0a77bc"
      },
      "execution_count": null,
      "outputs": [
        {
          "output_type": "stream",
          "name": "stdout",
          "text": [
            "enter your number:012\n",
            "it is not a duck number\n",
            "enter your number:102\n",
            "it is  a duck number\n"
          ]
        }
      ]
    },
    {
      "cell_type": "code",
      "source": [
        "#question-6 removing 0 from the number\n",
        "def remove_0():\n",
        "  x=input(\"enter your number:\")\n",
        "  for i in x:\n",
        "    if i==\"0\":\n",
        "      continue\n",
        "    print(i,end=\"\")\n",
        "remove_0()"
      ],
      "metadata": {
        "colab": {
          "base_uri": "https://localhost:8080/"
        },
        "id": "4ZvRJ4pEgGwQ",
        "outputId": "ec4570f2-215e-4ad8-f70c-c3a47a135b07"
      },
      "execution_count": null,
      "outputs": [
        {
          "output_type": "stream",
          "name": "stdout",
          "text": [
            "enter your number:10020043\n",
            "1243"
          ]
        }
      ]
    },
    {
      "cell_type": "code",
      "source": [
        "#question-4 frequency_0 of the number\n",
        "def frequency_0():\n",
        "  x=input(\"enter your number:\")\n",
        "  c=0\n",
        "  for i in x:\n",
        "    if i==\"0\":\n",
        "      c=c+1\n",
        "  print(c)\n",
        "frequency_0()"
      ],
      "metadata": {
        "colab": {
          "base_uri": "https://localhost:8080/"
        },
        "id": "fmbLSoRFa9i0",
        "outputId": "4be02a49-1838-4069-a9f8-6ebafbb48e53"
      },
      "execution_count": null,
      "outputs": [
        {
          "output_type": "stream",
          "name": "stdout",
          "text": [
            "enter your number:1000234\n",
            "3\n"
          ]
        }
      ]
    },
    {
      "cell_type": "code",
      "source": [
        "# amstrong number program\n",
        "def amstrong():\n",
        "    num=int(input(\"enter your num:\"))\n",
        "    k=num\n",
        "    s=0\n",
        "    while k>0:\n",
        "       r=k%10\n",
        "       s=s+(r**3)\n",
        "       k=k//10\n",
        "    if s==num:\n",
        "        print(\"given number is amstrong\")\n",
        "    else:\n",
        "        print(\"not amstrong number\")\n",
        "amstrong()"
      ],
      "metadata": {
        "id": "t42TziuUk0dc",
        "outputId": "7702ed58-1e7d-4728-fc31-5315a5dd2858",
        "colab": {
          "base_uri": "https://localhost:8080/"
        }
      },
      "execution_count": null,
      "outputs": [
        {
          "output_type": "stream",
          "name": "stdout",
          "text": [
            "enter your num:153\n",
            "given number is amstrong\n"
          ]
        }
      ]
    },
    {
      "cell_type": "code",
      "source": [
        "#question-10 niven number or harshad number 126,1729\n",
        "def niven_harshad():\n",
        "  x=int(input(\"enter your number:\"))\n",
        "  s=0\n",
        "  for i in (str(x)):\n",
        "    s=s+int(i)\n",
        "  if x%s==0:\n",
        "    print(\"it is niven number or harshad number\")\n",
        "niven_harshad()"
      ],
      "metadata": {
        "colab": {
          "base_uri": "https://localhost:8080/"
        },
        "id": "rBKzDXSZmHCv",
        "outputId": "41b95adf-e9d8-4560-b3b0-05dc30368889"
      },
      "execution_count": null,
      "outputs": [
        {
          "output_type": "stream",
          "name": "stdout",
          "text": [
            "enter your number:126\n",
            "it is niven number or harshad number\n"
          ]
        }
      ]
    },
    {
      "cell_type": "code",
      "source": [
        "#question-12 spy number sum=product 1124\n",
        "def spy():\n",
        "  x=int(input(\"enter your number:\"))\n",
        "  s=0\n",
        "  product=1\n",
        "  for i in (str(x)):\n",
        "    s=s+int(i)\n",
        "    product=product*int(i)\n",
        "  if s==product:\n",
        "      print(\"it is spy number\")\n",
        "  else:\n",
        "      print(\"it is not a spy number\")\n",
        "spy()"
      ],
      "metadata": {
        "colab": {
          "base_uri": "https://localhost:8080/"
        },
        "id": "UGlAGkBRpsVJ",
        "outputId": "c4282a7c-5b67-4e5e-a7c9-f07ebb123201"
      },
      "execution_count": null,
      "outputs": [
        {
          "output_type": "stream",
          "name": "stdout",
          "text": [
            "enter your number:1124\n",
            "it is spy number\n"
          ]
        }
      ]
    },
    {
      "cell_type": "code",
      "source": [
        "def is_automorphic(number):\n",
        "    square = number ** 2\n",
        "    str_number = str(number)\n",
        "    str_square = str(square)\n",
        "    return str_square.endswith(str_number)\n",
        "    user_input = int(input(\"Enter a number: \"))\n",
        "try:\n",
        "    user_input = int(input(\"Enter a number: \"))\n",
        "    if is_automorphic(user_input):\n",
        "        print(\"{}, is an automorphic number.\".format(user_input))\n",
        "    else:\n",
        "        print(\" {},is not an automorphic number.\".format(user_input))\n",
        "except ValueError:\n",
        "       print(\"try again\")\n",
        "is_automorphic(number=5)"
      ],
      "metadata": {
        "colab": {
          "base_uri": "https://localhost:8080/"
        },
        "id": "wIF5wziatW2g",
        "outputId": "5bcc92c0-9927-458a-dad6-6aee4d099a2f"
      },
      "execution_count": null,
      "outputs": [
        {
          "output_type": "stream",
          "name": "stdout",
          "text": [
            "Enter a number: 25\n",
            "25, is an automorphic number.\n"
          ]
        },
        {
          "output_type": "execute_result",
          "data": {
            "text/plain": [
              "True"
            ]
          },
          "metadata": {},
          "execution_count": 127
        }
      ]
    },
    {
      "cell_type": "code",
      "source": [
        "def automarphic(x):\n",
        "    s=x**2\n",
        "    str_x=str(x)\n",
        "    str_s=str(s)\n",
        "    if str_s.endswith(str_x):\n",
        "       print(x,\"is a autormorphic number\")\n",
        "    else:\n",
        "       print(x, \"is not a automorphic\")\n",
        "automarphic(x=5)\n",
        "automarphic(x=6)\n",
        "automarphic(x=25)\n",
        "automarphic(x=76)\n",
        "automarphic(x=625)\n",
        "automarphic(x=9)"
      ],
      "metadata": {
        "colab": {
          "base_uri": "https://localhost:8080/"
        },
        "id": "EQyBFitLzGwR",
        "outputId": "1d6ee8f4-4db5-42f7-ddd6-dd2d5e9cc54d"
      },
      "execution_count": null,
      "outputs": [
        {
          "output_type": "stream",
          "name": "stdout",
          "text": [
            "5 is a autormorphic number\n",
            "6 is a autormorphic number\n",
            "25 is a autormorphic number\n",
            "76 is a autormorphic number\n",
            "625 is a autormorphic number\n",
            "9 is not a automorphic\n"
          ]
        }
      ]
    },
    {
      "cell_type": "code",
      "source": [
        "def automorphic_trinomorphic(x):\n",
        "    s=x**2\n",
        "    c=x**3\n",
        "    y=3*s\n",
        "    str_x=str(x)\n",
        "    str_s=str(s)\n",
        "    str_c=str(c)\n",
        "    str_y=str(y)\n",
        "    if str_s.endswith(str_x):\n",
        "       print(x,\"is a autormorphic number\")\n",
        "    elif str_c.endswith(str_x):\n",
        "       print(x, \"is trinomorphic\")\n",
        "    elif str_y.endswith(str_x):\n",
        "       print(x,\"tri_automorphic \")\n",
        "    else:\n",
        "       print(\"try again\")\n",
        "automorphic_trinomorphic(x=5)\n",
        "automorphic_trinomorphic(x=49)\n",
        "automorphic_trinomorphic(x=667)"
      ],
      "metadata": {
        "colab": {
          "base_uri": "https://localhost:8080/"
        },
        "id": "uvGoQYh_CYYJ",
        "outputId": "c71839e1-e2ad-49b1-c528-190561566468"
      },
      "execution_count": null,
      "outputs": [
        {
          "output_type": "stream",
          "name": "stdout",
          "text": [
            "5 is a autormorphic number\n",
            "49 is trinomorphic\n",
            "667 tri_automorphic \n"
          ]
        }
      ]
    },
    {
      "cell_type": "code",
      "source": [
        "def is_kaprekar(n):\n",
        "    square = n ** 2\n",
        "    str_square = str(square)\n",
        "    d = len(str(n))\n",
        "    right_part = str_square[-d:]\n",
        "    left_part = str_square[:-d] or '0'\n",
        "    if (int(left_part) + int(right_part) == n):\n",
        "        print(\"it is a kaprekar number\")\n",
        "    else:\n",
        "        print(\"it is not kaprekar number\")\n",
        "is_kaprekar(n=9)"
      ],
      "metadata": {
        "colab": {
          "base_uri": "https://localhost:8080/"
        },
        "id": "D1z9hHU5RXxk",
        "outputId": "13568754-1e95-471b-8c93-db217f5908f5"
      },
      "execution_count": 1,
      "outputs": [
        {
          "output_type": "stream",
          "name": "stdout",
          "text": [
            "it is a kaprekar number\n"
          ]
        }
      ]
    }
  ]
}