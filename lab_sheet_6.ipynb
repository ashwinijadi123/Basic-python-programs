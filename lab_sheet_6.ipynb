{
  "nbformat": 4,
  "nbformat_minor": 0,
  "metadata": {
    "colab": {
      "provenance": [],
      "authorship_tag": "ABX9TyN7O6U9rt8TQvVcUvKR2pVv",
      "include_colab_link": true
    },
    "kernelspec": {
      "name": "python3",
      "display_name": "Python 3"
    },
    "language_info": {
      "name": "python"
    }
  },
  "cells": [
    {
      "cell_type": "markdown",
      "metadata": {
        "id": "view-in-github",
        "colab_type": "text"
      },
      "source": [
        "<a href=\"https://colab.research.google.com/github/ashwinijadi123/Basic-python-programs/blob/main/lab_sheet_6.ipynb\" target=\"_parent\"><img src=\"https://colab.research.google.com/assets/colab-badge.svg\" alt=\"Open In Colab\"/></a>"
      ]
    },
    {
      "cell_type": "code",
      "source": [
        "# replication of anumber program using function\n",
        "def replication():\n",
        "   l=[1,2,3,4]\n",
        "   for i in range(1,10):\n",
        "      print()\n",
        "   print(i*l)\n",
        "replication()\n"
      ],
      "metadata": {
        "colab": {
          "base_uri": "https://localhost:8080/"
        },
        "id": "3gVcO-fjUGKp",
        "outputId": "1bc8c3cf-bb4e-4647-e348-ac8338a77c86"
      },
      "execution_count": null,
      "outputs": [
        {
          "output_type": "stream",
          "name": "stdout",
          "text": [
            "\n",
            "\n",
            "\n",
            "\n",
            "\n",
            "\n",
            "\n",
            "\n",
            "\n",
            "[1, 2, 3, 4, 1, 2, 3, 4, 1, 2, 3, 4, 1, 2, 3, 4, 1, 2, 3, 4, 1, 2, 3, 4, 1, 2, 3, 4, 1, 2, 3, 4, 1, 2, 3, 4]\n"
          ]
        }
      ]
    },
    {
      "cell_type": "code",
      "source": [
        "#count of numbers in the list(question-2)\n",
        "l2=[1,2,3,2,1,3,2]\n",
        "l1=[]\n",
        "for i in set(l2):\n",
        "   for j in str(i):\n",
        "     print(\"the count of\",i,\"is:\",l2.count(i))\n"
      ],
      "metadata": {
        "colab": {
          "base_uri": "https://localhost:8080/"
        },
        "id": "a6FwXM4YWTDw",
        "outputId": "80049c7c-6abb-4e82-9d47-f459c97508b1"
      },
      "execution_count": null,
      "outputs": [
        {
          "output_type": "stream",
          "name": "stdout",
          "text": [
            "the count of 1 is: 2\n",
            "the count of 2 is: 3\n",
            "the count of 3 is: 2\n"
          ]
        }
      ]
    },
    {
      "cell_type": "code",
      "source": [
        "#remove negative elements(question-3)\n",
        "def remove_neg():\n",
        "   a=[1,2,3,-1,4,5,6,-2,0,-6,-7,-8,-9]\n",
        "   b=[]\n",
        "   for i in a:\n",
        "      if i>=0:\n",
        "         b.append(i)\n",
        "   print(b)\n",
        "remove_neg()"
      ],
      "metadata": {
        "colab": {
          "base_uri": "https://localhost:8080/"
        },
        "id": "wGwF67N7Y4Dc",
        "outputId": "c9fc556d-7d0c-4bff-91a8-3899c2f2c91d"
      },
      "execution_count": null,
      "outputs": [
        {
          "output_type": "stream",
          "name": "stdout",
          "text": [
            "[1, 2, 3, 4, 5, 6, 0]\n"
          ]
        }
      ]
    },
    {
      "cell_type": "code",
      "source": [
        "l2=[1,2,3,4,2,3,5,3]\n",
        "a=set(l2)\n",
        "print(list(a))\n"
      ],
      "metadata": {
        "colab": {
          "base_uri": "https://localhost:8080/"
        },
        "id": "dHb6JlnEhQY3",
        "outputId": "b3588826-5a82-4c7c-916c-05c2f4254d0a"
      },
      "execution_count": null,
      "outputs": [
        {
          "output_type": "stream",
          "name": "stdout",
          "text": [
            "[1, 2, 3, 4, 5]\n"
          ]
        }
      ]
    },
    {
      "cell_type": "code",
      "source": [
        "#question-4 removing duplicates in list\n",
        "l2=[1,2,3,2,1,3,2]\n",
        "l1=[]\n",
        "for i in (l2):\n",
        "   if i not in l1:\n",
        "       l1.append(i)\n",
        "print(l1)\n"
      ],
      "metadata": {
        "colab": {
          "base_uri": "https://localhost:8080/"
        },
        "id": "YxK_-hfNi59I",
        "outputId": "c9d3d6fc-db7a-4069-a4dd-4d500b3f4ccf"
      },
      "execution_count": null,
      "outputs": [
        {
          "output_type": "stream",
          "name": "stdout",
          "text": [
            "[1, 2, 3]\n"
          ]
        }
      ]
    },
    {
      "cell_type": "code",
      "source": [
        "l=[2,3,7,9,6,5,10,11,13,17,19,]\n",
        "import sympy\n",
        "for i in l:\n",
        "   if i==2:\n",
        "       print(i)\n",
        "   elif i==3:\n",
        "       print(i)\n",
        "   elif i%2!=0 and i%3!=0:\n",
        "       if sympy.isprime(i):\n",
        "          print(i)\n",
        "   else:\n",
        "       print(\"it is not a prime\")"
      ],
      "metadata": {
        "colab": {
          "base_uri": "https://localhost:8080/"
        },
        "id": "3sm5QdCxkkH0",
        "outputId": "a60ed416-beee-4602-8e78-63dba7248fa4"
      },
      "execution_count": 11,
      "outputs": [
        {
          "output_type": "stream",
          "name": "stdout",
          "text": [
            "2\n",
            "3\n",
            "7\n",
            "it is not a prime\n",
            "it is not a prime\n",
            "5\n",
            "it is not a prime\n",
            "11\n",
            "13\n",
            "17\n",
            "19\n"
          ]
        }
      ]
    },
    {
      "cell_type": "code",
      "source": [
        "#check the element of a list is prime (question-5)\n",
        "l=[2,3,7,9,6,5,10,11,13,17,19,]\n",
        "for i in l:\n",
        "   if i==2:\n",
        "       print(i,\"is a prime number\")\n",
        "   elif i==3:\n",
        "       print(i,\"is a prime number\")\n",
        "   elif i%2!=0 and i%3!=0:\n",
        "          print(i,\"is a prime number\")\n",
        "   else:\n",
        "       print(i,\"is not a prime\")"
      ],
      "metadata": {
        "colab": {
          "base_uri": "https://localhost:8080/"
        },
        "id": "Te-GPFNptyxD",
        "outputId": "60fc3a43-515e-4935-a66c-527b1a34bc55"
      },
      "execution_count": null,
      "outputs": [
        {
          "output_type": "stream",
          "name": "stdout",
          "text": [
            "2 is a prime number\n",
            "3 is a prime number\n",
            "7 is a prime number\n",
            "9 is not a prime\n",
            "6 is not a prime\n",
            "5 is a prime number\n",
            "10 is not a prime\n",
            "11 is a prime number\n",
            "13 is a prime number\n",
            "17 is a prime number\n",
            "19 is a prime number\n"
          ]
        }
      ]
    },
    {
      "cell_type": "code",
      "source": [
        "#remove the first and last element from the list(question-6)\n",
        "def remove_lat_first():\n",
        "  l=[2,3,7,9,6,5,10,11,13,17,19,]\n",
        "  l.remove(l[0])\n",
        "  l.remove(l[-1])\n",
        "  return(l)\n",
        "remove_lat_first()"
      ],
      "metadata": {
        "colab": {
          "base_uri": "https://localhost:8080/"
        },
        "id": "K72ENoAfu3OK",
        "outputId": "a359aeb7-3b0f-46b1-a55e-427e36902aba"
      },
      "execution_count": null,
      "outputs": [
        {
          "output_type": "execute_result",
          "data": {
            "text/plain": [
              "[3, 7, 9, 6, 5, 10, 11, 13, 17]"
            ]
          },
          "metadata": {},
          "execution_count": 107
        }
      ]
    },
    {
      "cell_type": "code",
      "source": [
        "#extracting even numbers from a list(question-7)\n",
        "l=[2,3,4,5,6,7,8]\n",
        "def even_list():\n",
        "   global l\n",
        "   a=[]\n",
        "   for i in l:\n",
        "     if i%2==0:\n",
        "        a.append(i)\n",
        "   print(a)\n",
        "even_list()\n"
      ],
      "metadata": {
        "colab": {
          "base_uri": "https://localhost:8080/"
        },
        "id": "Y1ZBB1znxBap",
        "outputId": "4e3342b2-b64f-402e-b752-52e7ea7516aa"
      },
      "execution_count": null,
      "outputs": [
        {
          "output_type": "stream",
          "name": "stdout",
          "text": [
            "[2, 4, 6, 8]\n"
          ]
        }
      ]
    },
    {
      "cell_type": "code",
      "source": [
        "l=[1,\"x\",4,5.6,\"z\",9,\"a\",0,4]\n",
        "[x for x in str(l) if x.isdigit ]"
      ],
      "metadata": {
        "colab": {
          "base_uri": "https://localhost:8080/"
        },
        "id": "v4V-O1kpyKkd",
        "outputId": "695125b2-a634-4b88-f4c0-0ccee051cb55"
      },
      "execution_count": null,
      "outputs": [
        {
          "output_type": "execute_result",
          "data": {
            "text/plain": [
              "['[',\n",
              " '1',\n",
              " ',',\n",
              " ' ',\n",
              " \"'\",\n",
              " 'x',\n",
              " \"'\",\n",
              " ',',\n",
              " ' ',\n",
              " '4',\n",
              " ',',\n",
              " ' ',\n",
              " '5',\n",
              " '.',\n",
              " '6',\n",
              " ',',\n",
              " ' ',\n",
              " \"'\",\n",
              " 'z',\n",
              " \"'\",\n",
              " ',',\n",
              " ' ',\n",
              " '9',\n",
              " ',',\n",
              " ' ',\n",
              " \"'\",\n",
              " 'a',\n",
              " \"'\",\n",
              " ',',\n",
              " ' ',\n",
              " '0',\n",
              " ',',\n",
              " ' ',\n",
              " '4',\n",
              " ']']"
            ]
          },
          "metadata": {},
          "execution_count": 118
        }
      ]
    },
    {
      "cell_type": "code",
      "source": [
        "#question-9\n",
        "[x**2 for x in range(1,10) ]\n",
        "[y**3 for y in range(1,10) ]\n",
        "a=[x**2 for x in range(1,10) if x%2==0]\n",
        "b=[y**3 for y in range(1,10) if y%2==0 ]\n",
        "print(a+b)\n"
      ],
      "metadata": {
        "colab": {
          "base_uri": "https://localhost:8080/"
        },
        "id": "R2gYspfc3fYR",
        "outputId": "f76983c4-5f5c-4667-c430-d548e569ef0b"
      },
      "execution_count": null,
      "outputs": [
        {
          "output_type": "stream",
          "name": "stdout",
          "text": [
            "[4, 16, 36, 64, 8, 64, 216, 512]\n"
          ]
        }
      ]
    },
    {
      "cell_type": "code",
      "source": [
        "#question-10\n",
        "[x**2 for x in range(1,10) ]"
      ],
      "metadata": {
        "colab": {
          "base_uri": "https://localhost:8080/"
        },
        "id": "Qp-GgNJh7xEZ",
        "outputId": "2df6b77f-3fa3-4f1c-ed42-bfdc0ff386d9"
      },
      "execution_count": null,
      "outputs": [
        {
          "output_type": "execute_result",
          "data": {
            "text/plain": [
              "[1, 4, 9, 16, 25, 36, 49, 64, 81]"
            ]
          },
          "metadata": {},
          "execution_count": 157
        }
      ]
    },
    {
      "cell_type": "code",
      "source": [
        "#question-15\n",
        "[x**2 for x in range(1,10) if x%3==0 ]"
      ],
      "metadata": {
        "colab": {
          "base_uri": "https://localhost:8080/"
        },
        "id": "c08tCnwS9UfW",
        "outputId": "12b06802-cab6-4cdb-d1b0-8c0d28579852"
      },
      "execution_count": null,
      "outputs": [
        {
          "output_type": "execute_result",
          "data": {
            "text/plain": [
              "[9, 36, 81]"
            ]
          },
          "metadata": {},
          "execution_count": 160
        }
      ]
    },
    {
      "cell_type": "code",
      "source": [
        "#question-11\n",
        "[x for x in range(1,20) if x%2==0]"
      ],
      "metadata": {
        "colab": {
          "base_uri": "https://localhost:8080/"
        },
        "id": "2RRZYYAR74ST",
        "outputId": "1292f23d-d6ed-4e15-d739-42eee4b80b5b"
      },
      "execution_count": null,
      "outputs": [
        {
          "output_type": "execute_result",
          "data": {
            "text/plain": [
              "[2, 4, 6, 8, 10, 12, 14, 16, 18]"
            ]
          },
          "metadata": {},
          "execution_count": 158
        }
      ]
    },
    {
      "cell_type": "code",
      "source": [
        "#question-16\n",
        "[x for x in range(1,50) if x%3==0 and x%5==0]"
      ],
      "metadata": {
        "colab": {
          "base_uri": "https://localhost:8080/"
        },
        "id": "VdlFMIRM8hZ4",
        "outputId": "9bbb97fd-b129-4cc8-9a07-661505af9d0f"
      },
      "execution_count": null,
      "outputs": [
        {
          "output_type": "execute_result",
          "data": {
            "text/plain": [
              "[15, 30, 45]"
            ]
          },
          "metadata": {},
          "execution_count": 159
        }
      ]
    },
    {
      "cell_type": "code",
      "source": [
        "#question-12 length of each word in list\n",
        "l=[\"ash\",\"kumari\",\"anu\"]\n",
        "[len(x) for x in l ]"
      ],
      "metadata": {
        "colab": {
          "base_uri": "https://localhost:8080/"
        },
        "id": "q8x_a3sU94aW",
        "outputId": "9a676cbf-fd7d-46ac-f9d3-1a753113c6b6"
      },
      "execution_count": null,
      "outputs": [
        {
          "output_type": "execute_result",
          "data": {
            "text/plain": [
              "[3, 6, 3]"
            ]
          },
          "metadata": {},
          "execution_count": 171
        }
      ]
    },
    {
      "cell_type": "code",
      "source": [
        "#question-13 find common elements between two lists\n",
        "x=[x**2 for x in range(1,10) ]\n",
        "print(x)\n",
        "y=[y**3 for y in range(1,10) ]\n",
        "print(y)\n",
        "c=[z for z in (x and y) if z in x and y]\n",
        "print(c)"
      ],
      "metadata": {
        "colab": {
          "base_uri": "https://localhost:8080/"
        },
        "id": "auWHOHJ-A469",
        "outputId": "1428b31b-7f91-490d-bec0-485ceae331de"
      },
      "execution_count": null,
      "outputs": [
        {
          "output_type": "stream",
          "name": "stdout",
          "text": [
            "[1, 4, 9, 16, 25, 36, 49, 64, 81]\n",
            "[1, 8, 27, 64, 125, 216, 343, 512, 729]\n",
            "[1, 64]\n"
          ]
        }
      ]
    },
    {
      "cell_type": "code",
      "source": [
        "#question-18\n",
        "[ \"fizz\" if x%3==0 else \"buzz\" if x%5==0 else \"fizzbuzz\" if x%3==0 and x%5==0 else x for x in range(1,100)]"
      ],
      "metadata": {
        "colab": {
          "base_uri": "https://localhost:8080/"
        },
        "id": "BNDIJisRCtvP",
        "outputId": "b1f8dd1e-90ee-43fe-d203-4b62bb2425d6"
      },
      "execution_count": null,
      "outputs": [
        {
          "output_type": "execute_result",
          "data": {
            "text/plain": [
              "[1,\n",
              " 2,\n",
              " 'fizz',\n",
              " 4,\n",
              " 'buzz',\n",
              " 'fizz',\n",
              " 7,\n",
              " 8,\n",
              " 'fizz',\n",
              " 'buzz',\n",
              " 11,\n",
              " 'fizz',\n",
              " 13,\n",
              " 14,\n",
              " 'fizz',\n",
              " 16,\n",
              " 17,\n",
              " 'fizz',\n",
              " 19,\n",
              " 'buzz',\n",
              " 'fizz',\n",
              " 22,\n",
              " 23,\n",
              " 'fizz',\n",
              " 'buzz',\n",
              " 26,\n",
              " 'fizz',\n",
              " 28,\n",
              " 29,\n",
              " 'fizz',\n",
              " 31,\n",
              " 32,\n",
              " 'fizz',\n",
              " 34,\n",
              " 'buzz',\n",
              " 'fizz',\n",
              " 37,\n",
              " 38,\n",
              " 'fizz',\n",
              " 'buzz',\n",
              " 41,\n",
              " 'fizz',\n",
              " 43,\n",
              " 44,\n",
              " 'fizz',\n",
              " 46,\n",
              " 47,\n",
              " 'fizz',\n",
              " 49,\n",
              " 'buzz',\n",
              " 'fizz',\n",
              " 52,\n",
              " 53,\n",
              " 'fizz',\n",
              " 'buzz',\n",
              " 56,\n",
              " 'fizz',\n",
              " 58,\n",
              " 59,\n",
              " 'fizz',\n",
              " 61,\n",
              " 62,\n",
              " 'fizz',\n",
              " 64,\n",
              " 'buzz',\n",
              " 'fizz',\n",
              " 67,\n",
              " 68,\n",
              " 'fizz',\n",
              " 'buzz',\n",
              " 71,\n",
              " 'fizz',\n",
              " 73,\n",
              " 74,\n",
              " 'fizz',\n",
              " 76,\n",
              " 77,\n",
              " 'fizz',\n",
              " 79,\n",
              " 'buzz',\n",
              " 'fizz',\n",
              " 82,\n",
              " 83,\n",
              " 'fizz',\n",
              " 'buzz',\n",
              " 86,\n",
              " 'fizz',\n",
              " 88,\n",
              " 89,\n",
              " 'fizz',\n",
              " 91,\n",
              " 92,\n",
              " 'fizz',\n",
              " 94,\n",
              " 'buzz',\n",
              " 'fizz',\n",
              " 97,\n",
              " 98,\n",
              " 'fizz']"
            ]
          },
          "metadata": {},
          "execution_count": 188
        }
      ]
    },
    {
      "cell_type": "code",
      "source": [
        "#question-14 removing vowels from string using list comprehension\n",
        "y=\"aeiouAEIOU\"\n",
        "[x for x in (\"ashwini\") if x not in y]"
      ],
      "metadata": {
        "colab": {
          "base_uri": "https://localhost:8080/"
        },
        "id": "EjPudeakHzgu",
        "outputId": "8c815ea9-c1e2-4a88-90ad-5aab3814bdd2"
      },
      "execution_count": 4,
      "outputs": [
        {
          "output_type": "execute_result",
          "data": {
            "text/plain": [
              "['s', 'h', 'w', 'n']"
            ]
          },
          "metadata": {},
          "execution_count": 4
        }
      ]
    },
    {
      "cell_type": "code",
      "source": [
        "#question-8 display only int data type\n",
        "x=[1,2,\"z\",20.5,3+2j,6,5]\n",
        "[y for y in x if type(y)==int]"
      ],
      "metadata": {
        "colab": {
          "base_uri": "https://localhost:8080/"
        },
        "id": "HfrNP6YZwVeS",
        "outputId": "fdedadbe-3d8a-4442-f172-54a13cf90378"
      },
      "execution_count": 10,
      "outputs": [
        {
          "output_type": "execute_result",
          "data": {
            "text/plain": [
              "[1, 2, 6, 5]"
            ]
          },
          "metadata": {},
          "execution_count": 10
        }
      ]
    },
    {
      "cell_type": "code",
      "source": [
        "#question-17 generate prime numbers using list comprehension\n",
        "z=[x for x in range(1,51) if all(x%y!=0 for y in range(2,x))]\n",
        "print(z)"
      ],
      "metadata": {
        "colab": {
          "base_uri": "https://localhost:8080/"
        },
        "id": "Xjde9AlF2YCk",
        "outputId": "9c2893e1-6b20-41fe-f67d-6de21636bd32"
      },
      "execution_count": 18,
      "outputs": [
        {
          "output_type": "stream",
          "name": "stdout",
          "text": [
            "[1, 2, 3, 5, 7, 11, 13, 17, 19, 23, 29, 31, 37, 41, 43, 47]\n"
          ]
        }
      ]
    }
  ]
}