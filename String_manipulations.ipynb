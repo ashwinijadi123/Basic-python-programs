{
  "nbformat": 4,
  "nbformat_minor": 0,
  "metadata": {
    "colab": {
      "provenance": [],
      "authorship_tag": "ABX9TyOaGmrNgY+Z27K7lm2ZhR5z",
      "include_colab_link": true
    },
    "kernelspec": {
      "name": "python3",
      "display_name": "Python 3"
    },
    "language_info": {
      "name": "python"
    }
  },
  "cells": [
    {
      "cell_type": "markdown",
      "metadata": {
        "id": "view-in-github",
        "colab_type": "text"
      },
      "source": [
        "<a href=\"https://colab.research.google.com/github/ashwinijadi123/Basic-python-programs/blob/main/String_manipulations.ipynb\" target=\"_parent\"><img src=\"https://colab.research.google.com/assets/colab-badge.svg\" alt=\"Open In Colab\"/></a>"
      ]
    },
    {
      "cell_type": "code",
      "execution_count": null,
      "metadata": {
        "colab": {
          "base_uri": "https://localhost:8080/",
          "height": 140
        },
        "id": "NrJWNv68NoQp",
        "outputId": "5c09763c-501e-43cc-acbe-2332dba55c20"
      },
      "outputs": [
        {
          "output_type": "execute_result",
          "data": {
            "text/plain": [
              "' Strings are used to store group characters including spaces special character and numbers etc\\nwe can perform different operation on strings like concatenation, slicing, indexing, repetition. '"
            ],
            "application/vnd.google.colaboratory.intrinsic+json": {
              "type": "string"
            }
          },
          "metadata": {},
          "execution_count": 1
        }
      ],
      "source": [
        "\"\"\" Strings are used to store group characters including spaces special character and numbers etc\n",
        "we can perform different operation on strings like concatenation, slicing, indexing, repetition. \"\"\""
      ]
    },
    {
      "cell_type": "code",
      "source": [
        "#capitalize(): used to convert the first character in two lower case it should not effect the other string until we store it in an another variable\n",
        "#the syntax is:string.capitalize()\n",
        "a=\"welcome to python programming\"\n",
        "print(a.capitalize())"
      ],
      "metadata": {
        "colab": {
          "base_uri": "https://localhost:8080/"
        },
        "id": "ypfin6L3PLk-",
        "outputId": "45ef601f-1c80-4897-b762-c7ae31364a55"
      },
      "execution_count": null,
      "outputs": [
        {
          "output_type": "stream",
          "name": "stdout",
          "text": [
            "Welcome to python programming\n"
          ]
        }
      ]
    },
    {
      "cell_type": "code",
      "source": [
        "C=\"hello\"\n",
        "print (C.capitalize())"
      ],
      "metadata": {
        "colab": {
          "base_uri": "https://localhost:8080/"
        },
        "id": "WuhTrjttQkXg",
        "outputId": "00d6826b-dcfc-44ef-ec73-699338107821"
      },
      "execution_count": null,
      "outputs": [
        {
          "output_type": "stream",
          "name": "stdout",
          "text": [
            "Hello\n"
          ]
        }
      ]
    },
    {
      "cell_type": "code",
      "source": [
        "#center():it is used to make text center\n",
        "#the syntax is:string.center(width, fillchar)\n",
        "x=\"hi everyone\"\n",
        "print (x.center(23,\"a\"))"
      ],
      "metadata": {
        "colab": {
          "base_uri": "https://localhost:8080/"
        },
        "id": "sc1DqwURQw-9",
        "outputId": "6f01c5ef-1188-4316-bdda-df58c7d7323f"
      },
      "execution_count": null,
      "outputs": [
        {
          "output_type": "stream",
          "name": "stdout",
          "text": [
            "aaaaaahi everyoneaaaaaa\n"
          ]
        }
      ]
    },
    {
      "cell_type": "code",
      "source": [
        "print (x.center(30,\" \"))"
      ],
      "metadata": {
        "colab": {
          "base_uri": "https://localhost:8080/"
        },
        "id": "-vvKVrZAR5zx",
        "outputId": "a9310eb7-844f-4e74-9b35-23e58e5f525a"
      },
      "execution_count": null,
      "outputs": [
        {
          "output_type": "stream",
          "name": "stdout",
          "text": [
            "         hi everyone          \n"
          ]
        }
      ]
    },
    {
      "cell_type": "code",
      "source": [
        "#islower() :it will return boolean value if the given  string is  in lower\n",
        "#the syntax is :string.islower()\n",
        "print (x.islower())"
      ],
      "metadata": {
        "colab": {
          "base_uri": "https://localhost:8080/"
        },
        "id": "ZWKUrIVsSP6-",
        "outputId": "5108046d-917e-4cf3-df9b-ceae0fb1ea69"
      },
      "execution_count": null,
      "outputs": [
        {
          "output_type": "stream",
          "name": "stdout",
          "text": [
            "True\n"
          ]
        }
      ]
    },
    {
      "cell_type": "code",
      "source": [
        "Z=\"HELLO\"\n",
        "print (Z.islower())"
      ],
      "metadata": {
        "colab": {
          "base_uri": "https://localhost:8080/"
        },
        "id": "xmnqrvLcS_kc",
        "outputId": "523c3c0e-5172-4729-89f6-6596b9a227e1"
      },
      "execution_count": null,
      "outputs": [
        {
          "output_type": "stream",
          "name": "stdout",
          "text": [
            "False\n"
          ]
        }
      ]
    },
    {
      "cell_type": "code",
      "source": [
        "#isupper() : it is opposite of islower()\n",
        "print (Z.isupper())\n",
        "print (x.isupper())"
      ],
      "metadata": {
        "colab": {
          "base_uri": "https://localhost:8080/"
        },
        "id": "X8zZNzq8TN8N",
        "outputId": "59e4f857-f473-4786-a2cb-165959fccf82"
      },
      "execution_count": null,
      "outputs": [
        {
          "output_type": "stream",
          "name": "stdout",
          "text": [
            "True\n",
            "False\n"
          ]
        }
      ]
    },
    {
      "cell_type": "code",
      "source": [
        "#istitle() :it will return boolean value if the given text is in title format or not\n",
        "#the syntax is:string.istitle()\n",
        "print (x.istitle())"
      ],
      "metadata": {
        "colab": {
          "base_uri": "https://localhost:8080/"
        },
        "id": "wqEJggrbTseT",
        "outputId": "b753cecc-ab5f-403f-bbba-b68f60785188"
      },
      "execution_count": null,
      "outputs": [
        {
          "output_type": "stream",
          "name": "stdout",
          "text": [
            "False\n"
          ]
        }
      ]
    },
    {
      "cell_type": "code",
      "source": [
        "#upper() :it will written all values in upper case\n",
        "#the syntax is:string.upper()\n",
        "print (x.upper())"
      ],
      "metadata": {
        "colab": {
          "base_uri": "https://localhost:8080/"
        },
        "id": "vUFfRb4gUpX3",
        "outputId": "de68e57d-1147-45a6-cb3f-938e8948ab04"
      },
      "execution_count": null,
      "outputs": [
        {
          "output_type": "stream",
          "name": "stdout",
          "text": [
            "HI EVERYONE\n"
          ]
        }
      ]
    },
    {
      "cell_type": "code",
      "source": [
        "#lower() :it is opposite of upper ()\n",
        "print (Z.lower())\n",
        "print (x.title())"
      ],
      "metadata": {
        "colab": {
          "base_uri": "https://localhost:8080/"
        },
        "id": "sx3OyTjIVZNl",
        "outputId": "e990c9bd-402a-402e-e233-82c43fc56da0"
      },
      "execution_count": null,
      "outputs": [
        {
          "output_type": "stream",
          "name": "stdout",
          "text": [
            "hello\n",
            "Hi Everyone\n"
          ]
        }
      ]
    },
    {
      "cell_type": "code",
      "source": [
        "#min(), max():it will give min and max of the given string according to ascii values\n",
        "#syntax:min(str) , max(str)\n",
        "print (min(x))#space is the min of all characters\n",
        "print (max(x))"
      ],
      "metadata": {
        "colab": {
          "base_uri": "https://localhost:8080/"
        },
        "id": "eHgj9yXAVwmM",
        "outputId": "55cee9e3-f468-47fb-924c-283e87de92e5"
      },
      "execution_count": null,
      "outputs": [
        {
          "output_type": "stream",
          "name": "stdout",
          "text": [
            " \n",
            "y\n"
          ]
        }
      ]
    },
    {
      "cell_type": "code",
      "source": [
        "#len():gives the length of a given string including space it will count\n",
        "#syntax:len(str)\n",
        "print (len(x))"
      ],
      "metadata": {
        "colab": {
          "base_uri": "https://localhost:8080/"
        },
        "id": "S9M7j7ONWhiB",
        "outputId": "72048f4e-858f-40b1-fff0-81ea356fb7a8"
      },
      "execution_count": null,
      "outputs": [
        {
          "output_type": "stream",
          "name": "stdout",
          "text": [
            "11\n"
          ]
        }
      ]
    },
    {
      "cell_type": "code",
      "source": [
        "#endswith(str,beg,end):the syntax is;string.endswith(str, beg, end)\n",
        "print(x.endswith(\"w\",3,len(x)))"
      ],
      "metadata": {
        "id": "tD-_F5_jXL58",
        "colab": {
          "base_uri": "https://localhost:8080/"
        },
        "outputId": "165019bb-ae00-453d-929c-c37e92550c21"
      },
      "execution_count": 25,
      "outputs": [
        {
          "output_type": "stream",
          "name": "stdout",
          "text": [
            "False\n"
          ]
        }
      ]
    },
    {
      "cell_type": "code",
      "source": [
        "print (x.endswith(\"d\",0,len(x)))"
      ],
      "metadata": {
        "colab": {
          "base_uri": "https://localhost:8080/"
        },
        "id": "jv2YTHlAfQFg",
        "outputId": "de3ac148-3dbd-4ee8-f5aa-b522181becdf"
      },
      "execution_count": 26,
      "outputs": [
        {
          "output_type": "stream",
          "name": "stdout",
          "text": [
            "False\n"
          ]
        }
      ]
    },
    {
      "cell_type": "code",
      "source": [
        "a=\"hello\"\n",
        "print (a.endswith(\"o\",0,len(a)))"
      ],
      "metadata": {
        "colab": {
          "base_uri": "https://localhost:8080/"
        },
        "id": "05NuKzErfzOU",
        "outputId": "2f13d7a1-bbd1-4281-8d1f-bb8a5c8d4eed"
      },
      "execution_count": 27,
      "outputs": [
        {
          "output_type": "stream",
          "name": "stdout",
          "text": [
            "True\n"
          ]
        }
      ]
    },
    {
      "cell_type": "code",
      "source": [
        "#startswith() :it is opposite of endswith ()\n",
        "print (a.startswith(\"h\",0,len(a)))"
      ],
      "metadata": {
        "colab": {
          "base_uri": "https://localhost:8080/"
        },
        "id": "eiKnSfGfgW0U",
        "outputId": "89b23cc8-b965-4a51-c4a4-b94f01de0a3f"
      },
      "execution_count": 28,
      "outputs": [
        {
          "output_type": "stream",
          "name": "stdout",
          "text": [
            "True\n"
          ]
        }
      ]
    },
    {
      "cell_type": "code",
      "source": [
        "#find(str,beg ,end):it will give the index of the first occurance from starting point\n",
        "#syntax:string.find(str,beg,end)\n",
        "print (a.find(\"h\",0,len(a)))"
      ],
      "metadata": {
        "colab": {
          "base_uri": "https://localhost:8080/"
        },
        "id": "5AwQnk_niBiH",
        "outputId": "f5167de5-ab98-4acc-cd38-3cb7f89ff2c7"
      },
      "execution_count": 29,
      "outputs": [
        {
          "output_type": "stream",
          "name": "stdout",
          "text": [
            "0\n"
          ]
        }
      ]
    },
    {
      "cell_type": "code",
      "source": [
        "#rfind(str,beg,end):oppsite of find it will give the index of the last occurence from the ending point\n",
        "#the syntax is:rfind (str, beg, end)\n",
        "a=\"ashwini\"\n",
        "print (a.rfind(\"i\",0,len(a)))"
      ],
      "metadata": {
        "colab": {
          "base_uri": "https://localhost:8080/"
        },
        "id": "q3rzPV16kWGo",
        "outputId": "d53f3986-c55b-4c06-c8ac-d9e74541c83d"
      },
      "execution_count": 2,
      "outputs": [
        {
          "output_type": "stream",
          "name": "stdout",
          "text": [
            "6\n"
          ]
        }
      ]
    },
    {
      "cell_type": "code",
      "source": [
        "#rfind(str,beg,end):oppsite of find it will give the index of the last occurence from the ending point\n",
        "#the syntax is:rfind (str, beg, end)\n",
        "a=\"ashw\"\n",
        "print (a.rfind(\"w\",4,len(a)))"
      ],
      "metadata": {
        "colab": {
          "base_uri": "https://localhost:8080/"
        },
        "id": "mQ08TWBB1KVX",
        "outputId": "f832525b-eaa4-4c62-e24e-c95313f72095"
      },
      "execution_count": 5,
      "outputs": [
        {
          "output_type": "stream",
          "name": "stdout",
          "text": [
            "-1\n"
          ]
        }
      ]
    },
    {
      "cell_type": "code",
      "source": [
        "#count() :it will give the count of items\n",
        "#syntax:str.count(str,beg,end)\n",
        "print (a.count(\"s\",0,len(a)))"
      ],
      "metadata": {
        "colab": {
          "base_uri": "https://localhost:8080/"
        },
        "id": "0wIKWB-81wr5",
        "outputId": "5a21bfac-7d73-4434-8225-8e12836360f6"
      },
      "execution_count": 6,
      "outputs": [
        {
          "output_type": "stream",
          "name": "stdout",
          "text": [
            "1\n"
          ]
        }
      ]
    },
    {
      "cell_type": "code",
      "source": [
        "#index(str,beg,end) :it will give the index of the particular item from starting point\n",
        "print (a.index(\"w\",0,len(a)))\n",
        "print (a.rindex(\"w\",0,len(a)))"
      ],
      "metadata": {
        "colab": {
          "base_uri": "https://localhost:8080/"
        },
        "id": "hko_nmJH2fms",
        "outputId": "99873a7e-9a08-4069-9289-f113a1d64d46"
      },
      "execution_count": 9,
      "outputs": [
        {
          "output_type": "stream",
          "name": "stdout",
          "text": [
            "3\n",
            "3\n"
          ]
        }
      ]
    },
    {
      "cell_type": "code",
      "source": [
        "#swapcase() :it will swap lower case to upper case to lower case and vise versa\n",
        "#syntax:str.swapcase()\n",
        "Z=\"AshWinI\"\n",
        "print (a.swapcase())\n",
        "print (Z.swapcase())"
      ],
      "metadata": {
        "colab": {
          "base_uri": "https://localhost:8080/"
        },
        "id": "Thw9Bmog3iGd",
        "outputId": "cbc4dd8f-ef61-410e-a9a1-34fd07efea14"
      },
      "execution_count": 12,
      "outputs": [
        {
          "output_type": "stream",
          "name": "stdout",
          "text": [
            "ASHW\n",
            "aSHwINi\n"
          ]
        }
      ]
    }
  ]
}