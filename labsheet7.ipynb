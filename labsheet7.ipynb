{
  "nbformat": 4,
  "nbformat_minor": 0,
  "metadata": {
    "colab": {
      "provenance": [],
      "authorship_tag": "ABX9TyNqlzlQf7dhpGKA+gT5ytxc",
      "include_colab_link": true
    },
    "kernelspec": {
      "name": "python3",
      "display_name": "Python 3"
    },
    "language_info": {
      "name": "python"
    }
  },
  "cells": [
    {
      "cell_type": "markdown",
      "metadata": {
        "id": "view-in-github",
        "colab_type": "text"
      },
      "source": [
        "<a href=\"https://colab.research.google.com/github/ashwinijadi123/Basic-python-programs/blob/main/labsheet7.ipynb\" target=\"_parent\"><img src=\"https://colab.research.google.com/assets/colab-badge.svg\" alt=\"Open In Colab\"/></a>"
      ]
    },
    {
      "cell_type": "markdown",
      "source": [
        "1.Suppose a list contains positive and negative numbers. Write a program to create two lists-\n",
        "one containing positive numbers and another containing negative numbers."
      ],
      "metadata": {
        "id": "lQHB7EJ-ay31"
      }
    },
    {
      "cell_type": "code",
      "source": [
        "l=[1,2,3,4,0,-1,-2,-3,-4,5,6,7]\n",
        "l1=[]\n",
        "l2=[]\n",
        "for i in l:\n",
        "   if i>=0:\n",
        "     l1.append(i)\n",
        "   else:\n",
        "     l2.append(i)\n",
        "print(l1)\n",
        "print(l2)"
      ],
      "metadata": {
        "colab": {
          "base_uri": "https://localhost:8080/"
        },
        "id": "yCeswYX_a1gm",
        "outputId": "0a5d571e-fac1-4f23-d365-dc0cf69421b6"
      },
      "execution_count": null,
      "outputs": [
        {
          "output_type": "stream",
          "name": "stdout",
          "text": [
            "[1, 2, 3, 4, 0, 5, 6, 7]\n",
            "[-1, -2, -3, -4]\n"
          ]
        }
      ]
    },
    {
      "cell_type": "markdown",
      "source": [
        "2.A list contains 5 stings. Write a program to convert all these strings to uppercase."
      ],
      "metadata": {
        "id": "xCXmIvDwa7S9"
      }
    },
    {
      "cell_type": "code",
      "source": [
        "l=[\"hello\",\"hii\",\"van\",\"python\"]\n",
        "l2=[]\n",
        "for i in l:\n",
        "   x=i.upper()\n",
        "   l2.append(x)\n",
        "print(l2)"
      ],
      "metadata": {
        "colab": {
          "base_uri": "https://localhost:8080/"
        },
        "id": "gDT1OGhzbCtj",
        "outputId": "bacbafe9-0c09-4923-998c-ff9c91eca2a7"
      },
      "execution_count": null,
      "outputs": [
        {
          "output_type": "stream",
          "name": "stdout",
          "text": [
            "['HELLO', 'HII', 'VAN', 'PYTHON']\n"
          ]
        }
      ]
    },
    {
      "cell_type": "markdown",
      "source": [
        "3.Write a program to obtain a median value of a list of numbers, without disturbing the order of\n",
        "the numbers in the list."
      ],
      "metadata": {
        "id": "antL1Dc9bDny"
      }
    },
    {
      "cell_type": "code",
      "source": [
        "l=[1,2,4,6,6,7,8]\n",
        "if len(l)%2==0:\n",
        "   print((len(l)+1)/2)\n",
        "else:\n",
        "   print(\"index number\",len(l)//2,\"is the median\")"
      ],
      "metadata": {
        "colab": {
          "base_uri": "https://localhost:8080/"
        },
        "id": "QQvKI6ojbIxa",
        "outputId": "af738997-2a2e-4a63-d6c6-73c797fcba0a"
      },
      "execution_count": null,
      "outputs": [
        {
          "output_type": "stream",
          "name": "stdout",
          "text": [
            "index number 3 is the median\n"
          ]
        }
      ]
    },
    {
      "cell_type": "markdown",
      "source": [
        "4.A list contains only positive and negative integers. Write a program to obtain the number of\n",
        "negative numbers present in the list, without loop and without list comprehension."
      ],
      "metadata": {
        "id": "lzED0Tr0bOAm"
      }
    },
    {
      "cell_type": "code",
      "source": [
        "l=[1,2,3,45,-1,-2,-3,-4,0]\n",
        "c=0\n",
        "for i in l:\n",
        "   if i<0:\n",
        "       c=c+1\n",
        "print(\"the number of negative integers are\",c)"
      ],
      "metadata": {
        "id": "okEOaM5AbPvg",
        "colab": {
          "base_uri": "https://localhost:8080/"
        },
        "outputId": "2d1a2ed3-bdac-46e9-a1bf-9476d9f3cc72"
      },
      "execution_count": null,
      "outputs": [
        {
          "output_type": "stream",
          "name": "stdout",
          "text": [
            "the number of negative integers are 4\n"
          ]
        }
      ]
    },
    {
      "cell_type": "markdown",
      "source": [
        "5.Write a program that converts list of temperatures in Fahrenheit degrees to equivalent Celsius\n",
        "degrees."
      ],
      "metadata": {
        "id": "qsn2WFlLbTYO"
      }
    },
    {
      "cell_type": "code",
      "source": [
        "l=[23,77,44,77]\n",
        "c=[]\n",
        "a=5/9\n",
        "for i in l:\n",
        "    b=a*(i-32)\n",
        "    c.append(b)\n",
        "print(c)\n"
      ],
      "metadata": {
        "id": "QOYvWH8hbVUG",
        "colab": {
          "base_uri": "https://localhost:8080/"
        },
        "outputId": "13dd7dc7-7ef5-4d91-d481-e4c96ac1b4bd"
      },
      "execution_count": null,
      "outputs": [
        {
          "output_type": "stream",
          "name": "stdout",
          "text": [
            "[-5.0, 25.0, 6.666666666666667, 25.0]\n"
          ]
        }
      ]
    },
    {
      "cell_type": "markdown",
      "source": [
        "6.Write a program that splits a list into two lists: one containing elements at even indexes, and\n",
        "another at odd indexes."
      ],
      "metadata": {
        "id": "Vk0m5cs4bV32"
      }
    },
    {
      "cell_type": "code",
      "source": [
        "l=[1,2,3,4,5,6,7]\n",
        "y=l[0:len(l):2]\n",
        "print(y)\n",
        "l1=l[1:len(l):2]\n",
        "print(l1)"
      ],
      "metadata": {
        "id": "PzKMnNB3bai0",
        "colab": {
          "base_uri": "https://localhost:8080/"
        },
        "outputId": "44736025-4eb4-476a-d741-ac011e80af27"
      },
      "execution_count": null,
      "outputs": [
        {
          "output_type": "stream",
          "name": "stdout",
          "text": [
            "[1, 3, 5, 7]\n",
            "[2, 4, 6]\n"
          ]
        }
      ]
    },
    {
      "cell_type": "markdown",
      "source": [
        "7. Write a program to find the intersection and union of two lists"
      ],
      "metadata": {
        "id": "5ga9WY9Abm9k"
      }
    },
    {
      "cell_type": "code",
      "source": [
        "l1=[1,2,3,4,5,6]\n",
        "l2=[3,4,5,7,8]\n",
        "l3=[]\n",
        "for i in l1:\n",
        "    if i in l2:\n",
        "       l3.append(i)\n",
        "else:\n",
        "    x=l1+l2\n",
        "y=set(x)\n",
        "l4=list(y)\n",
        "print(\"the union of l1 and l2 is\",l4)\n",
        "print(\"the intersection of l1 and l2 is\",l3)"
      ],
      "metadata": {
        "colab": {
          "base_uri": "https://localhost:8080/"
        },
        "id": "cTwzR7i7bopJ",
        "outputId": "458e4840-0503-49e3-efb3-8f8d2c37069d"
      },
      "execution_count": null,
      "outputs": [
        {
          "output_type": "stream",
          "name": "stdout",
          "text": [
            "the union of l1 and l2 is [1, 2, 3, 4, 5, 6, 7, 8]\n",
            "the intersection of l1 and l2 is [3, 4, 5]\n"
          ]
        }
      ]
    },
    {
      "cell_type": "markdown",
      "source": [
        "8. Write a program to reverse the given list without using reverse() method and without using list\n",
        "comprehension"
      ],
      "metadata": {
        "id": "MoQ6Mjwwbs5Z"
      }
    },
    {
      "cell_type": "code",
      "source": [
        "l=[1,2,3,4,5]\n",
        "x=[]\n",
        "for i in (l):\n",
        "    x.append(l[-i])\n",
        "print(x)"
      ],
      "metadata": {
        "id": "0PdQhstVbuAZ",
        "colab": {
          "base_uri": "https://localhost:8080/"
        },
        "outputId": "ddb3aaa7-2e90-495d-847e-524dc82b7ffd"
      },
      "execution_count": null,
      "outputs": [
        {
          "output_type": "stream",
          "name": "stdout",
          "text": [
            "[5, 4, 3, 2, 1]\n"
          ]
        }
      ]
    },
    {
      "cell_type": "markdown",
      "source": [
        "9. Write a function that accepts two positive integers, a and b and returns a list of all the even\n",
        "numbers between a and b (including a and not including b)"
      ],
      "metadata": {
        "id": "EDcMcoVLbyAJ"
      }
    },
    {
      "cell_type": "code",
      "source": [
        "def even(a,b=10):\n",
        "   for i in range(a+1,b):\n",
        "        if i%2==0:\n",
        "           print(i,\"even\")\n",
        "\n",
        "even(a=1)"
      ],
      "metadata": {
        "id": "M7EfU1dnbzYq",
        "colab": {
          "base_uri": "https://localhost:8080/"
        },
        "outputId": "ba84557d-6b92-4b8e-8e0a-424d4a6bfad2"
      },
      "execution_count": null,
      "outputs": [
        {
          "output_type": "stream",
          "name": "stdout",
          "text": [
            "2 even\n",
            "4 even\n",
            "6 even\n",
            "8 even\n"
          ]
        }
      ]
    },
    {
      "cell_type": "markdown",
      "source": [
        "10. Write a function is_Lst_Palindrome(Lst) to check whether a list is palindrome. It should return\n",
        "True if Lst is palindrome and False if Lst is not palindrome."
      ],
      "metadata": {
        "id": "Pyzp1fXUb4km"
      }
    },
    {
      "cell_type": "code",
      "source": [
        "def lst_palindrome(l):\n",
        "   l2=[]\n",
        "   for i in (l):\n",
        "      l2.append(l[-i])\n",
        "   if l==l2:\n",
        "         print(\"it is palindrome\")\n",
        "   else:\n",
        "         print(\"it is not palindrome\")\n",
        "lst_palindrome(l=[1,2,3,4])\n",
        "lst_palindrome(l=[1,2,1])"
      ],
      "metadata": {
        "id": "DZS6pwppb5ze",
        "colab": {
          "base_uri": "https://localhost:8080/"
        },
        "outputId": "640e2c77-f932-4959-e949-0bc5ca33afdc"
      },
      "execution_count": null,
      "outputs": [
        {
          "output_type": "stream",
          "name": "stdout",
          "text": [
            "it is not palindrome\n",
            "it is palindrome\n"
          ]
        }
      ]
    },
    {
      "cell_type": "markdown",
      "source": [
        "11. Write a function check_duplicate(Lst) which returns True if a list Lst contains duplicate\n",
        "elements. It should return False, if all the elements in the list Lst are unique."
      ],
      "metadata": {
        "id": "Ms5HXBLVb-AH"
      }
    },
    {
      "cell_type": "code",
      "source": [
        "def check_duplicate ():\n",
        "  l=[1,2,3,3,4,5]\n",
        "  l1=[]\n",
        "  for i in l:\n",
        "     if i not in l1:\n",
        "         l1. append(i)\n",
        "\n",
        "  else:\n",
        "       if l==l1:\n",
        "          print( \"false list does not consist duplicates\")\n",
        "       else:\n",
        "          print(\"true list consists duplicates\")\n",
        "check_duplicate()"
      ],
      "metadata": {
        "colab": {
          "base_uri": "https://localhost:8080/"
        },
        "outputId": "2b221be1-6f0f-4661-c9e6-960ec96a6210",
        "id": "ttbRI9tH4deb"
      },
      "execution_count": null,
      "outputs": [
        {
          "output_type": "stream",
          "name": "stdout",
          "text": [
            "true list consists duplicates\n"
          ]
        }
      ]
    },
    {
      "cell_type": "markdown",
      "source": [
        "12. Write a program that prompts a user to enter the element of a list and add the element to a list.\n",
        "Write a function maximum(Lst) and minimum(Lst) to find the maximum and minimum\n",
        "number from the list."
      ],
      "metadata": {
        "id": "ZZuYh9JqcC6v"
      }
    },
    {
      "cell_type": "code",
      "source": [
        "def max_min():\n",
        "  l2=[]\n",
        "  for i in range(1,9):\n",
        "      l2.append(i)\n",
        "      y=max(l2)\n",
        "      x=min(l2)\n",
        "  print(\"minimum number is\",x)\n",
        "  print(\"maximum number is\",y)\n",
        "max_min()"
      ],
      "metadata": {
        "id": "yI7wjAr0cETG",
        "colab": {
          "base_uri": "https://localhost:8080/"
        },
        "outputId": "9a7bdc48-c97d-4ca7-9402-c9943748cd76"
      },
      "execution_count": null,
      "outputs": [
        {
          "output_type": "stream",
          "name": "stdout",
          "text": [
            "minimum number is 1\n",
            "maximum number is 8\n"
          ]
        }
      ]
    },
    {
      "cell_type": "markdown",
      "source": [
        "13. Write a function Assign_grade(Lst) which reads the marks of marks of a student from a list\n",
        "and assigns a grade based on the following conditions:\n",
        "if Marks >=90 then grade A\n",
        "if Marks >=80 && <90 then grade B\n",
        "if Marks >65 && <80 then grade C\n",
        "if Marks >=40 && <=65 then grade D\n",
        "if Marks <40 then grade F"
      ],
      "metadata": {
        "id": "iaw4T3dicH_S"
      }
    },
    {
      "cell_type": "code",
      "source": [
        "marks=[]\n",
        "def assign_grade():\n",
        "    global marks\n",
        "    while (1):\n",
        "      x=int(input(\"enter your marks:\"))\n",
        "      marks. append(x)\n",
        "      if x>=90:\n",
        "          print(\"grade A\")\n",
        "\n",
        "      elif x>=80 and x<90:\n",
        "           print(\"grade B\")\n",
        "\n",
        "      elif x>65 and  x<80:\n",
        "            print(\"grade C\")\n",
        "\n",
        "      elif x>=40 and x<=65:\n",
        "            print(\"grade D\")\n",
        "\n",
        "      else:\n",
        "            print(\"grade F\")\n",
        "            break\n",
        "    print(marks)\n",
        "assign_grade()"
      ],
      "metadata": {
        "id": "CLZBz8oucJJx",
        "colab": {
          "base_uri": "https://localhost:8080/"
        },
        "outputId": "969faadf-5d81-4124-e0b4-b953c122b4b2"
      },
      "execution_count": null,
      "outputs": [
        {
          "output_type": "stream",
          "name": "stdout",
          "text": [
            "enter your marks:97\n",
            "grade A\n",
            "enter your marks:65\n",
            "grade D\n",
            "enter your marks:80\n",
            "grade B\n",
            "enter your marks:67\n",
            "grade C\n",
            "enter your marks:40\n",
            "grade D\n",
            "enter your marks:35\n",
            "grade F\n",
            "[97, 65, 80, 67, 40, 35]\n"
          ]
        }
      ]
    },
    {
      "cell_type": "markdown",
      "source": [
        "14. Write a function check_duplicate(Lst) which returns True if a list Lst contains duplicate\n",
        "elements. It should return False if all the elements in the list Lst are unique."
      ],
      "metadata": {
        "id": "M9FI43JIcPvp"
      }
    },
    {
      "cell_type": "code",
      "source": [
        "def check_duplicate ():\n",
        "  l=[1,2,3,3,4,5]\n",
        "  l1=[]\n",
        "  for i in l:\n",
        "     if i not in l1:\n",
        "         l1. append(i)\n",
        "\n",
        "  else:\n",
        "       if l==l1:\n",
        "          print( \"false list does not consist duplicates\")\n",
        "       else:\n",
        "          print(\"true list consists duplicates\")\n",
        "check_duplicate()"
      ],
      "metadata": {
        "id": "s5vHbOojcQtx",
        "colab": {
          "base_uri": "https://localhost:8080/"
        },
        "outputId": "01f0c88f-75a0-4aa3-bdc4-5d38d10af8a7"
      },
      "execution_count": null,
      "outputs": [
        {
          "output_type": "stream",
          "name": "stdout",
          "text": [
            "true list consists duplicates\n"
          ]
        }
      ]
    },
    {
      "cell_type": "markdown",
      "source": [
        "15. Write a program to return prime numbers from a list."
      ],
      "metadata": {
        "id": "DYv3-OR9cVfd"
      }
    },
    {
      "cell_type": "code",
      "source": [
        "a=[]\n",
        "for i in range(2,10):\n",
        "    for j in range(2,i):\n",
        "        if i%j==0:\n",
        "            break\n",
        "    else:\n",
        "            a.append(i)\n",
        "print(a)"
      ],
      "metadata": {
        "id": "ub6XuEk4cWzG",
        "colab": {
          "base_uri": "https://localhost:8080/"
        },
        "outputId": "5e93e290-e25e-4665-bb97-560b92e6e727"
      },
      "execution_count": null,
      "outputs": [
        {
          "output_type": "stream",
          "name": "stdout",
          "text": [
            "[2, 3, 5, 7]\n"
          ]
        }
      ]
    },
    {
      "cell_type": "code",
      "source": [
        "l=[1,2,3,4,5,6,7,8]\n",
        "for i in l:\n",
        "  if i>1:\n",
        "   is_prime=True\n",
        "   for j in range(2,i):\n",
        "       if i%j==0:\n",
        "         is_prime=False\n",
        "         break\n",
        "   if is_prime:\n",
        "      print(i,\"prime\")\n",
        "   else:\n",
        "      print(i,\"non prime\")"
      ],
      "metadata": {
        "colab": {
          "base_uri": "https://localhost:8080/"
        },
        "id": "PtcI5Sm770dZ",
        "outputId": "5b5829a3-5e9e-4d78-835a-6401a39f4a46"
      },
      "execution_count": null,
      "outputs": [
        {
          "output_type": "stream",
          "name": "stdout",
          "text": [
            "2 prime\n",
            "3 prime\n",
            "4 non prime\n",
            "5 prime\n",
            "6 non prime\n",
            "7 prime\n",
            "8 non prime\n"
          ]
        }
      ]
    }
  ]
}